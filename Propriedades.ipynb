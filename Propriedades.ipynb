{
 "cells": [
  {
   "cell_type": "markdown",
   "id": "2003cd4d-4a7d-47ba-9c24-74f50e167aeb",
   "metadata": {},
   "source": [
    "# Propriedades de Sistemas Lineares e Invariantes no tempo\n",
    "\n",
    "Renato Naville Watanabe"
   ]
  },
  {
   "cell_type": "code",
   "execution_count": null,
   "id": "c2a84196-d14f-4f29-8e8d-e8e12548420c",
   "metadata": {},
   "outputs": [],
   "source": []
  },
  {
   "cell_type": "code",
   "execution_count": null,
   "id": "3eea53a1-aa35-47ad-b438-02c24d4ac528",
   "metadata": {},
   "outputs": [],
   "source": []
  },
  {
   "cell_type": "markdown",
   "id": "fe6d610c-4599-4d64-8c97-24f7dda437ae",
   "metadata": {},
   "source": [
    "## Exercícios"
   ]
  },
  {
   "cell_type": "markdown",
   "id": "c0e2a6be-c176-4b08-b95b-d1128154a7ba",
   "metadata": {},
   "source": [
    "## Referências"
   ]
  },
  {
   "cell_type": "code",
   "execution_count": null,
   "id": "74e6c1ec-6fac-484c-99f8-8700b8d69c82",
   "metadata": {},
   "outputs": [],
   "source": []
  }
 ],
 "metadata": {
  "kernelspec": {
   "display_name": "Python 3 (ipykernel)",
   "language": "python",
   "name": "python3"
  },
  "language_info": {
   "codemirror_mode": {
    "name": "ipython",
    "version": 3
   },
   "file_extension": ".py",
   "mimetype": "text/x-python",
   "name": "python",
   "nbconvert_exporter": "python",
   "pygments_lexer": "ipython3",
   "version": "3.9.16"
  }
 },
 "nbformat": 4,
 "nbformat_minor": 5
}
