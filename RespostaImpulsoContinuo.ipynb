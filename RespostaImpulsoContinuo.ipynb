{
 "cells": [
  {
   "cell_type": "markdown",
   "id": "88cd5f75-700a-46e4-b2b4-cbcd8401f3bd",
   "metadata": {},
   "source": [
    "# Resposta ao impulso de tempo contínuo\n",
    "\n",
    "Renato Naville Watanabe"
   ]
  },
  {
   "cell_type": "markdown",
   "id": "fed8542a-c3c9-481e-97c3-3373962fbca8",
   "metadata": {},
   "source": [
    "A **resposta ao impulso** (às vezes também chamada de **resposta impulsiva**) de um sistema contínuo é o sinal de saída de um sistema quando um impulso $\\delta(t)$ é usado como sinal de entrada do sistema e inicialmente o sistema está em repouso (a saída $y(t)$ e todas as suas derivadas iguais a zero). A resposta ao impulso é normalmente representada pela letra $h(t)$.\n",
    "\n",
    "<img src=Imagens/diagimpulsocont.png width=\"300\">"
   ]
  },
  {
   "cell_type": "markdown",
   "id": "c10b8020-6b23-44ff-8550-24aadd44eba4",
   "metadata": {},
   "source": [
    "O sinal impulso é um sinal que ocorre em apenas um instante que tem amplitude infinita. É como se desse uma \"pancada\" no sistema ou o sistema fosse atingido por um raio. É algo muito forte que acontece por apenas um instante. Após o instante em que o impulso acontece ($t=0$) a entrada fica zero novamente.\n",
    "\n",
    "Mas nesse único instante, o sistema recebe uma quantidade de energia que muda toda a configuração do sistema, mudando assim os valores do sinal de saída e de suas derivadas. Desta forma é como se as condições iniciais do sistema mudassem devido ao impulso. "
   ]
  },
  {
   "cell_type": "markdown",
   "id": "072d34c2-f27e-426c-acb8-8d162de54733",
   "metadata": {},
   "source": [
    "Portanto, para encontrar a resposta ao impulso de um sistema contínuo, linear e invariante no tempo, com a seguinte forma geral de equação diferencial:\n",
    "\n",
    "$$\\frac{d^Ny}{dt^N} + a_{N-1}\\frac{d^{N-1}y}{dt^{N-1}}+...+a_0y(t) = b_M\\frac{d^Mx}{dt^M} +...+b_2\\frac{d^2x}{dt^2}+b_1\\frac{dx}{dt} + b_0x(t) $$\n",
    "\n",
    "basta encontrar a resposta de entrada nula do sistema considerando as novas condições iniciais devido ao impulso. Aqui esse sinal terá o símbolo $w(t)$ (é um sinal intermediário no cálculo da resposta ao impulso, sem nenhum significado físico). Essas condições iniciais são:\n",
    "\n",
    "$$\\frac{d^{N-1}w}{dt^{N-1}}(0) = 1, \\frac{d^{N-2}w}{dt^{N-2}}(0) = 0, ..., w(0) = 0$$\n",
    "\n",
    "Uma vez encontrada esse sinal $w(t)$, para encontrar a resposta ao impulso basta fazer:\n",
    "\n",
    "$$h(t)= \\left(b_M\\frac{d^Mw}{dt^M} +...+b_2\\frac{d^2w}{dt^2}+b_1\\frac{dw}{dt} + b_0w(t)\\right)u(t) $$\n",
    "\n",
    "A demonstração desse método está no vídeo abaixo."
   ]
  },
  {
   "cell_type": "code",
   "execution_count": 184,
   "id": "1f977dfb-e6e5-4941-b280-a3e6e15c6c18",
   "metadata": {
    "tags": []
   },
   "outputs": [],
   "source": [
    "from manim import *\n",
    "from manim.utils.color import Colors\n",
    "config.media_width = \"100%\"\n",
    "config.verbosity = \"WARNING\""
   ]
  },
  {
   "cell_type": "code",
   "execution_count": 189,
   "id": "6146ba47-8f28-4a6d-a211-dbacfd05ed2e",
   "metadata": {
    "tags": []
   },
   "outputs": [
    {
     "name": "stderr",
     "output_type": "stream",
     "text": [
      "                                                                                                                       \r"
     ]
    },
    {
     "data": {
      "text/html": [
       "<video src=\"media/jupyter/ImpulseObtain@2023-04-28@13-04-03.mp4\" controls autoplay loop style=\"max-width: 100%;\"  >\n",
       "      Your browser does not support the <code>video</code> element.\n",
       "    </video>"
      ],
      "text/plain": [
       "<IPython.core.display.Video object>"
      ]
     },
     "metadata": {},
     "output_type": "display_data"
    }
   ],
   "source": [
    "%%manim -qm ImpulseObtain\n",
    "\n",
    "def step(x):\n",
    "    if x >=0: \n",
    "        return 1\n",
    "    else:\n",
    "        return 0   \n",
    "\n",
    "def zeros(x):\n",
    "    return 0   \n",
    "\n",
    "\n",
    "class ImpulseObtain(Scene):\n",
    "    def construct(self):\n",
    "        text1=MathTex(\n",
    "            \"\\\\frac{d^Ny}{dt^N} + a_{N-1}\\\\frac{d^{N-1}y}{dt^{N-1}}+a_{N-2}\\\\frac{d^{N-2}y}{dt^{N-2}}+...+a_0y(t)\", \n",
    "            \"=\", \n",
    "            \"b_M\\\\frac{d^Mx}{dt^M} +...+b_2\\\\frac{d^2x}{dt^2}+b_1\\\\frac{dx}{dt} + b_0x(t) \",\n",
    "        font_size=35)\n",
    "        self.play(Write(text1))\n",
    "        text2=MathTex(\n",
    "            \"\\\\frac{d^Ny}{dt^N} + a_{N-1}\\\\frac{d^{N-1}y}{dt^{N-1}}+a_{N-2}\\\\frac{d^{N-2}y}{dt^{N-2}}+...+a_0y(t)\", \n",
    "            \"=\", \n",
    "            \"w(t)\",        \n",
    "        font_size=35)\n",
    "        \n",
    "        text3=MathTex(\n",
    "            \"w(t)\", \n",
    "            \"=\", \n",
    "            \"b_M\\\\frac{d^Mx}{dt^M} +...+b_2\\\\frac{d^2x}{dt^2}+b_1\\\\frac{dx}{dt} + b_0x(t) \",        \n",
    "        font_size=35).move_to(DOWN)\n",
    "        text5=MathTex(\n",
    "            \"\\\\frac{d^Nw}{dt^N} + a_{N-1}\\\\frac{d^{N-1}w}{dt^{N-1}}+a_{N-2}\\\\frac{d^{N-2}w}{dt^{N-2}}+...+a_0w(t)\", \n",
    "            \"=\", \n",
    "            \"\\\\delta(t)\",        \n",
    "        font_size=35).move_to((0,3,0))\n",
    "        \n",
    "        text6=MathTex(\n",
    "            \"h(t)\", \n",
    "            \"=\", \n",
    "            \"b_M\\\\frac{d^Mw}{dt^M} +...+b_2\\\\frac{d^2w}{dt^2}+b_1\\\\frac{dw}{dt} + b_0w(t) \",        \n",
    "        font_size=35).move_to((0,2,0))\n",
    "        brace1 = Brace(text1[2])\n",
    "        brace1text = brace1.get_tex(\"w(t)\")\n",
    "        S1text = MathTex('S_1:  ').move_to((-5,0,0))\n",
    "        S2text = MathTex('S_2:  ').move_to((-5,-1,0))\n",
    "        # framebox2 = SurroundingRectangle(text[2], buff = .1)\n",
    "        # self.play(\n",
    "        #     Create(framebox1),\n",
    "        # )\n",
    "        self.wait()\n",
    "        self.add(brace1)\n",
    "        self.wait()\n",
    "        self.add(brace1text)\n",
    "        self.wait()\n",
    "        self.remove(brace1, brace1text)\n",
    "        self.play(\n",
    "            ReplacementTransform(text1,text2),\n",
    "            Write(text3)\n",
    "        )\n",
    "        self.add(S1text, S2text)\n",
    "        self.wait(2)\n",
    "        S1 = MathTex('S1').move_to((-5,0,0))\n",
    "        S2 = MathTex('S2').move_to((-5,-1,0))\n",
    "        self.play(S1.animate.move_to((3,-2,0)),\n",
    "                  S2.animate.move_to((-3,-2,0)),\n",
    "                  S1text.animate.move_to((-5,3,0)),\n",
    "                  S2text.animate.move_to((-5,2,0)), \n",
    "                  text2.animate.move_to((0,3,0)),\n",
    "                  text3.animate.move_to((0,2,0)))\n",
    "        rec1 = SurroundingRectangle(S1, buff=0.7)\n",
    "        rec2 = SurroundingRectangle(S2, buff=0.7)\n",
    "        line1 = Arrow([-2.05,-2,0], [2,-2,0], buff=0)\n",
    "        rec3 = SurroundingRectangle(Group(rec1, rec2, line1), buff=0.5)\n",
    "        line2 = Arrow([-6,-2,0], [-4,-2,0], buff=0)\n",
    "        line3 = Arrow([4,-2,0], [6,-2,0], buff=0)\n",
    "        x = MathTex('x(t)').move_to((-5,-1.5,0))\n",
    "        y = MathTex('y(t)').move_to((5,-1.5,0))\n",
    "        w = MathTex('w(t)').move_to((0,-1.5,0))\n",
    "        delta = MathTex('\\\\delta(t)').move_to((-5,-1.5,0))\n",
    "        h = MathTex('h(t)').move_to((5,-1.5,0))\n",
    "        self.add(rec1, rec2, line1, line2, line3, x, y, w, rec3)\n",
    "        self.wait(2)\n",
    "        self.play(ReplacementTransform(x, delta),\n",
    "                  ReplacementTransform(y, h))\n",
    "        self.wait(2)\n",
    "        text4 = Text('SLIT').move_to((0,0,0))\n",
    "        self.add(text4)\n",
    "        self.play(S1.animate.move_to((-3,-2,0)),\n",
    "                  S2.animate.move_to((3,-2,0)),\n",
    "                  ReplacementTransform(text2, text5),\n",
    "                  ReplacementTransform(text3, text6)\n",
    "                  )\n",
    "        self.wait(2)\n",
    "        sis = Group(line1, line2, line3, S1, S2, rec1, rec2, rec3, delta, h, w)\n",
    "        S2group = Group(S2text, text6)\n",
    "        \n",
    "        self.remove(text4)\n",
    "        self.play(sis.animate.scale(0.5), S2group.animate.scale(0.7))\n",
    "        self.play(sis.animate.move_to((-4,-3,0)), \n",
    "                  S2group.animate.move_to((2.5, -3,0)))\n",
    "        \n",
    "        \n",
    "        ax = Axes(x_range=[-1, 4], y_range=[-1, 5], tips=False).scale(0.2).move_to((-6, 1.5,0))\n",
    "        line4 = Arrow([-6.7,1.1,0], [-6.7,2,0], buff=0, color=BLUE)\n",
    "        \n",
    "        ax2 = Axes(x_range=[-1, 4], y_range=[-1, 5], tips=False).scale(0.2).move_to((-3, 1.5,0))\n",
    "        graph2 = ax2.plot(lambda x: step(x), color=BLUE, x_range=[-1, 0.5, 0.01],\n",
    "                        use_smoothing=False)\n",
    "        \n",
    "        ax3 = Axes(x_range=[-1, 4], y_range=[-1, 5], tips=False).scale(0.2).move_to((0, 1.5,0))\n",
    "        graph3 = ax3.plot(lambda x: zeros(x), color=BLUE, x_range=[-1, 0.5, 0.01],\n",
    "                            use_smoothing=False)\n",
    "        \n",
    "        ax4 = Axes(x_range=[-1, 4], y_range=[-1, 5], tips=False).scale(0.2).move_to((2.7, 1.5,0))\n",
    "        graph4 = ax4.plot(lambda x: zeros(x), color=BLUE, x_range=[-1, 0.5, 0.01],\n",
    "                        use_smoothing=False)\n",
    "        \n",
    "        ax5 = Axes(x_range=[-1, 4], y_range=[-1, 5], tips=False).scale(0.2).move_to((6, 1.5,0))\n",
    "        line5 = Arrow([5.3,1.1,0], [5.3,2,0], buff=0, color=BLUE)\n",
    "        \n",
    "        text6 = MathTex('+').move_to((-4.8,1.5,0))\n",
    "        text7 = MathTex('+').move_to((-1.8,1.5,0))\n",
    "        text8 = MathTex('...').move_to((1.2,1.5,0))\n",
    "        text9 = MathTex('=').move_to((4.2,1.5,0))\n",
    "        self.add(ax, line4, ax2, graph2, ax3, graph3, \n",
    "                 ax4, graph4, ax5, line5, \n",
    "                 text6, text7, text8, text9)\n",
    "        self.wait(2)\n",
    "        text10 = MathTex('\\\\frac{d^Nw}{dt^N}(0) = \\\\delta(0)').next_to(ax, DOWN).scale(0.7)\n",
    "        text11 = MathTex('\\\\frac{d^{N-1}w}{dt^{N-1}}(0) = 1').next_to(ax2, DOWN).scale(0.7)\n",
    "        text12 = MathTex('\\\\frac{d^{N-2}w}{dt^{N-2}}(0) = 0').next_to(ax3, DOWN).scale(0.7)\n",
    "        text13 = MathTex('w(0) = 0').next_to(ax4, DOWN).scale(0.7)\n",
    "        self.add(text10, text11, text12, text13)   \n",
    "        winit = Group(text10, text11, text12, text13)\n",
    "        self.wait(5)\n",
    "        self.remove(ax, line4, ax2, graph2, ax3, graph3, \n",
    "                    ax4, graph4, ax5, line5, text6, \n",
    "                    text7, text8, text9)\n",
    "        text13 =  MathTex('\\\\frac{d^Nw}{dt^N}(0) = \\\\delta(0), ', '\\\\frac{d^{N-1}w}{dt^{N-1}}(0) = 1, ',\n",
    "                          '\\\\frac{d^{N-2}w}{dt^{N-2}}(0) = 0, ','...', 'w(0) = 0').scale(0.6).next_to(text5, DOWN)   \n",
    "        self.play(ReplacementTransform(winit, text13))\n",
    "        self.wait(3)\n",
    "        text14 = MathTex('w(t) = y_{zi}(t), \\\\text{ com } ', '\\\\frac{d^{N-1}w}{dt^{N-1}}(0) = 1, ',\n",
    "                          '\\\\frac{d^{N-2}w}{dt^{N-2}}(0) = 0, ','...', 'w(0) = 0').scale(0.6).next_to(text5, DOWN)\n",
    "        self.play(ReplacementTransform(text13, text14))\n",
    "        self.wait(2)\n",
    "        S1group = Group(S1text, text5)\n",
    "        self.play(S2group.animate.scale(1/0.7), S1group.animate.scale(0.7))\n",
    "        self.play(S2group.animate.move_to((-2, 3,0)),\n",
    "                  S1group.animate.move_to((2.5, -3, 0)))\n",
    "        \n",
    "        self.wait(2)\n",
    "        text15=MathTex(\n",
    "            \"h(t)\", \n",
    "            \"=\", \n",
    "            \"b_M\\\\frac{d^Mw}{dt^M} +...+b_2\\\\frac{d^2w}{dt^2}+b_1\\\\frac{dw}{dt} + b_0w(t) \",        \n",
    "        font_size=35).move_to((-1.5,3,0))\n",
    "        self.remove(text14)\n",
    "        self.play(ReplacementTransform(S2group, text15))\n",
    "        self.wait(5)\n",
    "        \n",
    "        \n",
    "        \n",
    "        \n",
    "        "
   ]
  },
  {
   "cell_type": "markdown",
   "id": "d300155d-6aee-4577-961e-a2d3748a1132",
   "metadata": {},
   "source": [
    "## Exemplo 1:\n",
    "\n",
    "Vamos encontrar a resposta ao impulso para o sistema com a equação diferencial abaixo:\n",
    "\n",
    "$\\frac{dy}{dt} - 0.5y(t) = x(t)$\n",
    "\n",
    "A raiz do polinômio característico da equação diferencial é $\\lambda_1=0.5$. Então $w(t)$ é:\n",
    "\n",
    "$w(t)=A_1e^{\\lambda t}$\n",
    "\n",
    "Considerando a condição inicial $w(0) = 1$.\n",
    "\n",
    "$w(t) = e^{0.5 t}$\n",
    "\n",
    "Portanto, a resposta ao impulso desse sistema é:\n",
    "\n",
    "$h(t) = e^{0.5 t}u(t)$"
   ]
  },
  {
   "cell_type": "markdown",
   "id": "6fc0e626-b29f-450f-a90b-dcd7b8194147",
   "metadata": {},
   "source": [
    "## Exemplo 2\n",
    "\n",
    "Vamos agora obter uma expressão da resposta ao impulso da seguinte equação diferencial:\n",
    "\n",
    "$\\frac{d^2y}{dt^2} + 3\\frac{dy}{dt} - 4y(t) = 3x(t) + \\frac{dx}{dt}$\n",
    "\n",
    "As raízes do polinômio característico da equação são:\n",
    "\n",
    "$\\lambda_1 = \\frac{-3 + \\sqrt{9+16}}{2} = 1$ e $\\lambda_2 = \\frac{-3 - \\sqrt{9+16}}{2} = -4$\n",
    "\n",
    "O sinal $w(t)$ é:\n",
    "\n",
    "$w(t) = A_1e^{t} + A_2e^{-4t}$, com $w(0) = 0$ e $\\frac{dw}{dt}(0) = 1$.\n",
    "\n",
    "Então:\n",
    "\n",
    "$w(t) = 0.2e^t-0.2e^{-4t}$\n",
    "\n",
    "Usando os coeficientes que multiplicam $x(t)$ e suas derivadas, temos:\n",
    "\n",
    "$$h(t) = (3w(t) + \\frac{dw}{dt})u(t) = (0.6e^t-0.6e^{-4t} + 0.2e^t +0.8e^{-4t})u(t) = (0.8e^t+0.2e^{-4t})u(t)$$"
   ]
  },
  {
   "cell_type": "markdown",
   "id": "c3d6cb78-8bb3-4f77-b8a1-009a95e0df64",
   "metadata": {},
   "source": [
    "## Exemplo 3\n",
    "\n",
    "Vamos encontrar a resposta ao impulso de um sistema com a seguinte equação diferencial.\n",
    "\n",
    "$$\\frac{d^2y}{dt^2} = -4\\frac{dy}{dt} - 4y(t) + 3x(t)$$\n",
    "\n",
    "O polinômio característico é:\n",
    "\n",
    "$\\lambda^2 + 4\\lambda + 4 = 0$\n",
    "\n",
    "As raízes da equação são iguais e iguais a -2. Então, o sinal $w(t)$ é:\n",
    "\n",
    "$w(t) = c_1e^{-2t} + c_2te^{-2t}$, com $w(0) = 0$ e $\\frac{dw}{dt}(0) = 1$.\n",
    "\n",
    "Então, \n",
    "\n",
    "$$w(t) = te^{-2t}$$\n",
    "\n",
    "Portanto , a resposta ao impulso é:\n",
    "\n",
    "$$h(t) = 3te^{-2t}u(t)$$\n",
    "\n",
    "\n",
    "\n"
   ]
  },
  {
   "cell_type": "markdown",
   "id": "0a87563c-d35f-400e-8641-9e2fff2bb8cc",
   "metadata": {},
   "source": [
    "## Exemplo 4\n",
    "\n",
    "Considere um sistema com a seguinte equação diferencial:\n",
    "\n",
    "$$\\frac{d^2y}{dt^2} = -2\\frac{dy}{dt} - 2y(t) + x(t) + 2\\frac{dx}{dt}$$\n",
    "\n",
    "Para encontrar a resposta ao impulso desse sistema, calculamos as raízes do seu polinômio característico.\n",
    "\n",
    "$\\lambda_1 = \\frac{-2 + \\sqrt{4-8}}{2} = -1+j$ e $\\lambda_2 = \\frac{-2 - \\sqrt{4-8}}{2} = -1-j$\n",
    "\n",
    "Como as raízes são complexas, o sinal $w(t)$ terá a forma:\n",
    "\n",
    "$w(t) = Ae^{-t}\\cos(t+\\theta)$, com $w(0) = 0$ e $\\frac{dw}{dt}(0) = 1$.\n",
    "\n",
    "Usando os valores iniciais, temos:\n",
    "\n",
    "$w(t) = e^{-t}\\cos\\left(t-\\frac{\\pi}{2}\\right)$\n",
    "\n",
    "Portanto, a resposta ao impulso é:\n",
    "\n",
    "$$h(t) = w(t) + 2\\frac{dw}{dt} = e^{-t}\\cos\\left(t-\\frac{\\pi}{2}\\right) - 2e^{-t}\\cos\\left(t-\\frac{\\pi}{2}\\right) - 2e^{-t}\\mathrm{sen}\\left(t-\\frac{\\pi}{2}\\right) = - e^{-t}\\cos\\left(t-\\frac{\\pi}{2}\\right) - 2e^{-t}\\mathrm{sen}\\left(t-\\frac{\\pi}{2}\\right)$$\n"
   ]
  },
  {
   "cell_type": "code",
   "execution_count": 10,
   "id": "8b4cb030-4c51-43e1-88cb-fdba2f4c7762",
   "metadata": {},
   "outputs": [
    {
     "data": {
      "text/plain": [
       "[<matplotlib.lines.Line2D at 0x7f7db65c62f0>]"
      ]
     },
     "execution_count": 10,
     "metadata": {},
     "output_type": "execute_result"
    },
    {
     "data": {
      "image/png": "[encoded data removed]",
      "text/plain": [
       "<Figure size 640x480 with 1 Axes>"
      ]
     },
     "metadata": {},
     "output_type": "display_data"
    }
   ],
   "source": [
    "import numpy as np\n",
    "import matplotlib.pyplot as plt\n",
    "\n",
    "dt = 0.01\n",
    "t = np.arange(0,10, dt)\n",
    "x = np.zeros_like(t)\n",
    "y = np.zeros_like(t)\n",
    "\n",
    "x[0] = 1/dt\n",
    "x2 = 0\n",
    "x1 = 0\n",
    "for i in range(len(t)):\n",
    "    dx1 = x2\n",
    "    dx2 = -3*x2 - 5*x1 + x[i]\n",
    "    \n",
    "    x1 = x1 + dt*dx1\n",
    "    x2 = x2 + dt*dx2\n",
    "    y[i] = 3*x1 + x2\n",
    "plt.plot(t, y)\n",
    "omega0 = np.sqrt(11)/2\n",
    "A = -2*np.sqrt(11)/11*np.exp(-3/2*t)\n",
    "theta = omega0*t - np.pi/2\n",
    "plt.plot(t,A*(-1.5*np.cos(theta)+omega0*np.sin(theta)), '--')\n",
    "        "
   ]
  },
  {
   "cell_type": "markdown",
   "id": "cc8b5ebb-81f3-4d11-94ab-cb3a19704c54",
   "metadata": {},
   "source": [
    "## Exercícios\n",
    "\n",
    "**1)** Encontre a resposta ao impulso dos sistemas descritos pelas seguintes equações diferenciais e condições iniciais.\n",
    "\n",
    "a) $\\frac{d^2y}{dt^2} = -4\\frac{dy}{dt}-6y(t) + \\frac{dx}{dt} + x(t)$, com $y(0) = 2, \\frac{dy}{dt}(0) = 1$\n",
    "\n",
    "b) $\\frac{d^2y}{dt^2} = -4\\frac{dy}{dt}-4y(t)  + x(t)$, com $y(0) = 3, \\frac{dy}{dt}(0) = -4$\n",
    "\n",
    "c) $\\frac{d^2y}{dt^2} = -\\frac{dy}{dt} + \\frac{dx}{dt} + x(t)$, com $y(0) = 1, \\frac{dy}{dt}(0) = 1$\n",
    "\n",
    "d) $\\frac{d^2y}{dt^2} = -4y(t) + x(t)$, com $y(0) = 0, \\frac{dy}{dt}(0) = 6$\n",
    "\n",
    "e) $\\frac{d^2y}{dt^2} = -4\\frac{dy}{dt}-13y(t) + 4\\frac{dx}{dt} + 2x(t)$, com $y(0) = 1, \\frac{dy}{dt}(0) = 9.9$\n",
    "\n",
    "f) $\\frac{d^3y}{dt^3} = -1\\frac{d2y}{dt^2} + 2\\frac{d^2x}{dt^2} + 3x(t)$, com $y(0) = 2, \\frac{dy}{dt}(0) = 1, \\frac{d2y}{dt^2}(0) = 0$"
   ]
  },
  {
   "cell_type": "markdown",
   "id": "85098a5a-e4e7-4170-8a11-c8fcd98fe9c4",
   "metadata": {},
   "source": [
    "## Referências\n",
    "\n",
    "- Lathi, BP, Sinais e Sistemas Lineares, 2007"
   ]
  },
  {
   "cell_type": "code",
   "execution_count": null,
   "id": "e623847d-1ce9-478d-9774-d8e38f6d7853",
   "metadata": {},
   "outputs": [],
   "source": []
  }
 ],
 "metadata": {
  "kernelspec": {
   "display_name": "Python 3 (ipykernel)",
   "language": "python",
   "name": "python3"
  },
  "language_info": {
   "codemirror_mode": {
    "name": "ipython",
    "version": 3
   },
   "file_extension": ".py",
   "mimetype": "text/x-python",
   "name": "python",
   "nbconvert_exporter": "python",
   "pygments_lexer": "ipython3",
   "version": "3.10.9"
  }
 },
 "nbformat": 4,
 "nbformat_minor": 5
}
