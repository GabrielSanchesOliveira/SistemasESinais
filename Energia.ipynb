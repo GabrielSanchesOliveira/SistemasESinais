{
 "cells": [
  {
   "cell_type": "markdown",
   "id": "8ecc87d0-8039-45de-94dc-b23bb0788420",
   "metadata": {},
   "source": [
    "# Energia e Potência\n",
    "\n",
    "Renato Naville Watanabe"
   ]
  },
  {
   "cell_type": "markdown",
   "id": "d82ec77f-71c9-4e38-ba4d-bb77256a3ecf",
   "metadata": {},
   "source": [
    "## Energia e Potência de um sinal elétrico"
   ]
  },
  {
   "cell_type": "markdown",
   "id": "08c6488e-65ea-42f1-b1fe-1e61c894b42e",
   "metadata": {},
   "source": [
    "## Energia"
   ]
  },
  {
   "cell_type": "markdown",
   "id": "f9ffc183-0f01-4304-aab2-92fdb1bb07bf",
   "metadata": {},
   "source": [
    "## Potência"
   ]
  },
  {
   "cell_type": "markdown",
   "id": "ffa89eba-7a57-484f-acfa-5710cc2814d8",
   "metadata": {},
   "source": [
    "## Exercícios"
   ]
  },
  {
   "cell_type": "markdown",
   "id": "db980aec-57c2-446e-abb1-1e17b5d690cd",
   "metadata": {},
   "source": [
    "**1)** Determine os valores de $P_\\infty$ e $E_{\\infty}$ dos sinais abaixo:\n",
    "\n",
    "a) $x_1(t) = e^{-3t}, t\\geq0$\n",
    "\n",
    "b) $x_2(t) = \\cos(2t)$\n",
    "\n",
    "c) $x_1[k] = \\frac{1}{3^k}, k\\geq 0$\n",
    "\n",
    "d) $x_2[k] = \\cos\\left(\\frac{\\pi}{2}k\\right)$"
   ]
  },
  {
   "cell_type": "markdown",
   "id": "1eff9bf7-106f-4354-9fa3-34dee90b29ff",
   "metadata": {},
   "source": [
    "## Referências"
   ]
  },
  {
   "cell_type": "markdown",
   "id": "dbc78e05-1ac9-486c-ac74-5aaf23f99b8c",
   "metadata": {},
   "source": [
    "- Oppenheim, M. Sistemas e Sinais, 2010"
   ]
  },
  {
   "cell_type": "code",
   "execution_count": null,
   "id": "f87a3d9f-b94b-4fd8-bbfb-016ac71d300f",
   "metadata": {},
   "outputs": [],
   "source": []
  }
 ],
 "metadata": {
  "kernelspec": {
   "display_name": "Python 3 (ipykernel)",
   "language": "python",
   "name": "python3"
  },
  "language_info": {
   "codemirror_mode": {
    "name": "ipython",
    "version": 3
   },
   "file_extension": ".py",
   "mimetype": "text/x-python",
   "name": "python",
   "nbconvert_exporter": "python",
   "pygments_lexer": "ipython3",
   "version": "3.9.16"
  }
 },
 "nbformat": 4,
 "nbformat_minor": 5
}
