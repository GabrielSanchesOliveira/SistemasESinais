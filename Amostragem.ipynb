{
 "cells": [
  {
   "cell_type": "markdown",
   "id": "e04f8890-d495-4e4e-931e-f5b84267471e",
   "metadata": {},
   "source": [
    "# Amostragem\n",
    "\n",
    "Renato Naville Watanabe"
   ]
  },
  {
   "cell_type": "markdown",
   "id": "f219b286-c86a-4c05-af7d-c47433be17aa",
   "metadata": {},
   "source": [
    "## Preparação do ambiente"
   ]
  },
  {
   "cell_type": "code",
   "execution_count": 62,
   "id": "f358d084-7040-48d5-bc16-4553e16ce324",
   "metadata": {
    "tags": []
   },
   "outputs": [],
   "source": [
    "try:\n",
    "  from google.colab import output\n",
    "  output.enable_custom_widget_manager()\n",
    "  IN_COLAB = True\n",
    "except:\n",
    "  IN_COLAB = False\n",
    "\n",
    "if IN_COLAB:\n",
    "  !pip install ipympl"
   ]
  },
  {
   "cell_type": "code",
   "execution_count": 63,
   "id": "23a426a1-0ce0-4c50-946a-9a00dc455904",
   "metadata": {
    "tags": []
   },
   "outputs": [],
   "source": [
    "import sympy as sym\n",
    "import matplotlib.pyplot as plt\n",
    "from matplotlib import style\n",
    "import numpy as np\n",
    "from scipy.signal import bode\n",
    "%matplotlib widget"
   ]
  },
  {
   "cell_type": "markdown",
   "id": "a3de910d-b16c-413a-945d-e4c1adbc1a3d",
   "metadata": {},
   "source": [
    "## Exercícios"
   ]
  },
  {
   "cell_type": "markdown",
   "id": "b07180ab-ccd6-4ee6-be28-120ca327f41d",
   "metadata": {
    "id": "44abee87-9ee7-4061-b386-f52761ef4bad"
   },
   "source": [
    "## Referências\n",
    "\n",
    "- Oppenheim, M.  e Willsky, S., Sistemas e Sinais, 2010\n",
    "- Ulaby, FT e Yagle, AE, Signals & Systems: Theory and Applications, 2018, [ss2.eecs.umich.edu](ss2.eecs.umich.edu)\n",
    "- Lathi, BP, Sinais e Sistemas Lineares, 2007\n",
    "\n"
   ]
  },
  {
   "cell_type": "code",
   "execution_count": null,
   "id": "f3540a10-9f3e-4470-8b5f-ab6ec2315d9d",
   "metadata": {},
   "outputs": [],
   "source": []
  }
 ],
 "metadata": {
  "kernelspec": {
   "display_name": "Python 3 (ipykernel)",
   "language": "python",
   "name": "python3"
  },
  "language_info": {
   "codemirror_mode": {
    "name": "ipython",
    "version": 3
   },
   "file_extension": ".py",
   "mimetype": "text/x-python",
   "name": "python",
   "nbconvert_exporter": "python",
   "pygments_lexer": "ipython3",
   "version": "3.10.12"
  }
 },
 "nbformat": 4,
 "nbformat_minor": 5
}
