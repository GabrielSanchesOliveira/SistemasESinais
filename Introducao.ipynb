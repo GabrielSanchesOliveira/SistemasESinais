{
 "cells": [
  {
   "cell_type": "markdown",
   "id": "819aeec5-2957-4365-8f82-d62f50ed6934",
   "metadata": {
    "editable": true,
    "slideshow": {
     "slide_type": "slide"
    },
    "tags": []
   },
   "source": [
    "# Introdução\n",
    "\n",
    "Renato Naville Watanabe"
   ]
  },
  {
   "cell_type": "markdown",
   "id": "9a355218-3ddc-4e64-abd6-9f404e503616",
   "metadata": {
    "editable": true,
    "slideshow": {
     "slide_type": "slide"
    },
    "tags": []
   },
   "source": [
    "O estudo da Engenharia se ocupa em boa parte do estudo de Sistemas. Se você está fazendo esse curso, você já deve ter feito diversos outros cursos sobre diferentes tipos de sistemas, como sistemas mecânicos, elétricos, biológicos, térmicos, fluídicos, econômicos, sociais, entre muitos outros."
   ]
  },
  {
   "cell_type": "markdown",
   "id": "30c21635-ab44-477a-9dcc-e605d56a062f",
   "metadata": {
    "editable": true,
    "slideshow": {
     "slide_type": "subslide"
    },
    "tags": []
   },
   "source": [
    "**Sistemas  nada mais são do que conjuntos de componentes que se interligam para realizar alguma coisa**."
   ]
  },
  {
   "cell_type": "markdown",
   "id": "e19bec3a-4a98-4d04-96eb-cb417fe83c86",
   "metadata": {
    "editable": true,
    "slideshow": {
     "slide_type": "slide"
    },
    "tags": []
   },
   "source": [
    "## Exemplos\n",
    "\n",
    "Vamos ver alguns exemplos de sistemas."
   ]
  },
  {
   "cell_type": "markdown",
   "id": "cf1c450a-193d-4539-8e5c-cb0fd68dce2b",
   "metadata": {
    "editable": true,
    "slideshow": {
     "slide_type": "slide"
    },
    "tags": []
   },
   "source": [
    "---\n",
    "### Circuito RC\n",
    "\n",
    "<img src=https://upload.wikimedia.org/wikipedia/commons/thumb/e/e0/RC_Series_Filter_%28with_V%26I_Labels%29.svg/1920px-RC_Series_Filter_%28with_V%26I_Labels%29.svg.png width=\"400\">"
   ]
  },
  {
   "cell_type": "markdown",
   "id": "1c6d56f6-ace0-4d36-a16b-ef2261b55b59",
   "metadata": {
    "editable": true,
    "slideshow": {
     "slide_type": "skip"
    },
    "tags": []
   },
   "source": [
    "Nele, a tensão de entrada $V_{in}$ vai modificar a tensão do capacitor $V_c$. Podemos representar o circuito RC com o diagrama de blocos abaixo. A tensão $V_{in}$, sendo a tensão do gerador, entra no bloco que representa o circuito RC. Saindo do bloco está a tensão no capacitor $V_c$."
   ]
  },
  {
   "cell_type": "markdown",
   "id": "ee0a216c-10de-48e1-b41c-02a0ed096ed3",
   "metadata": {
    "editable": true,
    "slideshow": {
     "slide_type": "slide"
    },
    "tags": []
   },
   "source": [
    "\n",
    "<img src=Imagens/RCsystem.png width=\"500\">"
   ]
  },
  {
   "cell_type": "markdown",
   "id": "9b45a6c4-ab5b-46e7-9847-91855c012a4d",
   "metadata": {
    "editable": true,
    "slideshow": {
     "slide_type": "skip"
    },
    "tags": []
   },
   "source": [
    "Alguém poderia perguntar qual a razão da tensão do gerador entrar no bloco e a tensão no capacitor sair. Isso vem do funcionamento do circuito. A tensão $V_{in}$ normalmente é algo que o operador controla e vai influenciar o funcionamento do circuito. A tensão $V_c$ é uma tensão que por algum motivo quem está analisando o circuito tem interesse. É claro que a tensão $V_R$ também  poderia ser o sinal de saída do sistema, dependendo do interesse da análise.\n",
    "\n",
    "---"
   ]
  },
  {
   "cell_type": "markdown",
   "id": "b02171af-4bc6-4939-afb4-3169833bd15f",
   "metadata": {
    "editable": true,
    "slideshow": {
     "slide_type": "slide"
    },
    "tags": []
   },
   "source": [
    "---\n",
    "\n",
    "### Eletrocardiograma\n",
    "\n",
    "Outro exemplo é o eletrocardiograma, em que o potencial elétrico dos músculos cardíacos são captados por eletrodos e mostrados na tela ou papel em forma gráfica.\n",
    "\n",
    "\n",
    "<img src=https://upload.wikimedia.org/wikipedia/commons/thumb/5/53/Patient_lying_in_hospital_bed_in_intensive_care_unit_in_Germany_in_2015.jpg/800px-Patient_lying_in_hospital_bed_in_intensive_care_unit_in_Germany_in_2015.jpg width=\"300\">"
   ]
  },
  {
   "cell_type": "markdown",
   "id": "834a3443-e0e2-4712-89cb-c314729ea389",
   "metadata": {
    "editable": true,
    "slideshow": {
     "slide_type": "slide"
    },
    "tags": []
   },
   "source": [
    "Nós podemos  colocar o aparelho de ECG como um diagrama de blocos:\n",
    "\n",
    "<img src=Imagens/ECGsystem.png width=\"500\">\n",
    "\n",
    "\n",
    "---"
   ]
  },
  {
   "cell_type": "markdown",
   "id": "e53d0430-9166-4627-bc87-52c251e26ae0",
   "metadata": {
    "editable": true,
    "slideshow": {
     "slide_type": "slide"
    },
    "tags": []
   },
   "source": [
    "---\n",
    "\n",
    "### Corpo humano\n",
    "\n",
    "Outro exemplo é o corpo humano, que é um sistema composto de diversos outros sistemas.\n",
    "\n",
    "<img src=https://static.sciencelearn.org.nz/images/images/000/002/307/full/The-body-s-systems20161104-16595-1aca5q9.jpg?167416796 width=\"300\">\n",
    "\n",
    "Cada subsistema do corpo humano realiza alguma ação em resposta a algum estímulo."
   ]
  },
  {
   "cell_type": "markdown",
   "id": "05f87dc2-5e07-46e5-a633-99fc8537773e",
   "metadata": {
    "editable": true,
    "slideshow": {
     "slide_type": "slide"
    },
    "tags": []
   },
   "source": [
    "Abaixo está o diagrama de blocos de um subsistema específico do corpo humano, o pâncreas:\n",
    "\n",
    "\n",
    "<img src=Imagens/pancreassystem.png width=\"500\">\n",
    "\n",
    "O pâncreas libera insulina de acordo com o nível de glicose no sangue.\n",
    "\n",
    "---"
   ]
  },
  {
   "cell_type": "markdown",
   "id": "f44a46b6-571a-45d4-85a8-3fbd3f780ffd",
   "metadata": {
    "editable": true,
    "slideshow": {
     "slide_type": "slide"
    },
    "tags": []
   },
   "source": [
    "---\n",
    "\n",
    "### Movimento do motorista dentro de um carro\n",
    "\n",
    "Um outro exemplo é o movimento que a cabeça do motorista faz quando o carro balança. Essa análise em um estudo de ergonomia do carro pode ser importante.\n",
    "\n",
    "\n",
    "<img src=Imagens/bancocarro.png width=\"500\">"
   ]
  },
  {
   "cell_type": "markdown",
   "id": "f5d09916-43de-4447-940d-20297fb5117e",
   "metadata": {
    "editable": true,
    "slideshow": {
     "slide_type": "slide"
    },
    "tags": []
   },
   "source": [
    "O diagrama de blocos desse sistema é:\n",
    "\n",
    "<img src=Imagens/carro_system.png width=\"500\">\n",
    "\n",
    "---"
   ]
  },
  {
   "cell_type": "markdown",
   "id": "b4ead186-60d9-43e1-80bc-e9e6f1d38cbc",
   "metadata": {
    "editable": true,
    "slideshow": {
     "slide_type": "slide"
    },
    "tags": []
   },
   "source": [
    "---\n",
    "\n",
    "### Forno\n",
    "\n",
    "Um outro exemplo seria a temperatura dentro do forno após o fogo ser ligado. \n",
    "\n",
    "<img src=https://img.freepik.com/vetores-gratis/fogao-eletrico-com-forno-isolado-no-fundo-branco_1308-59051.jpg width=\"200\">"
   ]
  },
  {
   "cell_type": "markdown",
   "id": "f35db836-8b1b-452f-9fb4-fe81f8afd8f0",
   "metadata": {
    "editable": true,
    "slideshow": {
     "slide_type": ""
    },
    "tags": []
   },
   "source": [
    "O diagrama de blocos do forno é:\n",
    "\n",
    "<img src=Imagens/forno_system.png width=\"500\">\n",
    "\n",
    "---"
   ]
  },
  {
   "cell_type": "markdown",
   "id": "d2d5f97d-93f9-4e59-8287-a9499cf8fd00",
   "metadata": {
    "editable": true,
    "slideshow": {
     "slide_type": "slide"
    },
    "tags": []
   },
   "source": [
    "---\n",
    "\n",
    "### Inflação\n",
    "\n",
    "\n",
    "Um outro possível sistema seria considerar o sistema econômico do Brasil e medir a sua taxa de inflação a cada mês em resposta, por exemplo, à taxa de juros.\n",
    "\n",
    "\n",
    "<img src=Imagens/inflacao_system.png width=\"500\">\n",
    "\n",
    "\n",
    "---"
   ]
  },
  {
   "cell_type": "markdown",
   "id": "1f6241c1-fbb6-413d-8778-f202623e3796",
   "metadata": {
    "editable": true,
    "slideshow": {
     "slide_type": "skip"
    },
    "tags": []
   },
   "source": [
    "Poderíamos dar muitos outros exemplos, mas vamos parar aqui. O objetivo desse curso é estudar como os sistemas de uma maneira geral se comportam em resposta a sinais que os influenciam. O estudo aqui não se preocupará em entender os mecanismos específicos de cada tipo de sistema, mas se ocupará das características comuns que esses sistemas têm. As técnicas vistas neste curso poderão ser aplicadas sempre que for possível conseguir uma descrição matemática do sistema sendo estudado."
   ]
  },
  {
   "cell_type": "markdown",
   "id": "86b5b649-1ed5-4678-ae90-4b472ede9a15",
   "metadata": {
    "editable": true,
    "slideshow": {
     "slide_type": "slide"
    },
    "tags": []
   },
   "source": [
    "## O formalismo da teoria de sistemas\n",
    "\n",
    "Toda a teoria de sistemas é baseada no formalismo abaixo:\n",
    "\n",
    "\n",
    "<img src=Imagens/sistema.png width=\"500\">\n",
    "\n",
    "\n",
    "Como pôde ser visto nos exemplos acima, esse formalismo serve para muitos tipos de sistemas. Ele será usado até o final do curso. \n",
    "\n",
    "Sistemas podem ter um ou mais sinais de entrada de saída. Neste curso consideraremos apenas sistemas com uma entrada e uma saída.\n",
    "\n"
   ]
  },
  {
   "cell_type": "markdown",
   "id": "b6440a53-87f5-44d7-bf10-4f6cff8a2564",
   "metadata": {
    "editable": true,
    "slideshow": {
     "slide_type": "slide"
    },
    "tags": []
   },
   "source": [
    "## Sinais\n",
    "\n",
    "**Sinais são funções, na maioria das vezes do tempo, que vão servir de entrada e de saída para os sistemas.**\n",
    "\n",
    "Sinais podem representar diversos fenômenos, como velocidade de um carro, voz de uma pessoa, força exercida por um músculo, batimentos cardíacos, taxa de juros ao longo dos meses, entre infinitos outros exemplos.\n",
    "\n",
    "Matematicamente, sinais são representados como sendo gerados por funções de uma ou mais variáveis independentes. Aqui, consideraremos apenas uma **variável independente**, e na maioria das vezes, é o **tempo**.\n"
   ]
  },
  {
   "cell_type": "markdown",
   "id": "5cf809d8-d221-448d-886a-9a2a12ea5792",
   "metadata": {
    "editable": true,
    "slideshow": {
     "slide_type": "slide"
    },
    "tags": []
   },
   "source": [
    "### Sinais de tempo contínuo\n",
    "\n",
    "Para deixar claro que um sinal é de tempo contínuo, o tempo será sempre denotado por $t$ e estará entre parânteses. Por exempo,\n",
    "\n",
    "$$x(t) = \\cos(2\\pi t) $$\n",
    "\n",
    "Os sinais de tempo contínuo têm valores para todo $t$ pertencente ao conjunto dos números reais.\n",
    "\n",
    "Podemos representar um sinal contínuo através da forma gráfica."
   ]
  },
  {
   "cell_type": "code",
   "execution_count": 1,
   "id": "2295ca97-408d-417c-a866-7324315d068e",
   "metadata": {
    "editable": true,
    "slideshow": {
     "slide_type": "slide"
    },
    "tags": []
   },
   "outputs": [
    {
     "data": {
      "image/png": "[encoded data removed]",
      "text/plain": [
       "<Figure size 640x480 with 1 Axes>"
      ]
     },
     "metadata": {},
     "output_type": "display_data"
    },
    {
     "data": {
      "text/plain": [
       "<sympy.plotting.plot.Plot at 0x7fc9f152b700>"
      ]
     },
     "execution_count": 1,
     "metadata": {},
     "output_type": "execute_result"
    }
   ],
   "source": [
    "import sympy as sym\n",
    "\n",
    "t = sym.symbols('t')\n",
    "sym.plot(sym.cos(2*sym.pi*t), (t,-3,3))"
   ]
  },
  {
   "cell_type": "markdown",
   "id": "f1c59dd2-c201-42c5-8da2-262f11fa840a",
   "metadata": {
    "editable": true,
    "slideshow": {
     "slide_type": "skip"
    },
    "tags": []
   },
   "source": [
    "Sinais de tempo contínuo podem ser usados para representar sinais que são definidos de forma contínua ao longo do tempo, como sinal da fala de uma pessoa, a temperatura de uma localidade ao longo do dia."
   ]
  },
  {
   "cell_type": "markdown",
   "id": "cc56cf6b-9c4d-4529-b78e-e1c72c9b608b",
   "metadata": {
    "editable": true,
    "slideshow": {
     "slide_type": "slide"
    },
    "tags": []
   },
   "source": [
    "### Sinais de tempo discreto\n",
    "\n",
    "Para deixar claro que um sinal é de tempo discreto, o tempo será representado por $n$ entre colchetes. Por exemplo:\n",
    "\n",
    "$$x[n] = \\cos\\left(\\frac{2\\pi n}{N}\\right) $$\n",
    "\n",
    "Os sinais de tempo discreto só têm valores para $n$ inteiro. Eles não são definidos para $n$ entre os inteiros.\n",
    "\n",
    "Podemos representar um sinal de tempo discreto na forma gráfica. É comum usar o tipo de gráfico conhecido como *stem* para representar sinais de tempo discreto. Esse tipo de gráfico consiste em usar barras que vão do zero até o valor do sinal com uma pequena bolinha na sua ponta. É esse tipo de gráfico que usaremos no curso para sinais de tempo discreto. O gráfico do sinal acima é:\n",
    "\n"
   ]
  },
  {
   "cell_type": "code",
   "execution_count": 6,
   "id": "48cfbfcf-ac56-424f-b848-bce1aabf49b8",
   "metadata": {
    "editable": true,
    "slideshow": {
     "slide_type": "slide"
    },
    "tags": []
   },
   "outputs": [
    {
     "data": {
      "text/plain": [
       "<StemContainer object of 3 artists>"
      ]
     },
     "execution_count": 6,
     "metadata": {},
     "output_type": "execute_result"
    },
    {
     "data": {
      "image/png": "[encoded data removed]",
      "text/plain": [
       "<Figure size 640x480 with 1 Axes>"
      ]
     },
     "metadata": {},
     "output_type": "display_data"
    }
   ],
   "source": [
    "import numpy as np\n",
    "import matplotlib.pyplot as plt\n",
    "\n",
    "N = 10\n",
    "n = np.arange(-10,10)\n",
    "plt.stem(n, np.cos(2*np.pi*n/N))"
   ]
  },
  {
   "cell_type": "markdown",
   "id": "bafe88d3-7c7b-4c8f-baa2-84edc2201f3c",
   "metadata": {
    "editable": true,
    "slideshow": {
     "slide_type": "skip"
    },
    "tags": []
   },
   "source": [
    "Sinais de tempo discreto podem ser usados para representar sinais que só são definidos em alguns instantes, como a população de uma cidade a cada ano, o valor de uma ação a cada dia. "
   ]
  },
  {
   "cell_type": "markdown",
   "id": "bdae83e6-f679-427e-8ed2-95bd46b51d6c",
   "metadata": {
    "editable": true,
    "slideshow": {
     "slide_type": "slide"
    },
    "tags": []
   },
   "source": [
    "## Relação entre os sinais de tempo contínuo e discreto"
   ]
  },
  {
   "cell_type": "markdown",
   "id": "c24a2cb1-1b13-4a63-8f98-b17dc8885660",
   "metadata": {
    "editable": true,
    "slideshow": {
     "slide_type": "skip"
    },
    "tags": []
   },
   "source": [
    "A maioria dos sinais presentes na natureza são de tempo contínuo. Isso pode fazer alguns pensarem que não é necessário para um engenheiro estudar sinais de tempo discreto. Talvez isso tenha sido verdade por um bom tempo, mas desde o advento dos computadores digitais, quase toda a análise e processamento dos sinais são feitos usando computadores. E computadores são inerentemente discretos.\n",
    "\n",
    "O que se costuma fazer é transformar um sinal de tempo contínuo para tempo discreto utilizando algum método de amostragem. Por exemplo, o sinal contínuo à esquerda é amostrado a cada 0,5 segundo e gera o sinal em tempo discreto à direita."
   ]
  },
  {
   "cell_type": "code",
   "execution_count": 16,
   "id": "616c8a9e-2e14-43f2-b78b-6956c66082d2",
   "metadata": {
    "editable": true,
    "slideshow": {
     "slide_type": "fragment"
    },
    "tags": []
   },
   "outputs": [
    {
     "data": {
      "text/plain": [
       "<StemContainer object of 3 artists>"
      ]
     },
     "execution_count": 16,
     "metadata": {},
     "output_type": "execute_result"
    },
    {
     "data": {
      "image/png": "[encoded data removed]",
      "text/plain": [
       "<Figure size 640x480 with 2 Axes>"
      ]
     },
     "metadata": {},
     "output_type": "display_data"
    }
   ],
   "source": [
    "plt.subplot(1,2,1)\n",
    "tau = 1.5\n",
    "t = np.arange(0, 6, 0.01)\n",
    "x = np.exp(-tau*t)\n",
    "plt.plot(t, x)\n",
    "T = 0.5\n",
    "tamos = np.arange(0, 6, T)\n",
    "xamos = np.exp(-tau*tamos)\n",
    "plt.scatter(tamos, xamos, color='red')\n",
    "plt.subplot(1,2,2)\n",
    "n = np.arange(12)\n",
    "xdis = np.exp(-tau*n*T)\n",
    "plt.stem(n, xdis)"
   ]
  },
  {
   "cell_type": "markdown",
   "id": "90b8d5b6-b63b-48ee-a434-b277f96305ad",
   "metadata": {},
   "source": [
    "Mais adiante, veremos mais as implicações de se fazer a amostragem de um sinal."
   ]
  },
  {
   "cell_type": "markdown",
   "id": "45bc8ad8-fbb3-4d0f-9dc0-ad1087211db4",
   "metadata": {},
   "source": [
    "## Importância dentro da Engenharia\n",
    "\n",
    "O conteúdo visto neste curso tem importância em várias áreas da Engenharia:\n",
    "\n",
    "- Processamento de Sinais\n",
    "\n",
    "- Instrumentação\n",
    "\n",
    "- Aprendizado de máquinas\n",
    "\n"
   ]
  },
  {
   "cell_type": "markdown",
   "id": "20fad843-0a16-4c57-8014-7be29f19b5a5",
   "metadata": {
    "editable": true,
    "slideshow": {
     "slide_type": "skip"
    },
    "tags": []
   },
   "source": [
    "## Execícios\n",
    "\n",
    "**1)** Escolha um sistema qualquer e identifique sua entrada e saída. Esse sistema tem entrada e saída de tempo discreto ou de tempo contínuo?"
   ]
  },
  {
   "cell_type": "markdown",
   "id": "8067a88d-c054-43a4-b2f9-86f3f8dd91cb",
   "metadata": {
    "editable": true,
    "slideshow": {
     "slide_type": "skip"
    },
    "tags": []
   },
   "source": [
    "**2)** Faça o gráfico dos sinais abaixo:\n",
    "\n",
    "a) $x_1(t) = e^{-3t}, t\\geq0$\n",
    "\n",
    "b) $x_2(t) = \\cos(2t)$\n",
    "\n",
    "c) $x_3[n] = \\frac{1}{3^n}, n\\geq 0$\n",
    "\n",
    "d) $x_4[n] = \\cos\\left(\\frac{\\pi}{2}n\\right)$"
   ]
  },
  {
   "cell_type": "markdown",
   "id": "5cb4df22-6fa7-4755-b1db-bd34b3be5b88",
   "metadata": {
    "editable": true,
    "slideshow": {
     "slide_type": "slide"
    },
    "tags": []
   },
   "source": [
    "## Referências\n",
    "\n",
    "- Oppenheim, M.   e Willsky, S., Sistemas e Sinais, 2010\n",
    "- Ulaby, FT e Yagle, AE, Signals & Systems: Theory and Applications, 2018, [ss2.eecs.umich.edu](ss2.eecs.umich.edu)"
   ]
  },
  {
   "cell_type": "markdown",
   "id": "1469b52d-85b2-445e-aa8f-201257215e27",
   "metadata": {
    "editable": true,
    "slideshow": {
     "slide_type": ""
    },
    "tags": []
   },
   "source": []
  },
  {
   "cell_type": "code",
   "execution_count": null,
   "id": "ca2e4037-1e5e-4c53-b5b3-888effd3d9b0",
   "metadata": {},
   "outputs": [],
   "source": []
  }
 ],
 "metadata": {
  "kernelspec": {
   "display_name": "Python 3 (ipykernel)",
   "language": "python",
   "name": "python3"
  },
  "language_info": {
   "codemirror_mode": {
    "name": "ipython",
    "version": 3
   },
   "file_extension": ".py",
   "mimetype": "text/x-python",
   "name": "python",
   "nbconvert_exporter": "python",
   "pygments_lexer": "ipython3",
   "version": "3.10.11"
  }
 },
 "nbformat": 4,
 "nbformat_minor": 5
}
