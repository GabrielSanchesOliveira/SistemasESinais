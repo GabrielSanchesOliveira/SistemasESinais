{
 "cells": [
  {
   "cell_type": "markdown",
   "id": "e9f52f5f-3621-412d-b389-32d63e6a62ee",
   "metadata": {},
   "source": [
    "# Estabilidade de sistemas contínuos\n",
    "\n",
    "Renato Naville Watanabe"
   ]
  },
  {
   "cell_type": "markdown",
   "id": "9d3a5755-c621-48f1-bcd4-15cf39576d7a",
   "metadata": {
    "jp-MarkdownHeadingCollapsed": true
   },
   "source": [
    "## Definição\n",
    "\n",
    "Como já visto anteriormente, formalmente podemos definir um **sistema estável** como sendo um sistema que se receber uma entrada que tenha valores finitos:\n",
    "\n",
    "$$|x(t)| < B \\text{ ,para qualquer } t $$\n",
    "\n",
    "em que $B$ é um número real finito, então a saída também terá valores finitos:\n",
    "\n",
    "$$|y(t)| < L \\text{ .para qualquer } t$$\n",
    "\n",
    "em que $L$ é um outro número real finito.\n",
    "\n",
    "Um sistema que não respeita o critério acima é chamado de **sistema instável**, de acordo com o critério **BIBO** (*Bounded Input Bounded Output*; ). "
   ]
  },
  {
   "cell_type": "markdown",
   "id": "4f1c4f06-407b-4e34-af9e-99686046472c",
   "metadata": {
    "jp-MarkdownHeadingCollapsed": true
   },
   "source": [
    "## Resposta ao impulso\n",
    "\n",
    "Vamos aqui estabelecer um critério para determinar a estabilidade de um sistema linear e invariante no tempo a partir da resposta ao impulso. Vamos começar da obtenção do sinal de saída $y(t)$ em resposta a um sinal de entrada $x(t)$ a partir da integral de convolução:\n",
    "\n",
    "$y(t) = \\int_{-\\infty}^\\infty h(\\tau)x(t-\\tau)\\,d\\tau$\n",
    "\n",
    "Como o critério de estabilidade diz que $|y(t)| < L$ se o sistema for estável, vamos calcular o módulo de $y(t)$:\n",
    "\n",
    "$|y(t)| = |\\int_{-\\infty}^\\infty h(\\tau)x(t-\\tau)\\,d\\tau|$\n",
    "\n",
    "Como o critério de estabilidade envolve uma desigualdade, podemos estabelecer um limite superior para o módulo de $y(t)$:\n",
    "\n",
    "$|y(t)| \\leq \\int_{-\\infty}^\\infty |h(\\tau)x(t-\\tau)|\\,d\\tau = \\int_{-\\infty}^\\infty |h(\\tau)||x(t-\\tau)|\\,d\\tau$\n",
    "\n",
    "Pelo critério de estabilidade o módulo de $x(t)$ é limitado ao valor de $B$. Então:\n",
    "\n",
    "$|y(t)| \\leq \\int_{-\\infty}^\\infty |h(\\tau)|B\\,d\\tau = B\\int_{-\\infty}^\\infty |h(\\tau)|\\,d\\tau$\n",
    "\n",
    "Então, para $|y(t)|< L$, com $L$ finito, temos que a integral do módulo da resposta ao impulso tem que ser finita:\n",
    "\n",
    "$\\int_{-\\infty}^\\infty |h(\\tau)|\\,d\\tau<\\infty$\n",
    "\n",
    "Portanto, se a integral do módulo da resposta ao impulso for finita, o sistema é estável.\n",
    "\n",
    "---\n",
    "### Exemplo 1\n",
    "\n",
    "Vamos considerar um sistema com resposta ao impulso:\n",
    "\n",
    "$h(t) = e^{-2t}u(t)$\n",
    "\n",
    "A integral do módulo de $h(t)$ é:\n",
    "\n",
    "$\\int_{-\\infty}^{\\infty} |e^{-2t}u(t)|\\,dt = \\int_{0}^{\\infty} e^{-2t}\\,dt = \\left.\\frac{e^{-2t}}{-2}\\right|_{t=0}^\\infty = 0.5$ \n",
    "\n",
    "Portanto, o sistema com essa resposta ao impulso é estável.\n",
    "\n",
    "---\n",
    "\n",
    "\n",
    "---\n",
    "### Exemplo 2\n",
    "\n",
    "Vamos considerar um sistema com resposta ao impulso:\n",
    "\n",
    "$h(t) = e^{5t}u(t)$\n",
    "\n",
    "A integral do módulo de $h(t)$ é:\n",
    "\n",
    "$\\int_{-\\infty}^{\\infty} |e^{2t}u(t)|\\,dt = \\int_{0}^{\\infty} e^{2t}\\,dt = \\left.\\frac{e^{2t}}{2}\\right|_{t=0}^\\infty = \\infty$ \n",
    "\n",
    "Portanto, o sistema com essa resposta ao impulso é instável.\n",
    "\n",
    "---\n"
   ]
  },
  {
   "cell_type": "markdown",
   "id": "c4bdd737-f4c8-4d7d-b2fa-16c92c823068",
   "metadata": {},
   "source": [
    "## Função de transferência"
   ]
  },
  {
   "cell_type": "markdown",
   "id": "253fb35f-46ff-4088-aeb7-b788b7707f1c",
   "metadata": {},
   "source": [
    "## Realimentação"
   ]
  },
  {
   "cell_type": "markdown",
   "id": "8d275974-1b35-46c7-abc9-3223d88a8189",
   "metadata": {},
   "source": [
    "## Exercícios"
   ]
  },
  {
   "cell_type": "markdown",
   "id": "3ce6f682-3249-48d9-9613-8fc6fda4f968",
   "metadata": {},
   "source": [
    "**1)** Quais destas respostas ao impulso são de sistemas estáveis. Todos os sistemas são lineares e invariantes no tempo:\n",
    "\n",
    "a) $h_1(t) = e^{-2|t|}$\n",
    "\n",
    "b) $h_2(t) = (1-|t|)[u(t+2)-u(t-2)]$\n",
    "\n",
    "c) $h_3(t) = e^{3t}u(-t)$\n",
    "\n",
    "d) $h_4(t) = e^{3t}u(t)$\n",
    "\n",
    "e) $h_5(t) = \\cos(3t)u(t)$\n",
    "\n",
    "f) $h_6(t) = \\frac{t}{t+1}u(t)$"
   ]
  },
  {
   "cell_type": "markdown",
   "id": "c766db8e-111c-4846-817f-72201b362bf8",
   "metadata": {},
   "source": [
    "**2)** Para que valores de $a$ o sistema linear e invariante no tempo com a resposta ao impulso abaixo é estável?\n",
    "\n",
    "$h(t) = \\frac{2}{t^a}u(t-1)$\n",
    "\n"
   ]
  },
  {
   "cell_type": "markdown",
   "id": "bda9f489-af95-416b-868b-125bbc4e6a2a",
   "metadata": {},
   "source": [
    "**3)** Considere a seguinte equação diferencial:\n",
    "\n",
    "$$\\frac{dy}{dt} = ay(t) + x(t) $$\n",
    "\n",
    "a) Encontre uma expressão para a resposta ao impulso do sistema $h(t)$ em função da constante $a$.\n",
    "\n",
    "b) Para que faixa de valores de $a$ o sistema é estável?"
   ]
  },
  {
   "cell_type": "markdown",
   "id": "848d1a34-69de-4e09-b47e-d4d5f6af3f43",
   "metadata": {},
   "source": [
    "## Referências\n",
    "\n",
    "- Ulaby, FT e Yagle, AE, Signals & Systems: Theory and Applications, 2018, [ss2.eecs.umich.edu](ss2.eecs.umich.edu)\n",
    "- Oppenheim, M.  e Willsky, S., Sistemas e Sinais, 2010\n",
    "\n",
    "- Lathi, BP, Sinais e Sistemas Lineares, 2007"
   ]
  },
  {
   "cell_type": "code",
   "execution_count": null,
   "id": "d41bd68b-9b8a-499b-aafd-bf954364bec6",
   "metadata": {},
   "outputs": [],
   "source": []
  }
 ],
 "metadata": {
  "kernelspec": {
   "display_name": "Python 3 (ipykernel)",
   "language": "python",
   "name": "python3"
  },
  "language_info": {
   "codemirror_mode": {
    "name": "ipython",
    "version": 3
   },
   "file_extension": ".py",
   "mimetype": "text/x-python",
   "name": "python",
   "nbconvert_exporter": "python",
   "pygments_lexer": "ipython3",
   "version": "3.10.11"
  }
 },
 "nbformat": 4,
 "nbformat_minor": 5
}
