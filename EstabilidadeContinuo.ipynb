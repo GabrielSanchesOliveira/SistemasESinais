{
 "cells": [
  {
   "cell_type": "markdown",
   "id": "e9f52f5f-3621-412d-b389-32d63e6a62ee",
   "metadata": {},
   "source": [
    "# Estabilidade de sistemas contínuos\n",
    "\n",
    "Renato Naville Watanabe"
   ]
  },
  {
   "cell_type": "markdown",
   "id": "9d3a5755-c621-48f1-bcd4-15cf39576d7a",
   "metadata": {
    "jp-MarkdownHeadingCollapsed": true
   },
   "source": [
    "## Definição\n",
    "\n",
    "Como já visto anteriormente, formalmente podemos definir um **sistema estável** como sendo um sistema que se receber uma entrada que tenha valores finitos:\n",
    "\n",
    "$$|x(t)| < B \\text{ ,para qualquer } t $$\n",
    "\n",
    "em que $B$ é um número real finito, então a saída também terá valores finitos:\n",
    "\n",
    "$$|y(t)| < L \\text{ .para qualquer } t$$\n",
    "\n",
    "em que $L$ é um outro número real finito.\n",
    "\n",
    "Um sistema que não respeita o critério acima é chamado de **sistema instável**, de acordo com o critério **BIBO** (*Bounded Input Bounded Output*; ). "
   ]
  },
  {
   "cell_type": "markdown",
   "id": "4f1c4f06-407b-4e34-af9e-99686046472c",
   "metadata": {},
   "source": [
    "## Resposta ao impulso\n",
    "\n",
    "Vamos aqui estabelecer um critério para determinar a estabilidade de um sistema linear e invariante no tempo a partir da resposta ao impulso. Vamos começar da obtenção do sinal de saída $y(t)$ em resposta a um sinal de entrada $x(t)$ a partir da integral de convolução:\n",
    "\n",
    "$y(t) = \\int_{-\\infty}^\\infty h(\\tau)x(t-\\tau)a\\,d\\tau$\n",
    "\n"
   ]
  },
  {
   "cell_type": "markdown",
   "id": "c4bdd737-f4c8-4d7d-b2fa-16c92c823068",
   "metadata": {},
   "source": [
    "## Função de transferência"
   ]
  },
  {
   "cell_type": "markdown",
   "id": "253fb35f-46ff-4088-aeb7-b788b7707f1c",
   "metadata": {},
   "source": [
    "## Realimentação"
   ]
  },
  {
   "cell_type": "markdown",
   "id": "8d275974-1b35-46c7-abc9-3223d88a8189",
   "metadata": {},
   "source": [
    "## Exercícios"
   ]
  },
  {
   "cell_type": "markdown",
   "id": "848d1a34-69de-4e09-b47e-d4d5f6af3f43",
   "metadata": {},
   "source": [
    "## Referências\n",
    "\n",
    "- Ulaby, FT e Yagle, AE, Signals & Systems: Theory and Applications, 2018, [ss2.eecs.umich.edu](ss2.eecs.umich.edu)\n",
    "- Oppenheim, M.  e Willsky, S., Sistemas e Sinais, 2010\n",
    "\n",
    "- Lathi, BP, Sinais e Sistemas Lineares, 2007"
   ]
  },
  {
   "cell_type": "code",
   "execution_count": null,
   "id": "d41bd68b-9b8a-499b-aafd-bf954364bec6",
   "metadata": {},
   "outputs": [],
   "source": []
  }
 ],
 "metadata": {
  "kernelspec": {
   "display_name": "Python 3 (ipykernel)",
   "language": "python",
   "name": "python3"
  },
  "language_info": {
   "codemirror_mode": {
    "name": "ipython",
    "version": 3
   },
   "file_extension": ".py",
   "mimetype": "text/x-python",
   "name": "python",
   "nbconvert_exporter": "python",
   "pygments_lexer": "ipython3",
   "version": "3.10.11"
  }
 },
 "nbformat": 4,
 "nbformat_minor": 5
}
