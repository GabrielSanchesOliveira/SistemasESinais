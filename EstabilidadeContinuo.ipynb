{
 "cells": [
  {
   "cell_type": "markdown",
   "id": "e9f52f5f-3621-412d-b389-32d63e6a62ee",
   "metadata": {},
   "source": [
    "# Estabilidade de sistemas contínuos\n",
    "\n",
    "Renato Naville Watanabe"
   ]
  },
  {
   "cell_type": "markdown",
   "id": "9d3a5755-c621-48f1-bcd4-15cf39576d7a",
   "metadata": {
    "jp-MarkdownHeadingCollapsed": true
   },
   "source": [
    "## Definição\n",
    "\n",
    "Como já visto anteriormente, formalmente podemos definir um **sistema estável** como sendo um sistema que se receber uma entrada que tenha valores finitos:\n",
    "\n",
    "$$|x(t)| < B \\text{ ,para qualquer } t $$\n",
    "\n",
    "em que $B$ é um número real finito, então a saída também terá valores finitos:\n",
    "\n",
    "$$|y(t)| < L \\text{ .para qualquer } t$$\n",
    "\n",
    "em que $L$ é um outro número real finito.\n",
    "\n",
    "Um sistema que não respeita o critério acima é chamado de **sistema instável**, de acordo com o critério **BIBO** (*Bounded Input Bounded Output*; ). "
   ]
  },
  {
   "cell_type": "markdown",
   "id": "4f1c4f06-407b-4e34-af9e-99686046472c",
   "metadata": {
    "jp-MarkdownHeadingCollapsed": true
   },
   "source": [
    "## Resposta ao impulso\n",
    "\n",
    "Vamos aqui estabelecer um critério para determinar a estabilidade de um sistema linear e invariante no tempo a partir da resposta ao impulso. Vamos começar da obtenção do sinal de saída $y(t)$ em resposta a um sinal de entrada $x(t)$ a partir da integral de convolução:\n",
    "\n",
    "$y(t) = \\int_{-\\infty}^\\infty h(\\tau)x(t-\\tau)\\,d\\tau$\n",
    "\n",
    "Como o critério de estabilidade diz que $|y(t)| < L$ se o sistema for estável, vamos calcular o módulo de $y(t)$:\n",
    "\n",
    "$|y(t)| = |\\int_{-\\infty}^\\infty h(\\tau)x(t-\\tau)\\,d\\tau|$\n",
    "\n",
    "Como o critério de estabilidade envolve uma desigualdade, podemos estabelecer um limite superior para o módulo de $y(t)$:\n",
    "\n",
    "$|y(t)| \\leq \\int_{-\\infty}^\\infty |h(\\tau)x(t-\\tau)|\\,d\\tau = \\int_{-\\infty}^\\infty |h(\\tau)||x(t-\\tau)|\\,d\\tau$\n",
    "\n",
    "Pelo critério de estabilidade o módulo de $x(t)$ é limitado ao valor de $B$. Então:\n",
    "\n",
    "$|y(t)| \\leq \\int_{-\\infty}^\\infty |h(\\tau)|B\\,d\\tau = B\\int_{-\\infty}^\\infty |h(\\tau)|\\,d\\tau$\n",
    "\n",
    "Então, para $|y(t)|< L$, com $L$ finito, temos que a integral do módulo da resposta ao impulso tem que ser finita:\n",
    "\n",
    "$\\int_{-\\infty}^\\infty |h(\\tau)|\\,d\\tau<\\infty$\n",
    "\n",
    "Portanto, se a integral do módulo da resposta ao impulso for finita (também pode se dizer que é **absolutamente integrável**), o sistema é estável.\n",
    "\n",
    "---\n",
    "### Exemplo 1\n",
    "\n",
    "Vamos considerar um sistema com resposta ao impulso:\n",
    "\n",
    "$h(t) = e^{-2t}u(t)$\n",
    "\n",
    "A integral do módulo de $h(t)$ é:\n",
    "\n",
    "$\\int_{-\\infty}^{\\infty} |e^{-2t}u(t)|\\,dt = \\int_{0}^{\\infty} e^{-2t}\\,dt = \\left.\\frac{e^{-2t}}{-2}\\right|_{t=0}^\\infty = 0.5$ \n",
    "\n",
    "Portanto, o sistema com essa resposta ao impulso é estável.\n",
    "\n",
    "---\n",
    "\n",
    "\n",
    "---\n",
    "### Exemplo 2\n",
    "\n",
    "Vamos considerar um sistema com resposta ao impulso:\n",
    "\n",
    "$h(t) = e^{5t}u(t)$\n",
    "\n",
    "A integral do módulo de $h(t)$ é:\n",
    "\n",
    "$\\int_{-\\infty}^{\\infty} |e^{2t}u(t)|\\,dt = \\int_{0}^{\\infty} e^{2t}\\,dt = \\left.\\frac{e^{2t}}{2}\\right|_{t=0}^\\infty = \\infty$ \n",
    "\n",
    "Portanto, o sistema com essa resposta ao impulso é instável.\n",
    "\n",
    "---\n"
   ]
  },
  {
   "cell_type": "markdown",
   "id": "c4bdd737-f4c8-4d7d-b2fa-16c92c823068",
   "metadata": {},
   "source": [
    "## Função de transferência\n",
    "\n",
    "As funções de transferência dos sistemas encontrados na prática tem o formato abaixo:\n",
    "\n",
    "$H(s) = \\frac{Y(s)}{X(s)} = \\frac{b_Ms^M +...+b_2s^2+b_1s + b_0}{s^N + a_{N-1}s^{N-1}+...+a_0}$\n",
    "\n",
    "Como já visto anteriormente, elas podem ser reescritas na forma de polos e zeros:\n",
    "\n",
    "$H(S) = \\frac{G(s-z_1)(s-z_2)...(s-z_M)}{(s-p_1)(s-p_2)...(s-p_N)}$\n",
    "\n",
    "Vamos agora analisar a estabilidade de acordo com o número de polos e zeros:"
   ]
  },
  {
   "cell_type": "markdown",
   "id": "941f4550-ae16-474c-a279-b7af831895fe",
   "metadata": {},
   "source": [
    "### Caso em que $M<N$ com polos diferentes\n",
    "\n",
    "Quando $M<N$, podemos expandir a função de transferência como:\n",
    "\n",
    "$H(s) = \\frac{A_1}{s-p_1}+\\frac{A_2}{s-p_2}+...\\frac{A_N}{s-p_N}$\n",
    "\n",
    "Com isso a resposta ao impulso do sistema é:\n",
    "\n",
    "$h(t) = A_1e^{p_1t} + A_2e^{p_2t}+...+A_Ne^{p_Nt}$\n",
    "\n",
    "Para a resposta ao impulso ser absolutamente integrável, a parte real de todos os polos deverão ser negativos.\n",
    "\n",
    "Portanto, se todos os polos do sistema tiverem parte real negativas, o sistema será estável.\n",
    "\n"
   ]
  },
  {
   "cell_type": "markdown",
   "id": "e3586558-6dfa-4f6d-841c-2b149810d7ac",
   "metadata": {},
   "source": [
    "### Caso em que M < N com polos repetidos"
   ]
  },
  {
   "cell_type": "markdown",
   "id": "6118a79f-f371-4dec-86a6-2737fd0ba035",
   "metadata": {
    "tags": []
   },
   "source": [
    "Quando $M<N$, e algum polo é repetido podemos expandir a função de transferência como:\n",
    "\n",
    "$H(s) = \\frac{B_1}{s-p_1} + \\frac{B_2}{(s-p_1)^2}+...+\\frac{B_r}{(s-p_1)^r}+\\frac{A_{r+1}}{s-p_{r+1}}+...\\frac{A_N}{s-p_N}$\n",
    "\n",
    "Com isso a resposta ao impulso do sistema é:\n",
    "\n",
    "$h(t) = B_1e^{p_1t}+B_2te^{p_1t}+...+B_rt^{r-1}e^{p_1t} + A_{r+1}e^{p_{r+1}t}+...+A_Ne^{p_Nt}$\n",
    "\n",
    "Para a resposta ao impulso ser absolutamente integrável, o valor de todos os polos deverão ser negativos.\n",
    "\n",
    "Portanto, se todos os polos do sistema tiverem partes reais negativas, o sistema será estável.\n"
   ]
  },
  {
   "cell_type": "markdown",
   "id": "bbb67374-4729-4261-ab90-13c5787fc9b9",
   "metadata": {},
   "source": [
    "### Caso em que $M=N$\n",
    "\n",
    "Quando $M=N$, podemos expandir a função de transferência como:\n",
    "\n",
    "$H(s) = A + \\frac{A_1}{s-p_1}+\\frac{A_2}{s-p_2}+...\\frac{A_N}{s-p_N}$\n",
    "\n",
    "Com isso a resposta ao impulso do sistema é:\n",
    "\n",
    "$h(t) = A\\delta(t) + A_1e^{p_1t} + A_2e^{p_2t}+...+A_Ne^{p_Nt}$\n",
    "\n",
    "Para a resposta ao impulso ser absolutamente integrável (a integral de $\\delta(t)$ é 1), o valor de todos os polos deverão ser negativos.\n",
    "\n",
    "Portanto, se todos os polos do sistema tiverem parte reais  negativas, o sistema será estável.\n"
   ]
  },
  {
   "cell_type": "markdown",
   "id": "ee7f5361-3fd1-4b79-b798-ca5e853bee4e",
   "metadata": {},
   "source": [
    "Portanto, de uma maneira geral, **se os polos do sistema tiverem parte real negativa, o sistema é estável**.\n"
   ]
  },
  {
   "cell_type": "markdown",
   "id": "cf31a0e5-3ad0-476c-bd0d-3717aae3ec36",
   "metadata": {},
   "source": [
    "#### Exemplo 3\n",
    "\n",
    "\n"
   ]
  },
  {
   "cell_type": "markdown",
   "id": "253fb35f-46ff-4088-aeb7-b788b7707f1c",
   "metadata": {},
   "source": [
    "## Realimentação\n",
    "\n",
    "Quando encontramos sistemas instáveis, é muito comum querermos fazer com que o sistema se comporte de maneira estável. A maneira tradicional de fazer isso é utilizando uma realimentação.\n",
    "\n",
    "<img src=Imagens/realimentacao.png width=\"600\">\n",
    "\n",
    "Nesse tipo de ligação de sistemas, o sinal $x(t)$ é calculado usando o sistema controlador a partir do sinal $e(t) = r(t)-y(t)$\n",
    "\n",
    "---\n",
    "\n",
    "### Exemplo 4\n",
    "\n",
    "Vamos considerar um sistema com a seguinte equação diferencial:\n",
    "\n",
    "$\\frac{dy}{dt} = 3y(t) + x(t)$\n",
    "\n",
    "Uma equação desse tipo é encontrada, por exemplo, para descrever o ângulo $y(t)$ de um pêndulo invertido em resposta ao torque $x(t)$ aplicado no pêndulo.\n",
    "\n",
    "A função de transferência desse sistema é:\n",
    "\n",
    "$H(s) = \\frac{1}{s-3}$\n",
    "\n",
    "O polo desse sistema é 3. Ou seja, o sistema é instável.\n",
    "\n",
    "Para estabilizar esse sinal, podemos calcular o sinal $x(t)$ a partir de $e(t)=r(t)-y(t)$\n",
    "\n",
    "Se escolhermos o sistema controlador como:\n",
    "\n",
    "$x(t) = 10e(t)$\n",
    "\n",
    "Se fizermos isso $X(s) = 10E(s)$. \n",
    "\n",
    "Então:\n",
    "\n",
    "$Y(s) = \\frac{1}{s-3}10E(s) = \\frac{10}{s-3}(R(s)-Y(s)) \\rightarrow Y(s)\\left(1 + \\frac{10}{s-3}\\right) = \\frac{10}{s-3}R(s) \\rightarrow \\frac{Y(s)}{R(s)} = \\frac{\\frac{10}{s-3}}{\\frac{s+7}{s-3}} = \\frac{10}{s+7}$\n",
    "\n",
    "Com a realimentação, a função de transferência entre $r(t)$ e $y(t)$ é:\n",
    "\n",
    "$H_2(s) = \\frac{10}{s+7}$\n",
    "\n",
    "O polo desse novo sistema é -7, e consequentemente, o sistema resultante é estável.\n",
    "\n",
    "---\n",
    "Mais detalhes sobre esse tipo de sistema podem ser vistos em disciplinas de Controle como a disciplina *Análise e Controle de Sistemas Mecânicos*.\n"
   ]
  },
  {
   "cell_type": "markdown",
   "id": "8d275974-1b35-46c7-abc9-3223d88a8189",
   "metadata": {},
   "source": [
    "## Exercícios"
   ]
  },
  {
   "cell_type": "markdown",
   "id": "3ce6f682-3249-48d9-9613-8fc6fda4f968",
   "metadata": {},
   "source": [
    "**1)** Quais destas respostas ao impulso são de sistemas estáveis. Todos os sistemas são lineares e invariantes no tempo:\n",
    "\n",
    "a) $h_1(t) = e^{-2|t|}$\n",
    "\n",
    "b) $h_2(t) = (1-|t|)[u(t+2)-u(t-2)]$\n",
    "\n",
    "c) $h_3(t) = e^{3t}u(-t)$\n",
    "\n",
    "d) $h_4(t) = e^{3t}u(t)$\n",
    "\n",
    "e) $h_5(t) = \\cos(3t)u(t)$\n",
    "\n",
    "f) $h_6(t) = \\frac{t}{t+1}u(t)$"
   ]
  },
  {
   "cell_type": "markdown",
   "id": "c766db8e-111c-4846-817f-72201b362bf8",
   "metadata": {},
   "source": [
    "**2)** Para que valores de $a$ o sistema linear e invariante no tempo com a resposta ao impulso abaixo é estável?\n",
    "\n",
    "$h(t) = \\frac{2}{t^a}u(t-1)$\n",
    "\n"
   ]
  },
  {
   "cell_type": "markdown",
   "id": "bda9f489-af95-416b-868b-125bbc4e6a2a",
   "metadata": {},
   "source": [
    "**3)** Considere a seguinte equação diferencial:\n",
    "\n",
    "$$\\frac{dy}{dt} = ay(t) + x(t) $$\n",
    "\n",
    "a) Encontre uma expressão para a resposta ao impulso do sistema $h(t)$ em função da constante $a$.\n",
    "\n",
    "b) Para que faixa de valores de $a$ o sistema é estável?"
   ]
  },
  {
   "cell_type": "markdown",
   "id": "848d1a34-69de-4e09-b47e-d4d5f6af3f43",
   "metadata": {},
   "source": [
    "## Referências\n",
    "\n",
    "- Ulaby, FT e Yagle, AE, Signals & Systems: Theory and Applications, 2018, [ss2.eecs.umich.edu](ss2.eecs.umich.edu)\n",
    "- Oppenheim, M.  e Willsky, S., Sistemas e Sinais, 2010\n",
    "\n",
    "- Lathi, BP, Sinais e Sistemas Lineares, 2007\n",
    "\n",
    "- Ogata, K. Engenharia de controle moderno. 4a ed. Prentice Hall, 2003"
   ]
  },
  {
   "cell_type": "code",
   "execution_count": null,
   "id": "d41bd68b-9b8a-499b-aafd-bf954364bec6",
   "metadata": {},
   "outputs": [],
   "source": []
  }
 ],
 "metadata": {
  "kernelspec": {
   "display_name": "Python 3 (ipykernel)",
   "language": "python",
   "name": "python3"
  },
  "language_info": {
   "codemirror_mode": {
    "name": "ipython",
    "version": 3
   },
   "file_extension": ".py",
   "mimetype": "text/x-python",
   "name": "python",
   "nbconvert_exporter": "python",
   "pygments_lexer": "ipython3",
   "version": "3.10.11"
  }
 },
 "nbformat": 4,
 "nbformat_minor": 5
}
