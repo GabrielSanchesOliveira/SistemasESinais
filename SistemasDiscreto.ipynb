{
 "cells": [
  {
   "cell_type": "markdown",
   "id": "16e25cbf-a765-4535-a602-6f80d85f01bf",
   "metadata": {},
   "source": [
    "# Sistemas de tempo discreto\n",
    "\n",
    "Renato Naville Watanabe"
   ]
  },
  {
   "cell_type": "code",
   "execution_count": null,
   "id": "2115dd1f-3f08-425b-969e-15b9943c294e",
   "metadata": {},
   "outputs": [],
   "source": []
  },
  {
   "cell_type": "code",
   "execution_count": null,
   "id": "a7e3d996-f0bd-45a8-bb3a-d7644f20a492",
   "metadata": {},
   "outputs": [],
   "source": []
  },
  {
   "cell_type": "code",
   "execution_count": null,
   "id": "05d9159a-a6ea-407a-9c70-b2605bc391c2",
   "metadata": {},
   "outputs": [],
   "source": []
  },
  {
   "cell_type": "code",
   "execution_count": null,
   "id": "263f62a4-3b7e-40a4-8462-993a072c81cf",
   "metadata": {},
   "outputs": [],
   "source": []
  },
  {
   "cell_type": "markdown",
   "id": "8b7a60d5-df38-4a7d-a61a-0a102aaef4fe",
   "metadata": {},
   "source": [
    "## Exercícios"
   ]
  },
  {
   "cell_type": "markdown",
   "id": "d198adfa-1a0f-4abd-ad10-af5d838f2f44",
   "metadata": {},
   "source": [
    "## Referências"
   ]
  },
  {
   "cell_type": "code",
   "execution_count": null,
   "id": "09e4ec24-02cd-475b-9aab-8975a35ff21a",
   "metadata": {},
   "outputs": [],
   "source": []
  }
 ],
 "metadata": {
  "kernelspec": {
   "display_name": "Python 3 (ipykernel)",
   "language": "python",
   "name": "python3"
  },
  "language_info": {
   "codemirror_mode": {
    "name": "ipython",
    "version": 3
   },
   "file_extension": ".py",
   "mimetype": "text/x-python",
   "name": "python",
   "nbconvert_exporter": "python",
   "pygments_lexer": "ipython3",
   "version": "3.9.16"
  }
 },
 "nbformat": 4,
 "nbformat_minor": 5
}
