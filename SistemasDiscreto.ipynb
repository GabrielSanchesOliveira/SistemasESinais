{
 "cells": [
  {
   "cell_type": "markdown",
   "id": "16e25cbf-a765-4535-a602-6f80d85f01bf",
   "metadata": {},
   "source": [
    "# Sistemas de tempo discreto\n",
    "\n",
    "Renato Naville Watanabe"
   ]
  },
  {
   "cell_type": "markdown",
   "id": "e36cfbee-73fc-408a-a61b-a25c5fedc7ff",
   "metadata": {},
   "source": [
    "Sistemas de tempo discreto são dispositivos, processos ou objetos que aceitam como entrada um sinal de tempo discreto e devolvem como sinal de saída um sinal de tempo discreto.\n",
    "\n",
    "\n",
    "<img src=discsis.png width=\"400\">"
   ]
  },
  {
   "cell_type": "code",
   "execution_count": null,
   "id": "a7e3d996-f0bd-45a8-bb3a-d7644f20a492",
   "metadata": {},
   "outputs": [],
   "source": []
  },
  {
   "cell_type": "code",
   "execution_count": null,
   "id": "05d9159a-a6ea-407a-9c70-b2605bc391c2",
   "metadata": {},
   "outputs": [],
   "source": []
  },
  {
   "cell_type": "code",
   "execution_count": null,
   "id": "263f62a4-3b7e-40a4-8462-993a072c81cf",
   "metadata": {},
   "outputs": [],
   "source": []
  },
  {
   "cell_type": "markdown",
   "id": "8b7a60d5-df38-4a7d-a61a-0a102aaef4fe",
   "metadata": {},
   "source": [
    "## Exercícios"
   ]
  },
  {
   "cell_type": "markdown",
   "id": "d198adfa-1a0f-4abd-ad10-af5d838f2f44",
   "metadata": {},
   "source": [
    "## Referências\n",
    "\n",
    "- Oppenheim, M. Sistemas e Sinais, 2010\n",
    "- Ulaby, FT e Yagle, AE, Signals & Systems: Theory and Applications, 2018, [ss2.eecs.umich.edu](ss2.eecs.umich.edu)\n",
    "- Lathi, BP, Sinais e Sistemas Lineares, 2007"
   ]
  }
 ],
 "metadata": {
  "kernelspec": {
   "display_name": "Python 3 (ipykernel)",
   "language": "python",
   "name": "python3"
  },
  "language_info": {
   "codemirror_mode": {
    "name": "ipython",
    "version": 3
   },
   "file_extension": ".py",
   "mimetype": "text/x-python",
   "name": "python",
   "nbconvert_exporter": "python",
   "pygments_lexer": "ipython3",
   "version": "3.9.16"
  }
 },
 "nbformat": 4,
 "nbformat_minor": 5
}
