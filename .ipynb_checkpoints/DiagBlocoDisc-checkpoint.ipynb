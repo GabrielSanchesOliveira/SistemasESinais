{
 "cells": [
  {
   "cell_type": "markdown",
   "id": "ff5fd5f9-1b18-4ddb-8b4e-2a1b58e22093",
   "metadata": {},
   "source": [
    "# Representação de sistemas discretos com diagrama de blocos\n",
    "\n",
    "Renato Naville Watanabe"
   ]
  },
  {
   "cell_type": "markdown",
   "id": "d4ef199b-4ee4-4fc4-bf1b-92dffc3f7579",
   "metadata": {},
   "source": [
    "## Diagrama de Blocos\n",
    "\n",
    "Uma grande vantagem dos sistemas descritos por equações de diferenças é que eles podems ser representados por **diagrama de blocos**. Diagramas de blocos fornecem uma representação gráfica do funcionamento do sistema e pode ficar mais claro como realizar uma uma implementação em hardware (ou software) do sistema. \n",
    "\n",
    "Os diagramas de blocos de tempo discreto são compostos de três elementos:\n",
    "\n",
    "<img src=elemdiscbloco.png width=\"400\">\n",
    "\n",
    "Cada um desses três elementos podem ser vistos como um sistema. \n",
    "\n",
    "- O somador recebe vários sinais como entrada e retorna como saída soma de todos os sinais.\n",
    "\n",
    "- O atraso (D de *delay*, atraso em inglês) recebe um sinal $x[n]$ e devolve como saída $x[n-1]$ (atraso de um passo).\n",
    "\n",
    "- O ganho recebe um sinal $x[n]$ e devolve $kx[n]$, ou seja, o sinal de entrada é multiplicado pelo valor indicado dentro do triângulo.\n",
    "\n",
    "Podem ser utilizados outros símbolos para esses elementos (por exemplo, em algumas referências se utiliza $\\Sigma$ ao invés de + para o somador), mas esses serão os símbolos utilizados nesse curso. De qualquer forma, esses três elementos são suficientes para representar qualquer sistema linear invariante no tempo."
   ]
  },
  {
   "cell_type": "markdown",
   "id": "bce67e2d-9d42-47a2-a7c2-51eae8e5e7de",
   "metadata": {},
   "source": [
    "<div class=\"alert-warning\">\n",
    "    \n",
    "Como exemplo, vamos fazer o diagrama de blocos da equação de diferenças:\n",
    "\n",
    "$$y[n] + 0.7y[n-1] = x[n]$$\n",
    "\n",
    "Note que precisamos dos três elementos mencionados anteriormente para descrever a equação de diferenças: somador, atraso e ganho.\n",
    "\n",
    "Para fazermos o diagrama de blocos, primeiro colocamos a equação no formato que usaríamos para calcular os valores dos sinais:\n",
    "\n",
    "$$y[n] = -  0.7y[n-1] + x[n]$$\n",
    "    \n",
    "O diagrama de blocos é mostrado abaixo.\n",
    "    \n",
    "<img src=diagexample.png width=\"500\">\n",
    "    \n",
    "Nele fica bem evidente que $y[n]$ é a soma do $x[n]$ com o sinal $y[n]$ atrasado de um passo amplificado por um ganho. Uma coisa que fica bem evidente no diagrama de blocos é a presença de **realimentação** do sinal $y[n]$. Perceber essa realimentação não é tão óbvio apenas com a equação de diferenças.\n",
    "</div>"
   ]
  },
  {
   "cell_type": "markdown",
   "id": "59a718d4-bb64-4ce1-83e9-b92b32eb7db6",
   "metadata": {},
   "source": [
    "Outra coisa que é bem mais clara no diagrama de blocos é a sequência de operações que devem ser executadas. Isso se deve a presença das setas. Essa informação não está presente na equação de diferenças.\n",
    "\n",
    "Um outro fator que fica mais claro com o diagrama de blocos é a necessidade de um elemento de memória: o atraso. Ele precisa guardar a informação por um passo.\n",
    "\n",
    "O exemplo acima é bem simples, mas a ideia é a mesma para sistemas mais complexos. Uma última observação é que existem diversas representações em diagrama de blocos para o mesmo sistema. Por exemplo, no diagrama acima, o ganho poderia ter sido colocado antes do atraso. Como são operações lineares, o resultado é o mesmo."
   ]
  },
  {
   "cell_type": "markdown",
   "id": "ed101d37-c160-4aae-af19-521d15e3c0ca",
   "metadata": {},
   "source": [
    "## Exercícios\n",
    "\n",
    "**1)** Faça o diagrama de blocos dos sistemas das equações de diferenças abaixo:\n",
    "\n",
    "a) $y[n] = 0.2y[n-1] + 0.5x[n]$\n",
    "\n",
    "b) $y[n] = 0.2y[n-1] + x[n-1]$\n",
    "\n",
    "c) $y[n] = 0.2y[n-1] + x[n] + 0.5x[n-1]$"
   ]
  },
  {
   "cell_type": "code",
   "execution_count": null,
   "id": "2cb0f6b7-1946-4c88-b326-eb041b1246f4",
   "metadata": {},
   "outputs": [],
   "source": []
  },
  {
   "cell_type": "markdown",
   "id": "90c6392d-66a7-4f27-8866-b1843eeb3036",
   "metadata": {},
   "source": [
    "## Referências\n",
    "\n",
    "- Oppenheim, M.  e Willsky, S. Sistemas e Sinais, 2010\n",
    "- Lathi, BP, Sinais e Sistemas Lineares, 2007"
   ]
  },
  {
   "cell_type": "code",
   "execution_count": null,
   "id": "f5c352f5-a594-4361-8e24-560fad94abae",
   "metadata": {},
   "outputs": [],
   "source": []
  }
 ],
 "metadata": {
  "kernelspec": {
   "display_name": "Python 3 (ipykernel)",
   "language": "python",
   "name": "python3"
  },
  "language_info": {
   "codemirror_mode": {
    "name": "ipython",
    "version": 3
   },
   "file_extension": ".py",
   "mimetype": "text/x-python",
   "name": "python",
   "nbconvert_exporter": "python",
   "pygments_lexer": "ipython3",
   "version": "3.9.16"
  }
 },
 "nbformat": 4,
 "nbformat_minor": 5
}
