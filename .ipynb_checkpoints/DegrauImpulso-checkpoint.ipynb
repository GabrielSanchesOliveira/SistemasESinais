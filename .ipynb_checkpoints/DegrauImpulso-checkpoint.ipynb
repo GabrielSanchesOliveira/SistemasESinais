{
 "cells": [
  {
   "cell_type": "markdown",
   "id": "2d4af1f9-d488-4b7e-8f07-7270db48d81e",
   "metadata": {},
   "source": [
    "# Funções degrau e impulso\n",
    "\n",
    "Renato Naville Watanabe"
   ]
  },
  {
   "cell_type": "code",
   "execution_count": null,
   "id": "2ddd52a1-ca89-4eee-a585-e3e97c05ac2e",
   "metadata": {},
   "outputs": [],
   "source": []
  },
  {
   "cell_type": "code",
   "execution_count": null,
   "id": "4509d9dc-7741-4398-b2d2-ceb872ed88cd",
   "metadata": {},
   "outputs": [],
   "source": []
  },
  {
   "cell_type": "code",
   "execution_count": null,
   "id": "0ea356c3-c5e0-49b1-845f-021b10cbb81a",
   "metadata": {},
   "outputs": [],
   "source": []
  },
  {
   "cell_type": "markdown",
   "id": "2f4d6d7d-7bbe-49ca-a0d7-3b9becffd22a",
   "metadata": {},
   "source": [
    "## Exercícios"
   ]
  },
  {
   "cell_type": "code",
   "execution_count": null,
   "id": "b3479e3a-6e45-4a64-ad50-9df85e9e087e",
   "metadata": {},
   "outputs": [],
   "source": []
  },
  {
   "cell_type": "markdown",
   "id": "3756de4b-629f-47a9-be93-050e708a3b64",
   "metadata": {},
   "source": [
    "## Referências"
   ]
  },
  {
   "cell_type": "code",
   "execution_count": null,
   "id": "8d7b05a7-ec78-48a4-81dd-ad0def483a76",
   "metadata": {},
   "outputs": [],
   "source": []
  }
 ],
 "metadata": {
  "kernelspec": {
   "display_name": "Python 3 (ipykernel)",
   "language": "python",
   "name": "python3"
  },
  "language_info": {
   "codemirror_mode": {
    "name": "ipython",
    "version": 3
   },
   "file_extension": ".py",
   "mimetype": "text/x-python",
   "name": "python",
   "nbconvert_exporter": "python",
   "pygments_lexer": "ipython3",
   "version": "3.9.16"
  }
 },
 "nbformat": 4,
 "nbformat_minor": 5
}
