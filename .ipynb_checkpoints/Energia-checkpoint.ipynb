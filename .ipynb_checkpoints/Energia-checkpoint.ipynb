{
 "cells": [
  {
   "cell_type": "markdown",
   "id": "8ecc87d0-8039-45de-94dc-b23bb0788420",
   "metadata": {},
   "source": [
    "# Sinais\n",
    "\n",
    "Renato Naville Watanabe"
   ]
  },
  {
   "cell_type": "markdown",
   "id": "40b3e34f-726f-43fd-b2bc-63c7cb49828b",
   "metadata": {},
   "source": [
    "Sinais podem representar diversos fenômenos físicos, como velocidade de um carro, voz de uma pessoa, força exercida por um músculo, batimentos cardíacos, taxa de juros ao longo dos meses, entre infinitos outros exemplos. \n",
    "\n"
   ]
  },
  {
   "cell_type": "markdown",
   "id": "71516eac-e096-4338-95b8-f4ef3ab25043",
   "metadata": {},
   "source": [
    "Matematicamente, sinais são representados como sendo gerados por funções de uma ou mais variáveis independentes.\n",
    "\n",
    "Aqui, consideraremos apenas uma variável independente, e na maioria das vezes, é o tempo."
   ]
  },
  {
   "cell_type": "markdown",
   "id": "4e03a91c-07f0-4902-a7e3-977fcb3d1fcf",
   "metadata": {},
   "source": [
    "## Sinais de tempo contínuo\n",
    "\n",
    "Para deixar claro que um sinal é de tempo contínuo, o tempo será sempre denotado por $t$ e estará entre parânteses. Por exempo,\n",
    "\n",
    "$$x(t) = \\cos(2\\pi t) $$"
   ]
  },
  {
   "cell_type": "markdown",
   "id": "6fec97c8-f724-4b8b-9288-3b371834226e",
   "metadata": {},
   "source": [
    "## Sinais de tempo discreto\n",
    "\n",
    "Para deixar claro que um sinal é de tempo discreto, o tempo será representado por $k$ entre colchetes. Por exemplo:\n",
    "\n",
    "$$x[k] = \\cos\\left(\\frac{2\\pi k}{N}\\right) $$"
   ]
  },
  {
   "cell_type": "code",
   "execution_count": null,
   "id": "3ff2268c-ee97-426b-b6dc-e9f77df8d1cd",
   "metadata": {},
   "outputs": [],
   "source": []
  }
 ],
 "metadata": {
  "kernelspec": {
   "display_name": "Python 3 (ipykernel)",
   "language": "python",
   "name": "python3"
  },
  "language_info": {
   "codemirror_mode": {
    "name": "ipython",
    "version": 3
   },
   "file_extension": ".py",
   "mimetype": "text/x-python",
   "name": "python",
   "nbconvert_exporter": "python",
   "pygments_lexer": "ipython3",
   "version": "3.9.16"
  }
 },
 "nbformat": 4,
 "nbformat_minor": 5
}
