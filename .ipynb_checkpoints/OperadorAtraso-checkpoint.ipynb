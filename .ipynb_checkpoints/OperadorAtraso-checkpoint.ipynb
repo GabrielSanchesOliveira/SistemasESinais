{
 "cells": [
  {
   "cell_type": "markdown",
   "id": "109282f6-6f55-4920-b58d-9f7c2c0914a0",
   "metadata": {},
   "source": [
    "# Operador atraso e Função de transferência\n",
    "\n",
    "Renato Naville  Watanabe"
   ]
  },
  {
   "cell_type": "markdown",
   "id": "c991be82-4d47-4602-be7c-78d4e2577c95",
   "metadata": {},
   "source": [
    "Até agora já vimos duas representações de um sistema linear invariante no tempo: a equação de diferenças e o diagrama de blocos.\n",
    "\n",
    "Agora vamos ver uma terceira representação de sistemas lineares invariantes no tempo: a **função de transferência**"
   ]
  },
  {
   "cell_type": "markdown",
   "id": "57459769-3502-428b-b223-6d54347baa9f",
   "metadata": {},
   "source": [
    "Para isso, vamos primeiro introduzir o **operador atraso**. O operador atraso, aqui representado pelo símbolo $q^{-1}$ opera em um sinal de tempo discreto, atrasando o sinal todo em uma unidade de tempo discreto.\n"
   ]
  },
  {
   "cell_type": "markdown",
   "id": "1b4f4acb-e747-4acc-9078-6a79ab673316",
   "metadata": {},
   "source": [
    "<div class=\"alert-warning\">\n",
    "Por exemplo, a equação de diferenças:\n",
    "    \n",
    "$$y[n] = x[n-1]$$\n",
    "    \n",
    "\n",
    "</div>"
   ]
  },
  {
   "cell_type": "markdown",
   "id": "7d956411-5bfc-469c-9a9d-bc14582534ce",
   "metadata": {
    "jp-MarkdownHeadingCollapsed": true,
    "tags": []
   },
   "source": [
    "## Exercícios\n",
    "\n"
   ]
  },
  {
   "cell_type": "markdown",
   "id": "086e4195-ea72-4eef-859f-6984db9439c6",
   "metadata": {},
   "source": [
    "## Referências\n",
    "\n",
    "- Oppenheim, M.  e Willsky, S. Sistemas e Sinais, 2010\n",
    "- Lathi, BP, Sinais e Sistemas Lineares, 2007\n",
    "- Ljung, L., System Identification, 1999"
   ]
  },
  {
   "cell_type": "code",
   "execution_count": null,
   "id": "2c87dd1f-7f3d-40c0-90a4-7b9f084995ba",
   "metadata": {},
   "outputs": [],
   "source": []
  }
 ],
 "metadata": {
  "kernelspec": {
   "display_name": "Python 3 (ipykernel)",
   "language": "python",
   "name": "python3"
  },
  "language_info": {
   "codemirror_mode": {
    "name": "ipython",
    "version": 3
   },
   "file_extension": ".py",
   "mimetype": "text/x-python",
   "name": "python",
   "nbconvert_exporter": "python",
   "pygments_lexer": "ipython3",
   "version": "3.9.16"
  }
 },
 "nbformat": 4,
 "nbformat_minor": 5
}
