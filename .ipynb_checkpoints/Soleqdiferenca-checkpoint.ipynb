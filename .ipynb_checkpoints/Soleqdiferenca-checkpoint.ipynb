{
 "cells": [
  {
   "cell_type": "markdown",
   "id": "3641f59d-4f6f-48dd-a3b6-632dc86d97f7",
   "metadata": {},
   "source": [
    "# Resposta de entrada nula de equações de diferenças \n",
    "\n",
    "Renato Naville Watanabe"
   ]
  },
  {
   "cell_type": "markdown",
   "id": "12adaddd-34bb-4022-a043-8e8b71374fed",
   "metadata": {},
   "source": [
    "Aqui, vamos encontrar uma expressão para $y[n]$ que só dependa de $n$, dada uma equação de diferenças linear e invariante no tempo:\n",
    "\n",
    "$$y[n] + a_{1}y[n-1]+...+a_Ny[n-N] = b_Mx[n-M] +...+b_2x[n-2]+b_1x[n-1] + b_0y[n] $$"
   ]
  },
  {
   "cell_type": "markdown",
   "id": "f3b22713-f0e3-484a-9817-b67cb9343ad6",
   "metadata": {},
   "source": [
    "A solução desta equação é formada por duas partes:\n",
    "\n",
    "$$y[n] = y_{zi}[n] + y_{zs}[n]$$\n",
    "\n",
    "em que $y_{zi}[n]$ é a parte de $y$ devida às condições iniciais do sinal de saída (os valores de $y[n-1], y[n-2], ..., y[n-N]$ quando $n$ = 0). Para o cálculo dessa componente, considera-se que a entrada $x[n]$ é nula ($zi$ é de *zero input*, **entrada nula** em inglês). \n",
    "\n",
    "A outra componente, $y_{zs}[n]$, é devido à entrada $x[n]$. Para o cálculo dessa componente consideramos que os valores de $y[n-1], y[n-2], ..., y[n-N]$ quando $n$ = 0 são todos iguais a 0 ($zs$ é de *zero state*, **estado nulo** em inglês, às vezes também chamado de **repouso**)."
   ]
  },
  {
   "cell_type": "markdown",
   "id": "1fa58dc3-41ba-46ce-82a0-ab20d72400fe",
   "metadata": {},
   "source": [
    "Aqui, vamos entender como obter a reposta de entrada nula para sistemas discretos lineares e invariantes no tempo."
   ]
  },
  {
   "cell_type": "markdown",
   "id": "a736a581-2892-47ba-8593-05e707a15e3e",
   "metadata": {},
   "source": [
    "Vamos analisar a resposta de entrada nula da seguinte equação de diferenças:\n",
    "\n",
    "$y[n] - 0.5y[n-1] = x[n]$\n",
    "\n",
    "Com $y[0] = 1$\n",
    "\n",
    "Resolvendo de forma recursiva, chegamos no seguinte gráfico para a resposta de entrada nula ($x[n]=0$):"
   ]
  },
  {
   "cell_type": "code",
   "execution_count": 9,
   "id": "13c4ce94-891f-4ec5-b54d-10da22a85098",
   "metadata": {
    "tags": []
   },
   "outputs": [
    {
     "data": {
      "text/plain": [
       "<StemContainer object of 3 artists>"
      ]
     },
     "execution_count": 9,
     "metadata": {},
     "output_type": "execute_result"
    },
    {
     "data": {
      "image/png": "[encoded data removed]",
      "text/plain": [
       "<Figure size 400x400 with 1 Axes>"
      ]
     },
     "metadata": {},
     "output_type": "display_data"
    }
   ],
   "source": [
    "import numpy as np\n",
    "import matplotlib.pyplot as plt\n",
    "\n",
    "plt.figure(figsize=(4,4))\n",
    "N = 10\n",
    "y = np.ones(N)\n",
    "for n in range(1,N):\n",
    "    y[n] = 0.5*y[n-1]\n",
    "plt.stem(y)"
   ]
  },
  {
   "cell_type": "markdown",
   "id": "db4ac44a-8bfb-4b5f-8626-cb941f130d3d",
   "metadata": {},
   "source": [
    "É possível notar que é podemos escrever o sinal $y_{zi}[n]$ como:\n",
    "\n",
    "$y[n] = 0.5^nu[n]$"
   ]
  },
  {
   "cell_type": "markdown",
   "id": "4b1ebccc-2dac-476c-8787-20176df4f158",
   "metadata": {},
   "source": [
    "## Exercícios"
   ]
  },
  {
   "cell_type": "markdown",
   "id": "bdd7b838-9f3c-4c21-8094-cc1e946705e3",
   "metadata": {},
   "source": [
    "## Referências\n",
    "\n",
    "- Lathi, BP, Sinais e Sistemas Lineares, 2007\n",
    "\n"
   ]
  },
  {
   "cell_type": "code",
   "execution_count": null,
   "id": "41ad84d4-de44-4856-9ce4-43beb3717d14",
   "metadata": {},
   "outputs": [],
   "source": []
  }
 ],
 "metadata": {
  "kernelspec": {
   "display_name": "Python 3 (ipykernel)",
   "language": "python",
   "name": "python3"
  },
  "language_info": {
   "codemirror_mode": {
    "name": "ipython",
    "version": 3
   },
   "file_extension": ".py",
   "mimetype": "text/x-python",
   "name": "python",
   "nbconvert_exporter": "python",
   "pygments_lexer": "ipython3",
   "version": "3.9.16"
  }
 },
 "nbformat": 4,
 "nbformat_minor": 5
}
