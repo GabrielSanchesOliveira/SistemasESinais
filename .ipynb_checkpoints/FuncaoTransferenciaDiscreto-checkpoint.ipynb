{
 "cells": [
  {
   "attachments": {},
   "cell_type": "markdown",
   "metadata": {},
   "source": [
    "# Função de transferência de sistemas discretos\n",
    "\n",
    "Renato Naville Watanabe"
   ]
  },
  {
   "cell_type": "markdown",
   "metadata": {},
   "source": [
    "Aqui, vamos considerar o formato geral de uma equação de diferenças de um sistema linear e invariante no tempo:\n",
    "\n",
    "$$y[n] + a_{1}y[n-1]+...+a_Ny[n-N] = b_Mx[n-M] +...+b_2x[n-2]+b_1x[n-1] + b_0x[n] $$\n",
    "\n",
    "Como já vimos anteriormente, a solução desta equação é formada por duas partes:\n",
    "\n",
    "$$y[n] = y_{zi}[n] + y_{zs}[n]$$\n",
    "\n",
    "em que $y_{zi}[n]$ é a parte de $y$ devida às condições iniciais do sinal de saída (os valores de $y[n-1], y[n-2], ..., y[n-N]$ quando $n$ = 0). Para o cálculo dessa componente, considera-se que a entrada $x[n]$ é nula ($zi$ é de *zero input*, **entrada nula** em inglês). \n",
    "\n",
    "A outra componente, $y_{zs}[n]$, é devido à entrada $x[n]$. Para o cálculo dessa componente consideramos que os valores de $y[n-1], y[n-2], ..., y[n-N]$ quando $n$ = 0 são todos iguais a 0 ($zs$ é de *zero state*, **estado nulo** em inglês, às vezes também chamado de **repouso**).\n",
    "\n",
    "Vamos agora encontrar essas duas partes da solução utilizando transformada Z. É consideravelmente mais simples do que o método clássico."
   ]
  },
  {
   "cell_type": "markdown",
   "metadata": {},
   "source": [
    "## Resposta de estado nulo\n",
    "\n",
    "Como já vimos anteriormente, a transformada Z de $x[n-m]$ é:\n",
    "\n",
    "$\\mathcal{Z}(x[n-m]) = z^{-m}X(z)$\n",
    "\n",
    "e a transformada Z de $y[n-m]$ é:\n",
    "\n",
    "$\\mathcal{Z}(y[n-m]) = z^{-m}Y(z)$"
   ]
  },
  {
   "attachments": {},
   "cell_type": "markdown",
   "metadata": {},
   "source": [
    "Substituindo essas transformadas dos sinais atrasado na equação de diferenças, temos:\n",
    "\n",
    "$$Y(z) + a_{1}z^{-1}Y(z)+...+a_Nz^{-N}Y(z) = b_Mz^{-M}X(z) +...+b_2z^{-2}X(z)+b_1z^{-1}X(z) + b_0X(z) $$\n",
    "\n",
    "Com isso, podemos definir a função $H(z)$:\n",
    "\n",
    "$H(z) = \\frac{Y(z)}{X(z)} = \\frac{b_Mz^{-M} +...+b_2z^{-2}+b_1z^{-1} + b_0}{1 + a_{1}z^{-1}+...+a_Nz^{-N}}$\n",
    "\n",
    "Essa função é conhecida como **função de transferência** do sistema. Ela é obtida diretamente dos coeficientes da equação de diferenças."
   ]
  },
  {
   "cell_type": "markdown",
   "metadata": {},
   "source": [
    "---\n",
    "\n",
    "### Exemplo 1\n",
    "\n",
    "Vamos considerar o sistema com a seguinte equação de diferenças:\n",
    "\n",
    "$y[n] + 3y[n-1] - 4y[n-2] = 3x[n] + x[n-1]$\n",
    "\n",
    "A função de transferência deste sistema é:\n",
    "\n",
    "$H(z) = \\frac{3+z^{-1}}{1 + 3z^{-1}-4z^{-2}}$\n",
    "\n",
    "---"
   ]
  },
  {
   "attachments": {},
   "cell_type": "markdown",
   "metadata": {},
   "source": [
    "---\n",
    "\n",
    "### Exemplo 2\n",
    "\n",
    "Vamos considerar o sistema com a seguinte equação de diferenças:\n",
    "\n",
    "$y[n]  = -y[n-1] + x[n]$\n",
    "\n",
    "A função de transferência deste sistema é:\n",
    "\n",
    "$H(z) = \\frac{1}{1 + z^{-1}}$\n",
    "\n",
    "---"
   ]
  },
  {
   "cell_type": "markdown",
   "metadata": {},
   "source": [
    "Observando a expressão da função de transferência, vemos que se $X(z) = 1$, $Y(z) = H(z)$. O sinal $x[n]$ que tem uma transformada Z igual a 1 é o impulso unitário ($x[n]=\\delta[n]$)"
   ]
  },
  {
   "attachments": {},
   "cell_type": "markdown",
   "metadata": {},
   "source": [
    "## Exercícios\n",
    "\n"
   ]
  },
  {
   "attachments": {},
   "cell_type": "markdown",
   "metadata": {},
   "source": []
  },
  {
   "attachments": {},
   "cell_type": "markdown",
   "metadata": {},
   "source": [
    "## Referências\n",
    "\n",
    "- Ulaby, FT e Yagle, AE, Signals & Systems: Theory and Applications, 2018, [ss2.eecs.umich.edu](ss2.eecs.umich.edu)\n",
    "- Lathi, BP, Sinais e Sistemas Lineares, 2007\n",
    "- Oppenheim, M.  e Willsky, S., Sistemas e Sinais, 2010"
   ]
  },
  {
   "attachments": {},
   "cell_type": "markdown",
   "metadata": {},
   "source": [
    "## Solução dos exercícios"
   ]
  },
  {
   "cell_type": "code",
   "execution_count": null,
   "metadata": {},
   "outputs": [],
   "source": []
  }
 ],
 "metadata": {
  "kernelspec": {
   "display_name": "Python 3 (ipykernel)",
   "language": "python",
   "name": "python3"
  },
  "language_info": {
   "codemirror_mode": {
    "name": "ipython",
    "version": 3
   },
   "file_extension": ".py",
   "mimetype": "text/x-python",
   "name": "python",
   "nbconvert_exporter": "python",
   "pygments_lexer": "ipython3",
   "version": "3.10.11"
  }
 },
 "nbformat": 4,
 "nbformat_minor": 4
}
