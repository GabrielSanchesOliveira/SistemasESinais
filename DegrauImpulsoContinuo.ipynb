{
 "cells": [
  {
   "cell_type": "markdown",
   "id": "2d4af1f9-d488-4b7e-8f07-7270db48d81e",
   "metadata": {},
   "source": [
    "# Sinais degrau e impulso  em tempo contínuo\n",
    "\n",
    "Renato Naville Watanabe"
   ]
  },
  {
   "cell_type": "markdown",
   "id": "23dfb6ee-14a5-49c0-9829-7db3c0529c66",
   "metadata": {},
   "source": [
    "## Sinal impulso"
   ]
  },
  {
   "cell_type": "markdown",
   "id": "0364e131-faca-4eaf-a146-1f4b8999974e",
   "metadata": {},
   "source": [
    "O sistema dinâmico mais simples em tempo contínuo é o integrador. Então é razoável querermos um sinal bem simples que ao passar por um integrador tenha seja um sinal simples, como o valor 1. \n",
    "\n",
    "Uma primeira tentativa que alguém poderia pensar seria\n",
    "\n",
    "$x(t) = \\left\\{\\begin{array}{cc}1 & t= 0 \\\\0 & \\text{c.c} \\end{array}\\right.$\n",
    "\n",
    "Porém, esse sinal tem a integral com valor igual a 0. \n",
    "\n",
    "Uma outra tentativa é um pulso. É possível construir um pulso com duração $\\Delta$ e altura $1/\\Delta$.\n",
    "\n",
    "$$\\delta_\\Delta(t) =  \\left\\{\\begin{array}{cc}\\frac{1}{\\Delta} & 0 \\leq t < \\Delta \\\\0 & \\text{c.c} \\end{array}\\right.$$\n"
   ]
  },
  {
   "cell_type": "code",
   "execution_count": 1,
   "id": "f1e333cc-95e8-4a29-8833-d205aa269254",
   "metadata": {
    "tags": []
   },
   "outputs": [
    {
     "ename": "ModuleNotFoundError",
     "evalue": "No module named 'ipympl'",
     "output_type": "error",
     "traceback": [
      "\u001b[0;31m---------------------------------------------------------------------------\u001b[0m",
      "\u001b[0;31mModuleNotFoundError\u001b[0m                       Traceback (most recent call last)",
      "Cell \u001b[0;32mIn[1], line 2\u001b[0m\n\u001b[1;32m      1\u001b[0m \u001b[38;5;28;01mimport\u001b[39;00m \u001b[38;5;21;01msympy\u001b[39;00m \u001b[38;5;28;01mas\u001b[39;00m \u001b[38;5;21;01msym\u001b[39;00m\n\u001b[0;32m----> 2\u001b[0m \u001b[43mget_ipython\u001b[49m\u001b[43m(\u001b[49m\u001b[43m)\u001b[49m\u001b[38;5;241;43m.\u001b[39;49m\u001b[43mrun_line_magic\u001b[49m\u001b[43m(\u001b[49m\u001b[38;5;124;43m'\u001b[39;49m\u001b[38;5;124;43mmatplotlib\u001b[39;49m\u001b[38;5;124;43m'\u001b[39;49m\u001b[43m,\u001b[49m\u001b[43m \u001b[49m\u001b[38;5;124;43m'\u001b[39;49m\u001b[38;5;124;43mwidget\u001b[39;49m\u001b[38;5;124;43m'\u001b[39;49m\u001b[43m)\u001b[49m\n\u001b[1;32m      3\u001b[0m t \u001b[38;5;241m=\u001b[39m sym\u001b[38;5;241m.\u001b[39msymbols(\u001b[38;5;124m'\u001b[39m\u001b[38;5;124mt\u001b[39m\u001b[38;5;124m'\u001b[39m)\n\u001b[1;32m      4\u001b[0m x \u001b[38;5;241m=\u001b[39m sym\u001b[38;5;241m.\u001b[39mPiecewise((\u001b[38;5;241m1\u001b[39m, (t \u001b[38;5;241m>\u001b[39m\u001b[38;5;241m=\u001b[39m \u001b[38;5;241m0\u001b[39m) \u001b[38;5;241m&\u001b[39m (t \u001b[38;5;241m<\u001b[39m \u001b[38;5;241m1\u001b[39m)), \n\u001b[1;32m      5\u001b[0m                   (\u001b[38;5;241m0\u001b[39m, \u001b[38;5;28;01mTrue\u001b[39;00m))\n",
      "File \u001b[0;32m~/miniconda3/lib/python3.10/site-packages/IPython/core/interactiveshell.py:2417\u001b[0m, in \u001b[0;36mInteractiveShell.run_line_magic\u001b[0;34m(self, magic_name, line, _stack_depth)\u001b[0m\n\u001b[1;32m   2415\u001b[0m     kwargs[\u001b[38;5;124m'\u001b[39m\u001b[38;5;124mlocal_ns\u001b[39m\u001b[38;5;124m'\u001b[39m] \u001b[38;5;241m=\u001b[39m \u001b[38;5;28mself\u001b[39m\u001b[38;5;241m.\u001b[39mget_local_scope(stack_depth)\n\u001b[1;32m   2416\u001b[0m \u001b[38;5;28;01mwith\u001b[39;00m \u001b[38;5;28mself\u001b[39m\u001b[38;5;241m.\u001b[39mbuiltin_trap:\n\u001b[0;32m-> 2417\u001b[0m     result \u001b[38;5;241m=\u001b[39m \u001b[43mfn\u001b[49m\u001b[43m(\u001b[49m\u001b[38;5;241;43m*\u001b[39;49m\u001b[43margs\u001b[49m\u001b[43m,\u001b[49m\u001b[43m \u001b[49m\u001b[38;5;241;43m*\u001b[39;49m\u001b[38;5;241;43m*\u001b[39;49m\u001b[43mkwargs\u001b[49m\u001b[43m)\u001b[49m\n\u001b[1;32m   2419\u001b[0m \u001b[38;5;66;03m# The code below prevents the output from being displayed\u001b[39;00m\n\u001b[1;32m   2420\u001b[0m \u001b[38;5;66;03m# when using magics with decodator @output_can_be_silenced\u001b[39;00m\n\u001b[1;32m   2421\u001b[0m \u001b[38;5;66;03m# when the last Python token in the expression is a ';'.\u001b[39;00m\n\u001b[1;32m   2422\u001b[0m \u001b[38;5;28;01mif\u001b[39;00m \u001b[38;5;28mgetattr\u001b[39m(fn, magic\u001b[38;5;241m.\u001b[39mMAGIC_OUTPUT_CAN_BE_SILENCED, \u001b[38;5;28;01mFalse\u001b[39;00m):\n",
      "File \u001b[0;32m~/miniconda3/lib/python3.10/site-packages/IPython/core/magics/pylab.py:99\u001b[0m, in \u001b[0;36mPylabMagics.matplotlib\u001b[0;34m(self, line)\u001b[0m\n\u001b[1;32m     97\u001b[0m     \u001b[38;5;28mprint\u001b[39m(\u001b[38;5;124m\"\u001b[39m\u001b[38;5;124mAvailable matplotlib backends: \u001b[39m\u001b[38;5;132;01m%s\u001b[39;00m\u001b[38;5;124m\"\u001b[39m \u001b[38;5;241m%\u001b[39m backends_list)\n\u001b[1;32m     98\u001b[0m \u001b[38;5;28;01melse\u001b[39;00m:\n\u001b[0;32m---> 99\u001b[0m     gui, backend \u001b[38;5;241m=\u001b[39m \u001b[38;5;28;43mself\u001b[39;49m\u001b[38;5;241;43m.\u001b[39;49m\u001b[43mshell\u001b[49m\u001b[38;5;241;43m.\u001b[39;49m\u001b[43menable_matplotlib\u001b[49m\u001b[43m(\u001b[49m\u001b[43margs\u001b[49m\u001b[38;5;241;43m.\u001b[39;49m\u001b[43mgui\u001b[49m\u001b[38;5;241;43m.\u001b[39;49m\u001b[43mlower\u001b[49m\u001b[43m(\u001b[49m\u001b[43m)\u001b[49m\u001b[43m \u001b[49m\u001b[38;5;28;43;01mif\u001b[39;49;00m\u001b[43m \u001b[49m\u001b[38;5;28;43misinstance\u001b[39;49m\u001b[43m(\u001b[49m\u001b[43margs\u001b[49m\u001b[38;5;241;43m.\u001b[39;49m\u001b[43mgui\u001b[49m\u001b[43m,\u001b[49m\u001b[43m \u001b[49m\u001b[38;5;28;43mstr\u001b[39;49m\u001b[43m)\u001b[49m\u001b[43m \u001b[49m\u001b[38;5;28;43;01melse\u001b[39;49;00m\u001b[43m \u001b[49m\u001b[43margs\u001b[49m\u001b[38;5;241;43m.\u001b[39;49m\u001b[43mgui\u001b[49m\u001b[43m)\u001b[49m\n\u001b[1;32m    100\u001b[0m     \u001b[38;5;28mself\u001b[39m\u001b[38;5;241m.\u001b[39m_show_matplotlib_backend(args\u001b[38;5;241m.\u001b[39mgui, backend)\n",
      "File \u001b[0;32m~/miniconda3/lib/python3.10/site-packages/IPython/core/interactiveshell.py:3603\u001b[0m, in \u001b[0;36mInteractiveShell.enable_matplotlib\u001b[0;34m(self, gui)\u001b[0m\n\u001b[1;32m   3599\u001b[0m         \u001b[38;5;28mprint\u001b[39m(\u001b[38;5;124m'\u001b[39m\u001b[38;5;124mWarning: Cannot change to a different GUI toolkit: \u001b[39m\u001b[38;5;132;01m%s\u001b[39;00m\u001b[38;5;124m.\u001b[39m\u001b[38;5;124m'\u001b[39m\n\u001b[1;32m   3600\u001b[0m                 \u001b[38;5;124m'\u001b[39m\u001b[38;5;124m Using \u001b[39m\u001b[38;5;132;01m%s\u001b[39;00m\u001b[38;5;124m instead.\u001b[39m\u001b[38;5;124m'\u001b[39m \u001b[38;5;241m%\u001b[39m (gui, \u001b[38;5;28mself\u001b[39m\u001b[38;5;241m.\u001b[39mpylab_gui_select))\n\u001b[1;32m   3601\u001b[0m         gui, backend \u001b[38;5;241m=\u001b[39m pt\u001b[38;5;241m.\u001b[39mfind_gui_and_backend(\u001b[38;5;28mself\u001b[39m\u001b[38;5;241m.\u001b[39mpylab_gui_select)\n\u001b[0;32m-> 3603\u001b[0m \u001b[43mpt\u001b[49m\u001b[38;5;241;43m.\u001b[39;49m\u001b[43mactivate_matplotlib\u001b[49m\u001b[43m(\u001b[49m\u001b[43mbackend\u001b[49m\u001b[43m)\u001b[49m\n\u001b[1;32m   3604\u001b[0m configure_inline_support(\u001b[38;5;28mself\u001b[39m, backend)\n\u001b[1;32m   3606\u001b[0m \u001b[38;5;66;03m# Now we must activate the gui pylab wants to use, and fix %run to take\u001b[39;00m\n\u001b[1;32m   3607\u001b[0m \u001b[38;5;66;03m# plot updates into account\u001b[39;00m\n",
      "File \u001b[0;32m~/miniconda3/lib/python3.10/site-packages/IPython/core/pylabtools.py:360\u001b[0m, in \u001b[0;36mactivate_matplotlib\u001b[0;34m(backend)\u001b[0m\n\u001b[1;32m    355\u001b[0m \u001b[38;5;66;03m# Due to circular imports, pyplot may be only partially initialised\u001b[39;00m\n\u001b[1;32m    356\u001b[0m \u001b[38;5;66;03m# when this function runs.\u001b[39;00m\n\u001b[1;32m    357\u001b[0m \u001b[38;5;66;03m# So avoid needing matplotlib attribute-lookup to access pyplot.\u001b[39;00m\n\u001b[1;32m    358\u001b[0m \u001b[38;5;28;01mfrom\u001b[39;00m \u001b[38;5;21;01mmatplotlib\u001b[39;00m \u001b[38;5;28;01mimport\u001b[39;00m pyplot \u001b[38;5;28;01mas\u001b[39;00m plt\n\u001b[0;32m--> 360\u001b[0m \u001b[43mplt\u001b[49m\u001b[38;5;241;43m.\u001b[39;49m\u001b[43mswitch_backend\u001b[49m\u001b[43m(\u001b[49m\u001b[43mbackend\u001b[49m\u001b[43m)\u001b[49m\n\u001b[1;32m    362\u001b[0m plt\u001b[38;5;241m.\u001b[39mshow\u001b[38;5;241m.\u001b[39m_needmain \u001b[38;5;241m=\u001b[39m \u001b[38;5;28;01mFalse\u001b[39;00m\n\u001b[1;32m    363\u001b[0m \u001b[38;5;66;03m# We need to detect at runtime whether show() is called by the user.\u001b[39;00m\n\u001b[1;32m    364\u001b[0m \u001b[38;5;66;03m# For this, we wrap it into a decorator which adds a 'called' flag.\u001b[39;00m\n",
      "File \u001b[0;32m~/miniconda3/lib/python3.10/site-packages/matplotlib/pyplot.py:271\u001b[0m, in \u001b[0;36mswitch_backend\u001b[0;34m(newbackend)\u001b[0m\n\u001b[1;32m    268\u001b[0m \u001b[38;5;66;03m# have to escape the switch on access logic\u001b[39;00m\n\u001b[1;32m    269\u001b[0m old_backend \u001b[38;5;241m=\u001b[39m \u001b[38;5;28mdict\u001b[39m\u001b[38;5;241m.\u001b[39m\u001b[38;5;21m__getitem__\u001b[39m(rcParams, \u001b[38;5;124m'\u001b[39m\u001b[38;5;124mbackend\u001b[39m\u001b[38;5;124m'\u001b[39m)\n\u001b[0;32m--> 271\u001b[0m backend_mod \u001b[38;5;241m=\u001b[39m \u001b[43mimportlib\u001b[49m\u001b[38;5;241;43m.\u001b[39;49m\u001b[43mimport_module\u001b[49m\u001b[43m(\u001b[49m\n\u001b[1;32m    272\u001b[0m \u001b[43m    \u001b[49m\u001b[43mcbook\u001b[49m\u001b[38;5;241;43m.\u001b[39;49m\u001b[43m_backend_module_name\u001b[49m\u001b[43m(\u001b[49m\u001b[43mnewbackend\u001b[49m\u001b[43m)\u001b[49m\u001b[43m)\u001b[49m\n\u001b[1;32m    274\u001b[0m required_framework \u001b[38;5;241m=\u001b[39m _get_required_interactive_framework(backend_mod)\n\u001b[1;32m    275\u001b[0m \u001b[38;5;28;01mif\u001b[39;00m required_framework \u001b[38;5;129;01mis\u001b[39;00m \u001b[38;5;129;01mnot\u001b[39;00m \u001b[38;5;28;01mNone\u001b[39;00m:\n",
      "File \u001b[0;32m~/miniconda3/lib/python3.10/importlib/__init__.py:126\u001b[0m, in \u001b[0;36mimport_module\u001b[0;34m(name, package)\u001b[0m\n\u001b[1;32m    124\u001b[0m             \u001b[38;5;28;01mbreak\u001b[39;00m\n\u001b[1;32m    125\u001b[0m         level \u001b[38;5;241m+\u001b[39m\u001b[38;5;241m=\u001b[39m \u001b[38;5;241m1\u001b[39m\n\u001b[0;32m--> 126\u001b[0m \u001b[38;5;28;01mreturn\u001b[39;00m \u001b[43m_bootstrap\u001b[49m\u001b[38;5;241;43m.\u001b[39;49m\u001b[43m_gcd_import\u001b[49m\u001b[43m(\u001b[49m\u001b[43mname\u001b[49m\u001b[43m[\u001b[49m\u001b[43mlevel\u001b[49m\u001b[43m:\u001b[49m\u001b[43m]\u001b[49m\u001b[43m,\u001b[49m\u001b[43m \u001b[49m\u001b[43mpackage\u001b[49m\u001b[43m,\u001b[49m\u001b[43m \u001b[49m\u001b[43mlevel\u001b[49m\u001b[43m)\u001b[49m\n",
      "File \u001b[0;32m<frozen importlib._bootstrap>:1050\u001b[0m, in \u001b[0;36m_gcd_import\u001b[0;34m(name, package, level)\u001b[0m\n",
      "File \u001b[0;32m<frozen importlib._bootstrap>:1027\u001b[0m, in \u001b[0;36m_find_and_load\u001b[0;34m(name, import_)\u001b[0m\n",
      "File \u001b[0;32m<frozen importlib._bootstrap>:992\u001b[0m, in \u001b[0;36m_find_and_load_unlocked\u001b[0;34m(name, import_)\u001b[0m\n",
      "File \u001b[0;32m<frozen importlib._bootstrap>:241\u001b[0m, in \u001b[0;36m_call_with_frames_removed\u001b[0;34m(f, *args, **kwds)\u001b[0m\n",
      "File \u001b[0;32m<frozen importlib._bootstrap>:1050\u001b[0m, in \u001b[0;36m_gcd_import\u001b[0;34m(name, package, level)\u001b[0m\n",
      "File \u001b[0;32m<frozen importlib._bootstrap>:1027\u001b[0m, in \u001b[0;36m_find_and_load\u001b[0;34m(name, import_)\u001b[0m\n",
      "File \u001b[0;32m<frozen importlib._bootstrap>:1004\u001b[0m, in \u001b[0;36m_find_and_load_unlocked\u001b[0;34m(name, import_)\u001b[0m\n",
      "\u001b[0;31mModuleNotFoundError\u001b[0m: No module named 'ipympl'"
     ]
    }
   ],
   "source": [
    "import sympy as sym\n",
    "%matplotlib widget\n",
    "t = sym.symbols('t')\n",
    "x = sym.Piecewise((1, (t >= 0) & (t < 1)), \n",
    "                  (0, True))\n",
    "\n",
    "p1 = sym.plot(x, (t, -3, 3))\n",
    "fig = p1._backend.fig\n",
    "ax = p1._backend.ax[0]\n",
    "ax.set_xticks([0,1])\n",
    "ax.set_xticklabels(['0',r'$\\Delta$'])\n",
    "ax.set_yticks([1])\n",
    "ax.set_yticklabels([r'$\\frac{1}{\\Delta}$'])\n",
    "ax.set_ylabel(r'$\\delta_{\\Delta}(t)$')\n",
    "fig.canvas.draw_idle()"
   ]
  },
  {
   "cell_type": "markdown",
   "id": "367cbdf3-d477-4ab5-8226-a5ac4b748f3c",
   "metadata": {},
   "source": [
    "A área desse pulso é 1. Nós podemos fazer a duração desse pulso ser cada vez menor. Com a duração cada vez menor, a altura do pulso fica cada vez menor. Se fizermos essa duração ir para zero, no limite temos o impulso.\n",
    "\n",
    "$\\delta(t)=\\displaystyle\\lim_{\\Delta\\rightarrow0}\\delta_\\Delta(t) $"
   ]
  },
  {
   "cell_type": "markdown",
   "id": "d3b8738e-297b-4f5d-af72-9b4a8cd99a83",
   "metadata": {},
   "source": [
    "Então definimos o **impulso** ou **delta de Dirac**, representado pelo símbolo $\\delta(t)$:\n",
    "\n",
    "$$\\delta(t) = \\left\\{\\begin{array}{cc}\\infty & ,t = 0 \\\\ 0& ,\\text{c.c} \\end{array}\\right.$$\n",
    "\n",
    "e \n",
    "\n",
    "$$\\int_{-\\infty}^\\infty\\delta(\\tau)\\,d\\tau = 1$$"
   ]
  },
  {
   "cell_type": "markdown",
   "id": "5a140f5d-4024-4e2d-a737-dcb828a67722",
   "metadata": {},
   "source": [
    "Representamos o delta de Dirac com uma seta com a área do impulso sendo indicada do lado."
   ]
  },
  {
   "cell_type": "code",
   "execution_count": null,
   "id": "65bdee2e-137a-4df2-a0aa-8dc6661ffdef",
   "metadata": {
    "tags": []
   },
   "outputs": [],
   "source": [
    "t = sym.symbols('t')\n",
    "x = sym.Piecewise((0, True))\n",
    "y = sym.symbols('y')\n",
    "p1 = sym.plot(x, (t, -3, 3))\n",
    "fig = p1._backend.fig\n",
    "ax = p1._backend.ax[0]\n",
    "ax.set_xticks([0])\n",
    "ax.set_xticklabels(['0'])\n",
    "ax.set_yticks([1])\n",
    "ax.set_yticklabels(['1'])\n",
    "ax.set_ylabel(r'$\\delta(t)$')\n",
    "ax.set_xlabel(r'$t$')\n",
    "ax.arrow(0,0,0,1, width=0.03, head_width = 0.2, head_length=0.1)\n",
    "fig.canvas.draw_idle()"
   ]
  },
  {
   "cell_type": "markdown",
   "id": "4943c19a-1446-4667-ab78-b44eb29c69c3",
   "metadata": {},
   "source": [
    "É importante notar que o impulso é uma idealização de um sinal de grande amplitude que tem uma duração muito pequena (idealmente duração zero). Esse sinal não acontece na prática, mas nos ajuda a estudar sistemas contínuos lineares e invariantes no tempo e a ganhar intuição sobre o comportamento desses sistemas."
   ]
  },
  {
   "cell_type": "markdown",
   "id": "7f6371f4-b7e7-41f4-96c0-9cd45bd0a1af",
   "metadata": {},
   "source": [
    "### Propriedade da amostragem\n",
    "\n",
    "Ao multiplicar um sinal $x(t)$ pelo delta de Dirac, temos:\n",
    "\n",
    "$x(t)\\delta(t) = x(0)\\delta(t)$\n",
    "\n",
    "Se multiplicamos o sinal pelo impulso atrasado, temos:\n",
    "\n",
    "$x(t)\\delta(t-T) = x(T)\\delta(t-T)$\n",
    "\n",
    "Ao calcular a área desse sinal $x(t)$ multiplicado por $\\delta(t-T)$, temos:\n",
    "\n",
    "$\\int_{-\\infty}^\\infty x(\\tau)\\delta(\\tau-T)\\,d\\tau = \\int_{-\\infty}^\\infty x(T)\\delta(\\tau-T)\\,d\\tau =  x(T)\\int_{-\\infty}^\\infty \\delta(\\tau-T)\\,d\\tau = x(T)$\n",
    "\n",
    "Isso significa que a área do sinal multiplicado por impulso é o valor do sinal no instante em que o impulso está localizado."
   ]
  },
  {
   "cell_type": "markdown",
   "id": "8e925e7d-55de-4408-b486-67d3cc2bd667",
   "metadata": {},
   "source": [
    "## Sinal degrau\n",
    "\n",
    "Outro sinal que usaremos bastante é o sinal degrau. Esse sinal é sempre igual a 1 para $t\\geq 0$. Para esse sinal usaremos a letra $u$:\n",
    "\n",
    "$$u(t) =   \\left\\{\\begin{array}{cc}1& ,t > 0 \\\\ 0& ,t<0 \\end{array}\\right. $$\n",
    "\n",
    "Note que o degrau não é definido para $t=0$.\n",
    "O seu gráfico é mostrado abaixo: "
   ]
  },
  {
   "cell_type": "code",
   "execution_count": null,
   "id": "87c08f03-e0ac-4bfb-9905-b2e70cac8d12",
   "metadata": {
    "tags": []
   },
   "outputs": [],
   "source": [
    "x = sym.Piecewise((1, t > 0), \n",
    "                  (0, True))\n",
    "\n",
    "p1 = sym.plot(x, (t, -4, 10))\n",
    "fig = p1._backend.fig\n",
    "ax = p1._backend.ax[0]\n",
    "ax.set_ylabel(r'$u(t)$')\n",
    "fig.canvas.draw_idle()"
   ]
  },
  {
   "cell_type": "markdown",
   "id": "4a0b34a2-4d71-4816-acff-7023fd995027",
   "metadata": {},
   "source": [
    "Os sinais degrau e impulso estão bastante relacionados. O sinal degrau  é a integral do impulso.\n",
    "\n",
    "$$u(t) = \\int_{-\\infty}^t \\delta(\\tau)\\,d\\tau$$\n",
    "\n",
    "E, como consequência, o delta de Dirac é a derivada do degrau:\n",
    "\n",
    "$$\\delta(t) = \\frac{du(t)}{dt} $$"
   ]
  },
  {
   "cell_type": "markdown",
   "id": "2f4d6d7d-7bbe-49ca-a0d7-3b9becffd22a",
   "metadata": {},
   "source": [
    "## Exercícios\n",
    "\n",
    "**1)** Considere um sinal periódico:\n",
    "\n",
    "$$x(t) = \\left\\{\\begin{array}{cc} 3 &,0\\leq t<2 \\\\ -1&,2\\leq t<3 \\end{array}\\right.$$\n",
    "\n",
    "Fora desses valores de tempo, o sinal se repete, com período $T=3$.\n",
    "\n",
    "A derivada desse sinal está relacionada ao \"trem de impulsos\":\n",
    "\n",
    "$g(t) = \\displaystyle\\sum_{k=-\\infty}^\\infty\\delta(t-3k)$\n",
    "\n",
    "com período $T=3$. \n",
    "\n",
    "Pode-se perceber que:\n",
    "\n",
    "$\\frac{dx}{dt} = A_1g(t-t_1) + A_2g(t-t_2) + A_3g(t-t_3)$\n",
    "\n",
    "Determine os valores de $A_1$, $A_2$ e $A_3$."
   ]
  },
  {
   "cell_type": "markdown",
   "id": "3254486c-0d8d-4ab5-bf38-cb9a405ecbf6",
   "metadata": {},
   "source": [
    "**2)** Mostre que:\n",
    "\n",
    "$$\\delta(2t) = \\frac{1}{2}\\delta(t)$$\n",
    "\n",
    "Dica: veja a definição da função $\\delta_\\Delta(t)$."
   ]
  },
  {
   "cell_type": "markdown",
   "id": "10e894a5-2c24-4be8-8c4f-c05df58d6a76",
   "metadata": {},
   "source": [
    "**3)** Faça gráficos dos seguintes sinais:\n",
    "\n",
    "a) $x_1(t) = 10e^{-3t}u(t)$\n",
    "\n",
    "b) $x_2(t) = -10e^{-0.5t}u(t)$\n",
    "\n",
    "c) $x_3(t) = -10e^{-0.5t}u(t-5)$\n",
    "\n",
    "d) $x_4(t) = 10(1-e^{-t})u(t)$\n",
    "\n",
    "e) $x_5(t) = 3^{-tu(t)}$\n"
   ]
  },
  {
   "cell_type": "markdown",
   "id": "2bd955bc-a205-4ec2-b105-eb2a848af92f",
   "metadata": {},
   "source": [
    "**4)** Faça o gráfico das seguintes funções:\n",
    "\n",
    "a) $x_1(t) = u(t-3) - u(t-7) $\n",
    "\n",
    "b) $x_2(t) = u(t-3) + u(t-7)$\n",
    "\n",
    "c) $x_3(t) = t^2[u(t-3) + u(t-7)]$\n",
    "\n",
    "d) $x_4(t) = (t-3)[u(t-3) + u(t-7)]$"
   ]
  },
  {
   "cell_type": "markdown",
   "id": "e95bd9d7-e95f-4126-88e2-848d30b6bbb1",
   "metadata": {},
   "source": [
    "**5)** Escreva a função com os gráficos abaixo usando apenas uma expressão. Além disso, calcule uma expressão para as suas derivadas.\n",
    "\n",
    "a)"
   ]
  },
  {
   "cell_type": "code",
   "execution_count": null,
   "id": "b0f279eb-af5d-44a3-9939-8d60dec42169",
   "metadata": {
    "tags": []
   },
   "outputs": [],
   "source": [
    "t = sym.symbols('t')\n",
    "x = sym.Piecewise((t+2, (t >= -2) & (t < 0)), \n",
    "                  (2-2*t, (t >= 0) & (t < 1)), \n",
    "                  (0, True))\n",
    "\n",
    "sym.plot(x, (t, -3, 3))\n"
   ]
  },
  {
   "cell_type": "markdown",
   "id": "f8578eea-74da-4add-a7af-0897574f00db",
   "metadata": {},
   "source": [
    "b) No gráfico abaixo, o trecho com $t$ de 0 a 1 é $t^2$."
   ]
  },
  {
   "cell_type": "code",
   "execution_count": null,
   "id": "4bdff86d-6bea-449b-b05e-507bab16f97d",
   "metadata": {
    "tags": []
   },
   "outputs": [],
   "source": [
    "t = sym.symbols('t')\n",
    "x = sym.Piecewise((t**2, (t >= 0) & (t < 1)), \n",
    "                  (2-t, (t >= 1) & (t < 3)), \n",
    "                  (0, True))\n",
    "\n",
    "sym.plot(x, (t, -3, 5))"
   ]
  },
  {
   "cell_type": "markdown",
   "id": "adb1ffa7-c719-42ec-8fce-50d2df32b912",
   "metadata": {},
   "source": [
    "**6)** Calcule as seguintes integrais:\n",
    "\n",
    "a) $\\int_{-\\infty}^\\infty\\delta(\\tau)x(t-\\tau)\\,d\\tau$\n",
    "\n",
    "b) $\\int_{-\\infty}^\\infty\\delta(t-\\tau)x(\\tau)\\,d\\tau$\n",
    "\n",
    "c) $\\int_{-\\infty}^\\infty\\delta(2\\tau-4)\\mathrm{sen}(\\pi \\tau)\\,d\\tau$\n",
    "\n",
    "d) $\\int_{-\\infty}^\\infty\\delta(\\tau)e^{-j\\omega \\tau}\\,d\\tau$\n",
    "\n",
    "e) $\\int_{-\\infty}^\\infty\\delta(\\tau+2)e^{-\\tau}\\,d\\tau$\n",
    "\n",
    "f) $\\int_{-\\infty}^\\infty\\delta(1-\\tau)(t^2+ 4)\\,d\\tau$"
   ]
  },
  {
   "cell_type": "markdown",
   "id": "8099ce2b-b4cb-4dcf-b4b9-2cc91e912c2c",
   "metadata": {},
   "source": [
    "\n",
    "\n"
   ]
  },
  {
   "cell_type": "markdown",
   "id": "3756de4b-629f-47a9-be93-050e708a3b64",
   "metadata": {},
   "source": [
    "## Referências\n",
    "\n",
    "- Oppenheim, M.  e Willsky, S., Sistemas e Sinais, 2010\n",
    "- Ulaby, FT e Yagle, AE, Signals & Systems: Theory and Applications, 2018, [ss2.eecs.umich.edu](ss2.eecs.umich.edu)"
   ]
  },
  {
   "cell_type": "markdown",
   "id": "16c2de86-43a3-4e12-a855-b3584fc1be6f",
   "metadata": {},
   "source": [
    "## Solução dos exercícios"
   ]
  },
  {
   "cell_type": "code",
   "execution_count": null,
   "id": "ec404e12-cfb2-4b2b-87d9-5febaeecf77b",
   "metadata": {},
   "outputs": [],
   "source": []
  }
 ],
 "metadata": {
  "kernelspec": {
   "display_name": "Python 3 (ipykernel)",
   "language": "python",
   "name": "python3"
  },
  "language_info": {
   "codemirror_mode": {
    "name": "ipython",
    "version": 3
   },
   "file_extension": ".py",
   "mimetype": "text/x-python",
   "name": "python",
   "nbconvert_exporter": "python",
   "pygments_lexer": "ipython3",
   "version": "3.10.11"
  }
 },
 "nbformat": 4,
 "nbformat_minor": 5
}
