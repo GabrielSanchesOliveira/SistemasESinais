{
 "cells": [
  {
   "cell_type": "markdown",
   "id": "ff5fd5f9-1b18-4ddb-8b4e-2a1b58e22093",
   "metadata": {},
   "source": [
    "# Representação de sistemas contínuos com diagrama de blocos\n",
    "\n",
    "Renato Naville Watanabe"
   ]
  },
  {
   "cell_type": "markdown",
   "id": "d4ef199b-4ee4-4fc4-bf1b-92dffc3f7579",
   "metadata": {},
   "source": [
    "## Diagrama de Blocos\n",
    "\n",
    "Uma grande vantagem dos sistemas descritos por equações diferenciais lineares é que eles podem ser representados por **diagrama de blocos**. Diagramas de blocos fornecem uma representação gráfica do funcionamento do sistema e pode ficar mais claro como realizar uma uma implementação em hardware (ou software) do sistema. \n",
    "\n",
    "Os diagramas de blocos de tempo discreto são compostos de três elementos:\n",
    "\n",
    "<img src=Imagens/elemcontbloco.png width=\"400\">\n",
    "\n",
    "Cada um desses três elementos podem ser vistos como um sistema. \n",
    "\n",
    "- O somador recebe vários sinais como entrada e retorna como saída soma de todos os sinais.\n",
    "\n",
    "- O integrador recebe um sinal $x(t)$ e devolve como saída $\\int_{-\\infty}^tx(t)\\,dt$ (integral no tempo).\n",
    "\n",
    "- O ganho recebe um sinal $x(t)$ e devolve $kx(t)$, ou seja, o sinal de entrada é multiplicado pelo valor indicado dentro do triângulo.\n",
    "\n",
    "Podem ser utilizados outros símbolos para esses elementos (por exemplo, em algumas referências se utiliza $\\Sigma$ ao invés de + para o somador), mas esses serão os símbolos utilizados nesse curso. De qualquer forma, esses três elementos são suficientes para representar qualquer sistema linear invariante no tempo de tempo contínuo."
   ]
  },
  {
   "cell_type": "markdown",
   "id": "bce67e2d-9d42-47a2-a7c2-51eae8e5e7de",
   "metadata": {},
   "source": [
    "---\n",
    "\n",
    "### Exemplo 1\n",
    "\n",
    "Como exemplo, vamos fazer o diagrama de blocos da seguinte equação diferencial:\n",
    "\n",
    "$$\\frac{dy}{dt} + 0.7y(t) = x(t)$$\n",
    "\n",
    "Note que precisamos dos três elementos mencionados anteriormente para descrever a equação diferencial: somador, integrador e ganho.\n",
    "\n",
    "Para fazermos o diagrama de blocos, primeiro colocamos a derivada de maior grau em evidência:\n",
    "\n",
    "$$\\frac{dy}{dt}  = - 0.7y(t)+ x(t)$$\n",
    "    \n",
    "O sinal que é derivado ($y(t)$) é a saída do integrador. Se o que sai do integrador é o sinal $y$, o que entra no integrador é a sua derivada (lembrando que derivada é a operação inversa da integral).\n",
    "    \n",
    "Então, o diagrama de blocos é mostrado abaixo.\n",
    "    \n",
    "<img src=Imagens/contexemplodiag.png width=\"400\">\n",
    "    \n",
    "Nele fica bem evidente que a derivada de $y(t)$ (entrada do integrador) é a soma de $x(t)$ com o sinal $y(t)$  amplificado por um ganho. Uma coisa que fica bem evidente no diagrama de blocos é a presença de **realimentação** do sinal $y(t)$. Perceber essa realimentação não é tão óbvio apenas com a equação diferencial.\n",
    "\n",
    "---"
   ]
  },
  {
   "cell_type": "markdown",
   "id": "59a718d4-bb64-4ce1-83e9-b92b32eb7db6",
   "metadata": {},
   "source": [
    "Outra coisa que é bem mais clara no diagrama de blocos é a sequência de operações que devem ser executadas. Isso se deve a presença das setas. Essa informação não está presente na equação diferencial. No diagrama de blocos é claro qual é o sinal de entrada e qual é o sinal de saída (não é possível obter essa informação pela equação de diferenças; se não é usado o padrão de $x(t)$ ser a entrada e $y(t)$ ser a saída, seria necessário fornecer essa informação de outra maneira).\n",
    "\n",
    "Um outro fator que fica mais claro com o diagrama de blocos é a necessidade de um elemento de memória: o integrador. Ele precisa guardar o sinal que ele recebeu até aquele instante. Se fôssemos implementar esse sistema em um circuito elétrico, por exemplo, seria necessário componentes com essa característica (como capacitores e amplificadores operacionais).\n",
    "\n",
    "O exemplo acima é bem simples, mas a ideia é a mesma para sistemas mais complexos. Uma última observação é que existem diversas representações em diagrama de blocos para o mesmo sistema."
   ]
  },
  {
   "cell_type": "markdown",
   "id": "8d21b92e-b0ce-47f8-891e-1e0d531e03c5",
   "metadata": {},
   "source": [
    "## Ligações em paralelo e série de sistemas\n",
    "\n",
    "Existem duas maneiras tradicionais de se ligarem sistemas: paralelo e em série.\n",
    "\n",
    "Na ligação em **paralelo**, os dois sistemas S1 e S2 recebem a mesma entrada e a saída destes sistemas são somadas para obter a saída do sistema composto pelos dois sistemas.\n",
    "\n",
    "<img src=Imagens/paralelocont.png width=\"500\">\n",
    "\n",
    "Na ligação em **série** (ou cascata), a saída do sistema S1 é a entrada do sistema  S2.\n",
    "\n",
    "<img src=Imagens/seriecont.png width=\"500\">\n",
    "\n",
    "No caso de sistemas lineares e invariantes no tempo a ordem em que a ligação em série dos subsistemas não altera o comportamento geral do sistema (propriedade comutativa dos sistemas lineares e invariantes no tempo).\n",
    "\n"
   ]
  },
  {
   "cell_type": "markdown",
   "id": "7cc1d2e6-3f6d-4e3d-97d8-9ed5bc51896d",
   "metadata": {},
   "source": [
    "---\n",
    "\n",
    "### Exemplo 2\n",
    "\n",
    "Considere dois subsistemas ligados em série (S1, seguido de S2):\n",
    "\n",
    "S1: $y_1(t) = 3\\frac{dx_1}{dt}+ 2x_1(t)$\n",
    "\n",
    "S2: $y_2(t) = 3x_2(t)$\n",
    "\n",
    "A entrada $x(t)$ será a entrada do primeiro sistema e a saída será a saída do segundo sistema. A saída do primeiro sistema é a entrada do segundo. Então, a saída geral é:\n",
    "\n",
    "$y(t) = 3y_1(t) = 9\\frac{dx}{dt} + 6x(t)$\n",
    "\n",
    "Note que se trocarmos a ordem dos sistemas (fazermos S2, seguido de S1), a saída final não se altera:\n",
    "\n",
    "$y(t) = 3\\frac{dy_2}{dt}+ 2y_2(t) =  \\frac{dx}{dt}+ 6x(t)$\n",
    "\n",
    "---"
   ]
  },
  {
   "cell_type": "markdown",
   "id": "f6c7af2a-df03-4310-a3f2-02a2f2a03275",
   "metadata": {},
   "source": [
    "Note que a propriedade comutativa vale para quaiquer  sistemas lineares e invariantes no tempo."
   ]
  },
  {
   "cell_type": "markdown",
   "id": "54b7f2b3-e0f0-4fd3-8b73-b0c258e9eec8",
   "metadata": {},
   "source": [
    "---\n",
    "\n",
    "### Exemplo 3\n",
    "\n",
    "Considere agora os mesmos subsistemas ligados em paralelo:\n",
    "\n",
    "S1: $y_1(t) = 3\\frac{dx_1}{dt}+ 2x_1(t)$\n",
    "\n",
    "S2: $y_2(t) = 3x_2(t)$\n",
    "\n",
    "A saída do sistema total será a soma das duas saídas e a entrada dos dois sistemas será a mesma:\n",
    "\n",
    "$y(t) = 3\\frac{dx}{dt}+ 2x(t)+ 3x(t) = 3\\frac{dx}{dt}+ 5x(t)$\n",
    "\n",
    "---"
   ]
  },
  {
   "cell_type": "markdown",
   "id": "ed101d37-c160-4aae-af19-521d15e3c0ca",
   "metadata": {},
   "source": [
    "## Exercícios\n",
    "\n",
    "**1)** Faça o diagrama de blocos dos seguintes sistemas:\n",
    "\n",
    "a) $\\frac{dy}{dt} = -5y(t) + 2x(t)$\n",
    "\n",
    "b) $\\frac{dy}{dt} = 0.5y(t) + x(t)$\n",
    "\n",
    "c) $\\frac{d^2y}{dt^2} + 2\\frac{dy}{dt}= -5y(t) + 2x(t)$\n",
    "\n",
    "d) $\\frac{d^3y}{dt^2} + 3\\frac{d^2y}{dt^2} + \\frac{dy}{dt} + 3y(t)= x(t)$\n"
   ]
  },
  {
   "cell_type": "markdown",
   "id": "d8feef25-cf12-43f0-8377-1dea17f0f4d1",
   "metadata": {},
   "source": [
    "**2)** Considere que um sistema tem a seguinte equação diferencial:\n",
    "\n",
    "$$\\frac{dy}{dt} = -Ay(t) + Bx(t) + C\\frac{dx}{dt}$$\n",
    "\n",
    "a) Mostre que:\n",
    "\n",
    "$y(t) = - A\\int_{-\\infty}^ty(\\tau)\\,d\\tau + B\\int_{-\\infty}^tx(\\tau)\\,d\\tau+Cx(t)$\n",
    "\n",
    "b) Defina:\n",
    "\n",
    "$w(t) = B\\int_{-\\infty}^tx(\\tau)\\,d\\tau+Cx(t)$\n",
    "\n",
    "Verifique que é possível descrever o sistema como sendo composto de dois sistemas em série:\n",
    "\n",
    "S1: $x(t) \\rightarrow w(t)$\n",
    "\n",
    "S2: $w(t) \\rightarrow y(t)$\n",
    "\n",
    "c) Faça um diagrama de blocos do sistema S1\n",
    "\n",
    "d) Faça um diagrama de blocos do sistema S2\n",
    "\n",
    "e) Faça o diagrama de blocos ligando os dois subsistemas em série. Primeiro S1, seguido de S2.\n",
    "\n",
    "f) Agora ligue os dois subsitemas em série na ordem S2, seguido do S1. \n",
    "\n",
    "g) As duas representações (itens e e f) são equivalentes? Porquê?\n",
    "\n",
    "h) Tente agora refazer o item f usando apenas um integrador."
   ]
  },
  {
   "cell_type": "markdown",
   "id": "b7009575-9259-4e38-a911-c874d4736ab7",
   "metadata": {},
   "source": [
    "**3)** Faça um diagrama de blocos, usando apenas um integrador, do sistema que tem como entrada $v_{in}(t)$ e saída $v_r(t)$ do circuito RC abaixo.\n",
    "\n",
    "<img src=https://upload.wikimedia.org/wikipedia/commons/thumb/e/e0/RC_Series_Filter_%28with_V%26I_Labels%29.svg/1920px-RC_Series_Filter_%28with_V%26I_Labels%29.svg.png width=\"300\">\n",
    "\n",
    "Esse sistema tem a seguinte equação diferencial:\n",
    "\n",
    "$$\\frac{dv_r}{dt} = -\\frac{1}{RC}v_r(t)+ \\frac{dv_{in}}{dt}$$"
   ]
  },
  {
   "cell_type": "markdown",
   "id": "3ea89d6f-cc5d-44db-b1b2-094026602394",
   "metadata": {},
   "source": [
    "**4)** Considere que um sistema tem a seguinte equação diferencial. Faça o diagrama de blocos desse sistema usando apenas dois integradores.\n",
    "\n",
    "$$\\frac{d^2y}{dt^2} = -0.5\\frac{dy}{dt} + y(t) + 3\\frac{d^2x}{dt^2} + x(t)$$"
   ]
  },
  {
   "cell_type": "markdown",
   "id": "4195c967-89d9-4490-9f6b-1e2c752dddf5",
   "metadata": {},
   "source": [
    "**5)** Usando o método do exercício 2, faça o diagrama de blocos dos sistemas com as seguintes equações diferenciais:\n",
    "\n",
    "a) $y(t) = x(t) + \\int_{-\\infty}^ty(\\tau)\\,d\\tau$\n",
    "\n",
    "b) $y(t) = 2x(t) - 2\\int_{-\\infty}^tx(\\tau)\\,d\\tau$ \n",
    "\n",
    "c) $\\frac{d^2y}{dt^2} = -3\\frac{dy}{dt} - y(t) + 2\\frac{dx}{dt} + 5x(t)$"
   ]
  },
  {
   "cell_type": "markdown",
   "id": "90c6392d-66a7-4f27-8866-b1843eeb3036",
   "metadata": {},
   "source": [
    "## Referências\n",
    "\n",
    "- Oppenheim, M.  e Willsky, S. Sistemas e Sinais, 2010\n",
    "- Lathi, BP, Sinais e Sistemas Lineares, 2007"
   ]
  },
  {
   "cell_type": "markdown",
   "id": "71619e7e-ad90-42ad-adf8-49d603a128f1",
   "metadata": {},
   "source": [
    "## Solução dos exercícios"
   ]
  },
  {
   "cell_type": "code",
   "execution_count": null,
   "id": "e1406a36-d8ae-44c5-baed-c2283defe86b",
   "metadata": {},
   "outputs": [],
   "source": []
  }
 ],
 "metadata": {
  "kernelspec": {
   "display_name": "Python 3 (ipykernel)",
   "language": "python",
   "name": "python3"
  },
  "language_info": {
   "codemirror_mode": {
    "name": "ipython",
    "version": 3
   },
   "file_extension": ".py",
   "mimetype": "text/x-python",
   "name": "python",
   "nbconvert_exporter": "python",
   "pygments_lexer": "ipython3",
   "version": "3.10.11"
  }
 },
 "nbformat": 4,
 "nbformat_minor": 5
}
