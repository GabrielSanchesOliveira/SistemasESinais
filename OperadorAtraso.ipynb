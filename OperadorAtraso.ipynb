{
 "cells": [
  {
   "cell_type": "markdown",
   "id": "109282f6-6f55-4920-b58d-9f7c2c0914a0",
   "metadata": {},
   "source": [
    "# Operador atraso e Função de transferência\n",
    "\n",
    "Renato Naville  Watanabe"
   ]
  },
  {
   "cell_type": "markdown",
   "id": "c991be82-4d47-4602-be7c-78d4e2577c95",
   "metadata": {},
   "source": [
    "Até agora já vimos duas representações de um sistema linear invariante no tempo: a equação de diferenças e o diagrama de blocos.\n",
    "\n",
    "Agora vamos ver uma terceira representação de sistemas lineares invariantes no tempo: a **função de transferência**"
   ]
  },
  {
   "cell_type": "markdown",
   "id": "57459769-3502-428b-b223-6d54347baa9f",
   "metadata": {},
   "source": [
    "Para isso, vamos primeiro introduzir o **operador atraso**. O operador atraso, aqui representado pelo símbolo $q^{-1}$ opera em um sinal de tempo discreto, atrasando o sinal todo em uma unidade de tempo discreto.\n",
    "\n",
    "No gráfico abaixo é mostrado o sinal $x[n]$, à esquerda, e o mesmo sinal atrasado de um passo, $x[n-1]$, à direita.\n",
    "\n",
    "Utilizando o operado atraso, podemos representar o sinal atrasado como:\n",
    "\n",
    "$$q^{-1}X$$\n",
    "\n",
    "Repare que o operador atua no sinal todo (atrasa o sinal todo). Por isso não há a necessidade de colocar o $[n]$ depois do sinal. Essa notação é algo que simplificará muito a análise de sistemas."
   ]
  },
  {
   "cell_type": "code",
   "execution_count": 8,
   "id": "23aabf2d-6e55-40e2-8614-68a6ec48e333",
   "metadata": {
    "tags": []
   },
   "outputs": [
    {
     "data": {
      "text/plain": [
       "Text(0.5, 1.0, '$q^{-1}X$')"
      ]
     },
     "execution_count": 8,
     "metadata": {},
     "output_type": "execute_result"
    },
    {
     "data": {
      "image/png": "[encoded data removed]",
      "text/plain": [
       "<Figure size 640x480 with 2 Axes>"
      ]
     },
     "metadata": {},
     "output_type": "display_data"
    }
   ],
   "source": [
    "import numpy as np\n",
    "import matplotlib.pyplot as plt\n",
    "\n",
    "n = np.arange(-4, 10)\n",
    "x = np.zeros_like(n)\n",
    "x[n==0] = 1\n",
    "\n",
    "xd = np.zeros_like(n)\n",
    "xd[n==1] = 1\n",
    "\n",
    "\n",
    "fig, ax = plt.subplots(1,2)\n",
    "ax[0].stem(n, x)\n",
    "ax[0].set_title('$X$')\n",
    "ax[1].stem(n, xd)\n",
    "ax[1].set_title('$q^{-1}X$')\n"
   ]
  },
  {
   "cell_type": "markdown",
   "id": "1b4f4acb-e747-4acc-9078-6a79ab673316",
   "metadata": {},
   "source": [
    "<div class=\"alert-warning\">\n",
    "Por exemplo, a equação de diferenças:\n",
    "    \n",
    "$$y[n] = x[n-1]$$\n",
    "    \n",
    "Esse sistema é representado pelo seguinte diagrama e blocos:\n",
    "    \n",
    "<img src=delay.png width=\"300\">\n",
    "\n",
    "É um simples atraso. Podemos representar esse sistema usando o operador atraso:\n",
    "    \n",
    "$Y = q^{-1}X$\n",
    "</div>"
   ]
  },
  {
   "cell_type": "markdown",
   "id": "a9ea67ed-d5bf-4c0d-a242-7c2ad6c0dd1c",
   "metadata": {
    "tags": []
   },
   "source": [
    "<div class=\"alert-warning\">\n",
    "    \n",
    "Um outro exemplo. Considere a equação de diferenças:\n",
    "\n",
    "$$y[n] = y[n-1] + x[n]$$\n",
    "    \n",
    "O diagrama de blocos do sistema é mostrado abaixo.\n",
    "    \n",
    "<img src=diagacumulador.png width=\"500\">\n",
    "\n",
    "    \n",
    "Agora, usando o operador atraso:\n",
    "    \n",
    "$$Y = q^{-1}Y + X$$\n",
    "\n",
    "$$Y = \\frac{1}{1-q^{-1}}X $$\n",
    "\n",
    "</div>"
   ]
  },
  {
   "cell_type": "markdown",
   "id": "d7b559f1-a791-45d0-aa65-d886f799b75e",
   "metadata": {},
   "source": [
    "<div class=\"alert-warning\">\n",
    "    \n",
    "Um outro exemplo. Considere a equação de diferenças:\n",
    "\n",
    "$$y[n] = -  0.7y[n-1] + x[n]$$\n",
    "    \n",
    "O diagrama de blocos do sistema é mostrado abaixo.\n",
    "    \n",
    "<img src=diagexample.png width=\"500\">\n",
    "\n",
    "    \n",
    "Agora, usando o operador atraso:\n",
    "    \n",
    "$$Y = -0.7q^{-1}Y + X $$\n",
    "    \n",
    "$$(1+ 0.7q^{-1})Y = X $$\n",
    "    \n",
    "$$Y = \\frac{1}{1+ 0.7q^{-1}}X $$    \n",
    "    \n",
    "    \n",
    "</div>"
   ]
  },
  {
   "cell_type": "markdown",
   "id": "ae29954e-0971-4047-881d-ff6340838d7a",
   "metadata": {},
   "source": [
    "Vamos agora para um sistema mais complexo:\n",
    "\n"
   ]
  },
  {
   "cell_type": "markdown",
   "id": "7d956411-5bfc-469c-9a9d-bc14582534ce",
   "metadata": {
    "jp-MarkdownHeadingCollapsed": true,
    "tags": []
   },
   "source": [
    "## Exercícios\n",
    "\n"
   ]
  },
  {
   "cell_type": "markdown",
   "id": "086e4195-ea72-4eef-859f-6984db9439c6",
   "metadata": {},
   "source": [
    "## Referências\n",
    "\n",
    "- Oppenheim, M.  e Willsky, S. Sistemas e Sinais, 2010\n",
    "- Lathi, BP, Sinais e Sistemas Lineares, 2007\n",
    "- Ljung, L., System Identification, 1999"
   ]
  },
  {
   "cell_type": "code",
   "execution_count": null,
   "id": "2c87dd1f-7f3d-40c0-90a4-7b9f084995ba",
   "metadata": {},
   "outputs": [],
   "source": []
  }
 ],
 "metadata": {
  "kernelspec": {
   "display_name": "Python 3 (ipykernel)",
   "language": "python",
   "name": "python3"
  },
  "language_info": {
   "codemirror_mode": {
    "name": "ipython",
    "version": 3
   },
   "file_extension": ".py",
   "mimetype": "text/x-python",
   "name": "python",
   "nbconvert_exporter": "python",
   "pygments_lexer": "ipython3",
   "version": "3.9.16"
  }
 },
 "nbformat": 4,
 "nbformat_minor": 5
}
