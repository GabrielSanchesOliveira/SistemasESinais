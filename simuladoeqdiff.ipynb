{
  "nbformat": 4,
  "nbformat_minor": 0,
  "metadata": {
    "colab": {
      "provenance": [],
      "authorship_tag": "ABX9TyOcZmXjoh+JaZYUXFJSsF8e",
      "include_colab_link": true
    },
    "kernelspec": {
      "name": "python3",
      "display_name": "Python 3"
    },
    "language_info": {
      "name": "python"
    }
  },
  "cells": [
    {
      "cell_type": "markdown",
      "metadata": {
        "id": "view-in-github",
        "colab_type": "text"
      },
      "source": [
        "<a href=\"https://colab.research.google.com/github/rnwatanabe/SistemasESinais/blob/master/simuladoeqdiff.ipynb\" target=\"_parent\"><img src=\"https://colab.research.google.com/assets/colab-badge.svg\" alt=\"Open In Colab\"/></a>"
      ]
    },
    {
      "cell_type": "markdown",
      "source": [
        "# Simulador de equações diferenciais para entradas padrão\n",
        "\n",
        "Renato Naville Watanabe"
      ],
      "metadata": {
        "id": "5Rl3j5Wu4CL_"
      }
    },
    {
      "cell_type": "markdown",
      "source": [
        "O exemplo abaixo é para a seguinte equação diferencial:\n",
        "\n",
        "$\\frac{d^2y}{dt^2} + 3\\frac{dy}{dt} + 2y = x(t)$\n",
        "\n",
        "Para a entrada:\n",
        "\n",
        "$x(t) = e^{-0.2t}\\cos(3t-2)u(t)$"
      ],
      "metadata": {
        "id": "kc5XWv454K_O"
      }
    },
    {
      "cell_type": "code",
      "source": [
        "#@title parâmetros equação diferencial { run: \"auto\", vertical-output: true }\n",
        "d6y_dt6 = 0 #@param {type:\"number\"}\n",
        "d5y_dt5 = 0 #@param {type:\"number\"}\n",
        "d4y_dt4 = 0 #@param {type:\"number\"}\n",
        "d3y_dt3 = 0 #@param {type:\"number\"}\n",
        "d2y_dt2 = 1 #@param {type:\"number\"}\n",
        "dy_dt = 3 #@param {type:\"number\"}\n",
        "y = 2 #@param {type:\"number\"}\n",
        "d6x_dt6 = 0 #@param {type:\"number\"}\n",
        "d5x_dt5 = 0 #@param {type:\"number\"}\n",
        "d4x_dt4 = 0 #@param {type:\"number\"}\n",
        "d3x_dt3 = 0 #@param {type:\"number\"}\n",
        "d2x_dt2 = 0 #@param {type:\"number\"}\n",
        "dx_dt = 0 #@param {type:\"number\"}\n",
        "x = 1 #@param {type:\"number\"}\n",
        "\n",
        "import numpy as np\n",
        "import matplotlib.pyplot as plt\n",
        "\n",
        "a = np.array([d6y_dt6, d5y_dt5, d4y_dt4, d3y_dt3, d2y_dt2, dy_dt, y])\n",
        "b = np.array([d6x_dt6, d5x_dt5, d4x_dt4, d3x_dt3, d2x_dt2, dx_dt, x])\n",
        "\n",
        "grauy = 6-np.where(a!=0)[0][0]\n",
        "graux = 6-np.where(b!=0)[0][0]\n",
        "\n",
        "if graux > grauy:\n",
        "    print('Sistema não realizável.')\n",
        "\n",
        "b = b[np.where(a!=0)[0][0]:]\n",
        "a = a[np.where(a!=0)[0][0]:]\n",
        "\n",
        "if a[0] != 1:\n",
        "    b = b/a[0]\n",
        "    a = a/a[0]\n",
        "\n",
        "print(a, b)"
      ],
      "metadata": {
        "colab": {
          "base_uri": "https://localhost:8080/"
        },
        "cellView": "form",
        "id": "hak0MP-IJJxl",
        "outputId": "da41b3e3-84b3-41a0-b44e-a9edba72124e"
      },
      "execution_count": 15,
      "outputs": [
        {
          "output_type": "stream",
          "name": "stdout",
          "text": [
            "[1 3 2] [0 0 1]\n"
          ]
        }
      ]
    },
    {
      "cell_type": "code",
      "source": [
        "#@title Tipo de Entrada { run: \"auto\", vertical-output: true }\n",
        "tipo_de_entrada = \"cosseno decaindo\" #@param [\"cosseno\", \"exponencial\", \"degrau\", \"cosseno decaindo\", \"impulso\"]\n"
      ],
      "metadata": {
        "cellView": "form",
        "id": "rJLSrDNwJOjm"
      },
      "execution_count": 61,
      "outputs": []
    },
    {
      "cell_type": "markdown",
      "source": [
        "# Parâmetros da entrada\n",
        "\n",
        "- cosseno - $A\\cos(Dt + E)u(t-C)$\n",
        "\n",
        "- exponencial - $Ae^{Bt}u(t-C)$\n",
        "\n",
        "- degrau - $Au(t-C)$\n",
        "\n",
        "- cosseno decaindo - $Ae^{Bt}\\cos(Dt + E)u(t-C)$\n",
        "\n",
        "- impulso - $A\\delta(t-C)$\n"
      ],
      "metadata": {
        "id": "iX5bGVB3NqUv"
      }
    },
    {
      "cell_type": "code",
      "source": [
        "#@title  { run: \"auto\", vertical-output: true }\n",
        "#@title  { run: \"auto\", vertical-output: true }\n",
        "\n",
        "A = 1 #@param {type:\"slider\", min:0, max:100, step:0.1}\n",
        "B = -0.2 #@param {type:\"slider\", min:-100, max:100, step:0.1}\n",
        "C = 0 #@param {type:\"slider\", min:-100, max:100, step:0.1}\n",
        "D = 3 #@param {type:\"slider\", min:0, max:100, step:0.1}\n",
        "E = -3 #@param {type:\"slider\", min:-100, max:100, step:0.1}"
      ],
      "metadata": {
        "cellView": "form",
        "id": "O0tnRHz3Mp5m"
      },
      "execution_count": 66,
      "outputs": []
    },
    {
      "cell_type": "code",
      "source": [
        "#@title Tempo de simulação\n",
        "tempo = 5 #@param {type:\"number\"}\n",
        "dt = 0.0001\n",
        "t = np.arange(0, tempo, dt)\n",
        "x = np.zeros(len(t))\n",
        "y = np.zeros(len(t))\n",
        "if tipo_de_entrada == \"impulso\":\n",
        "    delay = int(C//dt)\n",
        "    x[delay] = A/dt\n",
        "if tipo_de_entrada == \"cosseno\":\n",
        "    delay = int(C//dt)\n",
        "    x[delay:] = A*np.cos(D*t[delay:]+E)\n",
        "if tipo_de_entrada == \"exponencial\":\n",
        "    delay = int(C//dt)\n",
        "    x[delay:] = A*np.exp(B*t[delay:])\n",
        "if tipo_de_entrada == \"degrau\":\n",
        "    delay = int(C//dt)\n",
        "    x[delay:] = A*np.ones(len(t[delay:]))\n",
        "if tipo_de_entrada == \"cosseno decaindo\":\n",
        "    delay = int(C//dt)\n",
        "    x[delay:] = A*np.exp(B*t)*np.cos(D*t[delay:]+E)\n",
        "\n",
        "state = np.zeros((len(a)-1,1))\n",
        "Amatrix = np.zeros((len(a)-1, len(a)-1))\n",
        "Bmatrix = np.zeros((len(a)-1,1))\n",
        "Bmatrix[0,0] = 1\n",
        "for i in range(1,len(a)-1):\n",
        "    Amatrix[i,i-1] = 1\n",
        "Amatrix[0,:] = -a[1:]\n",
        "for i in range(0, len(t)):\n",
        "\n",
        "    dstatedt = Amatrix@state + Bmatrix*x[i]\n",
        "    state = state + dt*dstatedt\n",
        "\n",
        "\n",
        "    y[i] = b[1:]@state + b[0]*dstatedt[0]\n",
        "plt.plot(t, y)"
      ],
      "metadata": {
        "colab": {
          "base_uri": "https://localhost:8080/",
          "height": 448
        },
        "cellView": "form",
        "id": "eI2i4roQQsPn",
        "outputId": "7e6cc0f9-ae8b-49a1-87d8-b6016d5c03f8"
      },
      "execution_count": 67,
      "outputs": [
        {
          "output_type": "execute_result",
          "data": {
            "text/plain": [
              "[<matplotlib.lines.Line2D at 0x7f4662aa06d0>]"
            ]
          },
          "metadata": {},
          "execution_count": 67
        },
        {
          "output_type": "display_data",
          "data": {
            "text/plain": [
              "<Figure size 640x480 with 1 Axes>"
            ],
            "image/png": "[encoded data removed]"
          },
          "metadata": {}
        }
      ]
    },
    {
      "cell_type": "code",
      "source": [],
      "metadata": {
        "id": "jrbL2xTZ6uJQ"
      },
      "execution_count": null,
      "outputs": []
    }
  ]
}