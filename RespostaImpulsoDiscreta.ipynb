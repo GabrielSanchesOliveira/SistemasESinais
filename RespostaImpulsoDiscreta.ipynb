{
 "cells": [
  {
   "cell_type": "markdown",
   "id": "88cd5f75-700a-46e4-b2b4-cbcd8401f3bd",
   "metadata": {},
   "source": [
    "# Resposta ao impulso unitário e somatória de convolução\n",
    "\n",
    "Renato Naville Watanabe"
   ]
  },
  {
   "cell_type": "markdown",
   "id": "fed8542a-c3c9-481e-97c3-3373962fbca8",
   "metadata": {},
   "source": [
    "A **resposta ao impulso unitário** (às vezes também chamada de **resposta impulsiva**) de um sistema discreto é o sinal de saída de um sistema quando um impulso unitário $\\delta[n]$ é usado como sinal de entrada. A resposta ao impulso é normalmente representada pela letra $h[n]$.\n",
    "\n",
    "<img src=diagimpulso.png width=\"300\">"
   ]
  },
  {
   "cell_type": "markdown",
   "id": "c10b8020-6b23-44ff-8550-24aadd44eba4",
   "metadata": {},
   "source": [
    "Para calcular a resposta ao impulso de um sistema de tempo discreto, basta colocar o sinal $\\delta[n]$ como entrada do sistema, e calcular os valores de forma recursiva."
   ]
  },
  {
   "cell_type": "markdown",
   "id": "5933afd2-aeef-46a6-95b9-0090c262e48a",
   "metadata": {},
   "source": [
    "Por exemplo, para o sistema com a seguinte equação de diferença:\n",
    "\n",
    "$$y[n] = 1x[n] - 0.6x[n-1] + 0.3x[n-2] + 0.1x[n-3]$$\n",
    "\n",
    "Usando $x[n] = \\delta[n]$, temos:\n",
    "\n",
    "$h[0] = \\delta[0] - 0.6 \\delta[-1] + 0.3 \\delta[-2] + 0.1 \\delta[-3] = 1$\n",
    "\n",
    "$h[1] = \\delta[1] - 0.6 \\delta[0] + 0.3 \\delta[-1] + 0.1 \\delta[-2] = -0.6$\n",
    "\n",
    "$h[2] = \\delta[2] - 0.6 \\delta[1] + 0.3 \\delta[0] + 0.1 \\delta[-1] = 0.3$\n",
    "\n",
    "$h[3] = \\delta[3] - 0.6 \\delta[2] + 0.3 \\delta[1] + 0.1 \\delta[0] = 0.1$\n",
    "\n",
    "$h[4] = \\delta[4] - 0.6 \\delta[3] + 0.3 \\delta[2] + 0.1 \\delta[1] = 0$\n",
    "\n",
    "$\\vdots $\n",
    "\n",
    "$h[k] = 0, k>3$\n",
    "\n",
    "O gráfico da resposta ao impulso está abaixo:"
   ]
  },
  {
   "cell_type": "code",
   "execution_count": 3,
   "id": "feda0a20-90ad-412a-979c-c593dbcffb97",
   "metadata": {
    "tags": []
   },
   "outputs": [
    {
     "data": {
      "text/plain": [
       "Text(0.5, 0, 'n')"
      ]
     },
     "execution_count": 3,
     "metadata": {},
     "output_type": "execute_result"
    },
    {
     "data": {
      "image/png": "[encoded data removed]",
      "text/plain": [
       "<Figure size 640x480 with 1 Axes>"
      ]
     },
     "metadata": {},
     "output_type": "display_data"
    }
   ],
   "source": [
    "import matplotlib.pyplot as plt\n",
    "import numpy as np\n",
    "\n",
    "def delta(k, N):\n",
    "    impulso = np.zeros(N)\n",
    "    impulso[k] = 1\n",
    "    return impulso\n",
    "\n",
    "\n",
    "x = delta(0, 8)\n",
    "y = np.zeros_like(x)\n",
    "for n in range(len(x)):\n",
    "    y[n] = x[n] - 0.6*x[n-1]+0.3*x[n-2]+0.1*x[n-3]\n",
    "plt.stem(y)\n",
    "plt.title('$h[n]$')\n",
    "plt.xlabel('n')"
   ]
  },
  {
   "cell_type": "markdown",
   "id": "d799fd01-5f70-4669-b2ce-8195293eb561",
   "metadata": {},
   "source": [
    "Sempre que o si"
   ]
  },
  {
   "cell_type": "markdown",
   "id": "0890c90f-06cc-4bdc-86fd-568ae878e2ba",
   "metadata": {},
   "source": [
    "Como o sistema é linear e invariante no tempo se usarmos como entrada o impulso unitário multiplicado por um valor real e atrasado de algumas unidades de tempo ($\\alpha\\delta[n-N]$), a saída será $\\alpha h[n-N]$.\n",
    "\n",
    "<img src=diagimpulsodelay.png width=\"400\">"
   ]
  },
  {
   "cell_type": "markdown",
   "id": "8489eeca-263c-4bdd-a810-3f500b426280",
   "metadata": {},
   "source": [
    "Vamos começar com um  sinal $x[n]$ qualquer:"
   ]
  },
  {
   "cell_type": "code",
   "execution_count": null,
   "id": "086731b9-c85d-441b-b631-6f0e482de8d6",
   "metadata": {
    "tags": []
   },
   "outputs": [],
   "source": [
    "\n",
    "n = np.arange(16)\n",
    "plt.figure(figsize=(4,4))\n",
    "x = np.cos(np.pi/12*n)\n",
    "plt.stem(np.cos(np.pi/12*n))"
   ]
  },
  {
   "cell_type": "markdown",
   "id": "986d3f64-d0fa-4859-9aff-ba0210c13d76",
   "metadata": {},
   "source": [
    "Se multiplicarmos o sinal por $\\delta[0]$  (que tem o valor 1 quando $n = 0$, e 0 em todo o resto), teremos um sinal que no instante 0 é igual $x[0]$ e 0 em todos os outros instantes. Da mesma forma, se multiplicarmos o sinal $x[n]$ por $\\delta[n-k]$, vamos obter um sinal que é igual a $x[k]$ no instante $k$ e 0 em todos os outros instantes."
   ]
  },
  {
   "cell_type": "code",
   "execution_count": null,
   "id": "b0593f6d-53e7-4f1d-a1d2-98e47524ecc1",
   "metadata": {
    "tags": []
   },
   "outputs": [],
   "source": [
    "fig, axs = plt.subplots(4,4, figsize=(10, 8), sharey=True, sharex=True)\n",
    "\n",
    "for k in range(16):\n",
    "    axs[k//4, k%4].stem(n, x*delta(k, len(x)))\n",
    "    axs[k//4, k%4].title.set_text(f'$x[{k}]\\delta[n-{k}]$')"
   ]
  },
  {
   "cell_type": "markdown",
   "id": "84a11cff-6fdf-49f2-847e-f4ea88b09d0e",
   "metadata": {
    "tags": []
   },
   "source": [
    "Pela figura acima, vemos que cada gráfico tem o valor do sinal $x[n]$ em um instante $k$. Então podemos reescrever o sinal $x[n]$ como:\n",
    "\n",
    "$$x[n] = \\displaystyle\\sum_{k=-\\infty}^\\infty x[k]\\delta[n-k]$$\n",
    "\n",
    "Ou seja, o sinal $x[n]$ é uma soma de impulsos deslocados no tempo "
   ]
  },
  {
   "cell_type": "code",
   "execution_count": null,
   "id": "1b5ebdce-e230-46f8-baee-1d4fb1ae3dd2",
   "metadata": {
    "tags": []
   },
   "outputs": [],
   "source": [
    "axs[0,0]"
   ]
  },
  {
   "cell_type": "code",
   "execution_count": null,
   "id": "60ee085d-0387-42cf-801b-a51bcdcbc383",
   "metadata": {},
   "outputs": [],
   "source": []
  }
 ],
 "metadata": {
  "kernelspec": {
   "display_name": "Python 3 (ipykernel)",
   "language": "python",
   "name": "python3"
  },
  "language_info": {
   "codemirror_mode": {
    "name": "ipython",
    "version": 3
   },
   "file_extension": ".py",
   "mimetype": "text/x-python",
   "name": "python",
   "nbconvert_exporter": "python",
   "pygments_lexer": "ipython3",
   "version": "3.9.16"
  }
 },
 "nbformat": 4,
 "nbformat_minor": 5
}
