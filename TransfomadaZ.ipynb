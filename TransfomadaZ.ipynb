{
 "cells": [
  {
   "attachments": {},
   "cell_type": "markdown",
   "metadata": {},
   "source": [
    "# Transformada Z\n",
    "\n",
    "Renato Naville Watanabe"
   ]
  },
  {
   "attachments": {},
   "cell_type": "markdown",
   "metadata": {},
   "source": [
    "## Definição\n",
    "\n",
    "A **transformada Z** (unilateral) de um sinal discreto $x[n]$ é:\n",
    "\n",
    "$$X(z) = \\displaystyle\\sum_{n=0}^\\infty x[n]z^{-n}$$\n",
    "\n",
    "Repare que a somatória começa de $n=0$. Isso é porque usamos a definição de transformada Z unilateral. Existe uma outra definição (bilateral), menos usada, que começa de $n=-\\infty$. A desvantagem da transformada Z unilateral é que só pode ser utilizada em sistemas causais. Como os sistemas encontrados na prática normalmente são causais, a transformada unilateral é mais usada, devido a sua maior simplicidade."
   ]
  },
  {
   "attachments": {},
   "cell_type": "markdown",
   "metadata": {},
   "source": [
    "___\n",
    "\n",
    "### Exemplo 1\n",
    "\n",
    "Para o sinal $x[n] = \\left(\\frac{1}{2}\\right)^nu[n]$, a transformda Z é:\n",
    "\n",
    "$X(z) = \\displaystyle\\sum_{n=0}^\\infty\\left(\\frac{1}{2}\\right)^nu[n]z^{-n} =\\displaystyle\\sum_{n=0}^\\infty\\left(\\frac{z^{-1}}{2}\\right)^n$\n",
    "\n",
    "Se $\\left|\\frac{z^{-1}}{2}\\right|<1$ ($|z|>\\frac{1}{2}$) a somatória converge. Esses valores para os quais a transformada Z converge ($|z|>\\frac{1}{2}$ nesse caso) é conhecido como **região de convergência**. A região de convergência tem muita importância prática quando trabalhamos com a transformada Z bilateral, mas pouca importância na transformada Z unilateral. Por esse motivo, não nos preocuparemos com a região de convergência.\n",
    "\n",
    "O somatório acima é a soma de uma série geométrica com razão $\\frac{z^{-1}}{2}$. A soma de série geométrica Então, a transformada Z de $x[n]$ é:\n",
    "\n",
    "$X(z)= \\frac{1}{1-\\frac{z^{-1}}{2}} = \\frac{2}{2-z^{-1}}$\n",
    "\n",
    "---"
   ]
  },
  {
   "attachments": {},
   "cell_type": "markdown",
   "metadata": {},
   "source": [
    "### Transformada Z de alguns sinais\n",
    "\n",
    "- $x[n] = \\delta[n-k]$\n",
    "\n",
    "$X(z) = \\displaystyle\\sum_{n=0}^\\infty\\delta[n-k]z^{-n} = z^{-k}$\n",
    "\n",
    "- $x[n] = u[n]$\n",
    "\n",
    "$X(z) = \\displaystyle\\sum_{n=0}^\\infty u[n]z^{-n} = \\frac{1}{1-z^{-1}} = \\frac{z}{z-1}$\n",
    "\n",
    "\n",
    "\n",
    "Abaixo segue uma tabela com alguns sinais encontrados frequentemente na prática:\n",
    "\n",
    "|$\\bf{x[n]}$                          | $\\bf{X(z)}$                                                            |\n",
    "|-------------------------------------|------------------------------------------------------------------------|\n",
    "|$\\delta[n]$                          | 1                                                                      |\n",
    "|$\\delta[n-k]$                        | $z^{-n}$                                                               |\n",
    "|$u[n]$                               | $\\frac{z}{z-1}$                                                        |\n",
    "|$u[n-k]$                             | $\\frac{z^{-k}z}{z-1}$                                              |    \n",
    "|$nu[n]$                              | $\\frac{z}{(z-1)^2}$                                                    |\n",
    "|$n^2u[n]$                            | $\\frac{z(z-1)}{(z-1)^3}$                                               |\n",
    "|$n^3u[n]$                            | $\\frac{z(z^2+4z+1)}{(z-1)^4}$                                          |\n",
    "|$\\alpha^nu[n]$                       | $\\frac{z}{z-\\alpha}$                                                   |\n",
    "|$n\\alpha^nu[n]$                      | $\\frac{\\alpha z}{(z-\\alpha)^2}$                                        |\n",
    "|$\\alpha^n\\cos(\\beta n)u[n]$, $\\alpha>0$ |$\\frac{z(z-\\alpha\\cos(\\beta))}{z^2-2\\alpha\\cos(\\beta)z +\\alpha^2}$|\n",
    "|$r\\alpha^n\\cos(\\beta n+\\theta)u[n]$, $\\alpha>0$|$\\frac{rz(z\\cos(\\theta-\\theta)-\\alpha\\cos(\\beta))}{z^2-2\\alpha\\cos(\\beta)z +\\alpha^2}$|\n",
    "\n",
    "A demonstração de cada um dessas transformadas Z fica como exercício."
   ]
  },
  {
   "attachments": {},
   "cell_type": "markdown",
   "metadata": {},
   "source": [
    "## Propriedades da transformada Z\n",
    "\n",
    "\n",
    "### Atraso\n",
    "- $x_1[n] = x[n-k]u[n-k]$\n",
    "\n",
    "$X_1(z) = \\displaystyle\\sum_{n=0}^\\infty x[n-k]z^{-n} = \\displaystyle\\sum_{w=0}^\\infty x[w]z^{-w-k} = z^{-k}\\displaystyle\\sum_{n=0}^\\infty x[w]z^{-w} = z^{-k}X(z)$\n",
    "\n",
    "### Avanço\n",
    "\n",
    "- $x_1[n] = x[n+k]u[n]$\n",
    "\n",
    "$X_1(z) = z^kX(z) - z^k\\displaystyle\\sum_{n=0}^{k-1}x[n]z^{-n}$\n",
    "\n",
    "### Convolução\n",
    "\n",
    "A transformada Z da convolução entre dois sinais é uma das propriedades mais importantes na análise de sinais e sistemas lineares e invariantes no tempo. \n",
    "\n",
    "$x_3[n] = x_1[n]*x_2[n] = \\displaystyle\\sum_{k=-\\infty}^\\infty x_1[k]x_2[n-k]$\n",
    "\n",
    "Com $x_1[n] = 0$ para $n<0$ e $x_2[n] = 0$ para $n < 0$.\n",
    "\n",
    "Então \n",
    "\n",
    "$x_3[n] = \\displaystyle\\sum_{k=0}^\\infty x_1[k]x_2[n-k]$\n",
    "\n",
    "$X_3(z) = \\displaystyle\\sum_{n=0}^\\infty x_3[n]z^{-n} = \\displaystyle\\sum_{n=0}^\\infty z^{-n}\\displaystyle\\sum_{k=0}^\\infty x_1[k]x_2[n-k] = \\displaystyle\\sum_{k=0}^\\infty x_1[k]\\displaystyle\\sum_{n=0}^\\infty z^{-n}x_2[n-k] = \\displaystyle\\sum_{k=0}^\\infty x_1[k]\\displaystyle\\sum_{r=0}^\\infty z^{-r-k}x_2[r] = \\displaystyle\\sum_{k=0}^\\infty x_1[k]z^{-k}\\displaystyle\\sum_{r=0}^\\infty z^{-r}x_2[r]$\n",
    "\n",
    "Então, a transformada Z da convolução entre dois sinais é a multiplicação das transformadas Z de cada um dos sinais:\n",
    "\n",
    "$X_3(z) = X_1(z)X_2(z)$\n",
    "\n",
    "\n",
    "\n"
   ]
  },
  {
   "attachments": {},
   "cell_type": "markdown",
   "metadata": {},
   "source": [
    "### Linearidade\n",
    "\n",
    "A transformada Z é uma operação linear. Ou seja, valem as seguintes propriedades:\n",
    "\n",
    "$$\\mathcal{Z}(x_1[n]) = X_1(z) \\text{ e } \\mathcal{Z}(x_2[n]) = X_2(z)$$\n",
    "\n",
    "Então,\n",
    "\n",
    "$$\\mathcal{Z}(x_1[n]+x_2[n]) = X_1(z) + X_2(z)$$\n",
    "\n",
    "e\n",
    "\n",
    "$$\\mathcal{Z}(\\alpha x_1[n]) = \\alpha X_1(z)$$\n",
    "\n",
    "\n",
    "As provas dessas propriedades saem facilmente considerando que a transformada Z é definida como um somatório, que é linear."
   ]
  },
  {
   "attachments": {},
   "cell_type": "markdown",
   "metadata": {},
   "source": [
    "## Polos e zeros\n",
    "\n",
    "Na maioria dos sinais encontrados na prática, as transformadas Z encontradas tem a forma de uma função racional (quociente de dois polinômios), na forma:\n",
    "\n",
    "$$X(z) =  \\frac{b_Mz^{-M} +...+b_2z^{-2}+b_1z^{-1} + b_0}{1 + a_{1}z^{-1}+...+a_Nz^{-N}}$$\n",
    "\n",
    "Pelo Teorema Fundamental da Álgebra, qualquer polinômio de grau $n$ tem $n$ raízes, e consequentemente a transformada Z pode ser reescrita da seguinte forma:\n",
    "\n",
    "$X(z) = \\frac{A(z-z_1)(z-z_2)...(z-z_M)}{(z-p_1)(z-p_2)...(z-p_N)}$\n",
    "\n",
    "Os valores $z_i$ são as raízes do polinômio no numerador de $X(z)$. Esses valores são conhecidos como **zeros** de X(z). Os valores $p_i$ são as raízes do polinômio no denominador de $X(z)$. Esses valores são conhecidos como **polos** de X(z). Por fim, $A$ é uma constante.\n",
    "\n"
   ]
  },
  {
   "attachments": {},
   "cell_type": "markdown",
   "metadata": {},
   "source": [
    "---\n",
    "\n",
    "### Exemplo 2\n",
    "\n",
    "A transformada $X(z)$ dada pela seguinte expressão:\n",
    "\n",
    "$$X(z) = \\frac{z^2-0.3z-0.1}{z^3+0.2z^2-0.11z-0.012}$$\n",
    "\n",
    "$X(z)$ pode ser reescrito da seguinte forma, com seus polos e zeros sendo mostrados explicitamente:\n",
    "\n",
    "$$X(z) = \\frac{(z-0.5)(z+0.2)}{(z+0.1)(z+0.4)(z-0.3)}$$\n",
    "\n",
    "\n",
    "\n",
    "---"
   ]
  },
  {
   "attachments": {},
   "cell_type": "markdown",
   "metadata": {},
   "source": [
    "## Exercícios"
   ]
  },
  {
   "attachments": {},
   "cell_type": "markdown",
   "metadata": {},
   "source": [
    "**1)** Encontre a Transformada Z de cada um dos sinais abaixo:\n",
    "\n",
    "a) $x_1[n] = \\delta[n]$                          \n",
    "\n",
    "b) $x_2[n] = u[n-k]$\n",
    "\n",
    "c) $x_3[n] = nu[n]$\n",
    "\n",
    "d) $x_4[n] = n^2u[n]$\n",
    "\n",
    "e) $x_5[n] = n^3u[n]$\n",
    "\n",
    "**2)** Encontre a Transformada Z de cada um dos sinais abaixo:\n",
    "\n",
    "a) $x_1[n] = \\alpha^nu[n]$\n",
    "\n",
    "b) $x_2[n] = n\\alpha^nu[n]$\n",
    "\n",
    "c) $x_3[n] = \\alpha^n\\cos(\\beta n)u[n]$, $\\alpha>0$\n",
    "\n",
    "d) $x_4[n] = r\\alpha^n\\cos(\\beta n+\\theta)u[n]$, $\\alpha>0$"
   ]
  },
  {
   "attachments": {},
   "cell_type": "markdown",
   "metadata": {},
   "source": [
    "**3)** Encontre a transformada Z dos seguintes sinais:\n",
    "\n",
    "a) $x_1[n] = u[n] - u[n-20]$\n",
    "\n",
    "b) $x_2[n] = 0.5^n(u[n]-u[n-15])$\n",
    "\n",
    "c) $x_3[n] = (-0.2)^n(u[n]-u[n-20])$"
   ]
  },
  {
   "attachments": {},
   "cell_type": "markdown",
   "metadata": {},
   "source": [
    "## Referências\n",
    "\n",
    "- Ulaby, FT e Yagle, AE, Signals & Systems: Theory and Applications, 2018, [ss2.eecs.umich.edu](ss2.eecs.umich.edu)\n",
    "- Lathi, BP, Sinais e Sistemas Lineares, 2007\n",
    "- Oppenheim, M.  e Willsky, S., Sistemas e Sinais, 2010\n",
    "- Stewart, James. Cálculo - Volume 2, 2017\n",
    "- Brown, James, e Ruel Churchill. Variáveis complexas e aplicações. (9ª edição), 2015."
   ]
  },
  {
   "attachments": {},
   "cell_type": "markdown",
   "metadata": {},
   "source": []
  }
 ],
 "metadata": {
  "kernelspec": {
   "display_name": "base",
   "language": "python",
   "name": "python3"
  },
  "language_info": {
   "codemirror_mode": {
    "name": "ipython",
    "version": 3
   },
   "file_extension": ".py",
   "mimetype": "text/x-python",
   "name": "python",
   "nbconvert_exporter": "python",
   "pygments_lexer": "ipython3",
   "version": "3.9.13"
  },
  "orig_nbformat": 4
 },
 "nbformat": 4,
 "nbformat_minor": 2
}
