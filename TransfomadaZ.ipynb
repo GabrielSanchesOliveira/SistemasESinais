{
 "cells": [
  {
   "attachments": {},
   "cell_type": "markdown",
   "metadata": {},
   "source": [
    "# Transformada Z\n",
    "\n",
    "Renato Naville Watanabe"
   ]
  },
  {
   "attachments": {},
   "cell_type": "markdown",
   "metadata": {},
   "source": [
    "## Definição\n",
    "\n",
    "A **transformada Z** (unilateral) de um sinal discreto $x[n]$ é:\n",
    "\n",
    "$$X(z) = \\displaystyle\\sum_{n=0}^\\infty x[n]z^{-n}$$\n",
    "\n",
    "Repare que a somatória começa de $n=0$. Isso é porque usamos a definição de transformada Z unilateral. Existe uma outra definição (bilateral), menos usada, que começa de $n=-\\infty$. A desvantagem da transformada Z unilateral é que só pode ser utilizada em sistemas causais. Como os sistemas encontrados na prática normalmente são causais, a transformada unilateral é mais usada, devido a sua maior simplicidade."
   ]
  },
  {
   "attachments": {},
   "cell_type": "markdown",
   "metadata": {},
   "source": [
    "___\n",
    "\n",
    "### Exemplo 1\n",
    "\n",
    "Para o sinal $x[n] = \\left(\\frac{1}{2}\\right)^nu[n]$, a transformda Z é:\n",
    "\n",
    "$X(z) = \\displaystyle\\sum_{n=0}^\\infty\\left(\\frac{1}{2}\\right)^nu[n]z^{-n} =\\displaystyle\\sum_{n=0}^\\infty\\left(\\frac{z^{-1}}{2}\\right)^n$\n",
    "\n",
    "Se $\\left|\\frac{z^{-1}}{2}\\right|<1$ ($|z|>\\frac{1}{2}$) a somatória converge. Esses valores para os quais a transformada Z converge ($|z|>\\frac{1}{2}$ nesse caso) é conhecido como **região de convergência**. A região de convergência tem muita importância prática quando trabalhamos com a transformada Z bilateral, mas pouca importância na transformada Z unilateral. Por esse motivo, não nos preocuparemos com a região de convergência aqui.\n",
    "\n",
    "O somatório acima é a soma de uma série geométrica com razão $\\frac{z^{-1}}{2}$. Então, a transformada Z de $x[n]$ é:\n",
    "\n",
    "$X(z)= \\frac{1}{1-\\frac{z^{-1}}{2}} = \\frac{2}{2-z^{-1}}$\n",
    "\n",
    "---"
   ]
  },
  {
   "attachments": {},
   "cell_type": "markdown",
   "metadata": {},
   "source": [
    "## Polos e zeros"
   ]
  },
  {
   "attachments": {},
   "cell_type": "markdown",
   "metadata": {},
   "source": [
    "## Exercícios"
   ]
  },
  {
   "attachments": {},
   "cell_type": "markdown",
   "metadata": {},
   "source": [
    "## Referências\n",
    "\n",
    "- Ulaby, FT e Yagle, AE, Signals & Systems: Theory and Applications, 2018, [ss2.eecs.umich.edu](ss2.eecs.umich.edu)\n",
    "- Lathi, BP, Sinais e Sistemas Lineares, 2007\n",
    "- Oppenheim, M.  e Willsky, S., Sistemas e Sinais, 2010\n",
    "- Stewart, James. Cálculo - Volume 2, 2017"
   ]
  },
  {
   "attachments": {},
   "cell_type": "markdown",
   "metadata": {},
   "source": []
  }
 ],
 "metadata": {
  "kernelspec": {
   "display_name": "base",
   "language": "python",
   "name": "python3"
  },
  "language_info": {
   "name": "python",
   "version": "3.9.13"
  },
  "orig_nbformat": 4
 },
 "nbformat": 4,
 "nbformat_minor": 2
}
