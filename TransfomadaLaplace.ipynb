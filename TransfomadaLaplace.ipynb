{
 "cells": [
  {
   "cell_type": "markdown",
   "metadata": {},
   "source": [
    "# Transformada de Laplace\n",
    "\n",
    "Renato Naville Watanabe"
   ]
  },
  {
   "cell_type": "markdown",
   "metadata": {},
   "source": [
    "## Preparação do aambiente"
   ]
  },
  {
   "cell_type": "code",
   "execution_count": 5,
   "metadata": {},
   "outputs": [],
   "source": [
    "import sympy as sym\n",
    "import matplotlib.pyplot as plt"
   ]
  },
  {
   "cell_type": "markdown",
   "metadata": {},
   "source": [
    "## Definição\n",
    "\n",
    "A **transformada de Laplace** (unilateral) de um sinal contínuo $x(t)$ é:\n",
    "\n",
    "$$X(s) = \\int_{0}^\\infty x(t)e^{-st}\\,dt$$\n",
    "\n",
    "Repare que a integral começa de $t=0$. Isso é porque usamos a definição de transformada de Laplace unilateral. Existe uma outra definição (bilateral), menos usada, que começa de $t=-\\infty$. A desvantagem da transformada de Laplace unilateral é que só pode ser utilizada em sistemas causais. Como os sistemas encontrados na prática normalmente são causais, a transformada unilateral é mais usada, devido a sua maior simplicidade.\n",
    "\n",
    "A transformada de Laplace é indicada pelo seguinte operador:\n",
    "\n",
    "$X(s) = \\mathcal{L}(x(t))$"
   ]
  },
  {
   "cell_type": "markdown",
   "metadata": {},
   "source": [
    "___\n",
    "\n",
    "### Exemplo 1\n",
    "\n",
    "Para o sinal $x(t) = e^{-0.5t}u(t)$, a transformda de Laplace é:\n",
    "\n",
    "$X(s) = \\int_{0}^\\infty e^{-0.5t}u(t)e^{-st}\\,dt =\\int_{0}^\\infty e^{-(0.5+s)t}\\,dt$\n",
    "\n",
    "Se $\\mathrm{Re}(-0.5-s)<0$  a integral converge. Esses valores para os quais a transformada de Laplace converge é conhecido como **região de convergência**. A região de convergência tem muita importância prática quando trabalhamos com a transformada de Laplace bilateral, mas pouca importância na transformada de Laplace unilateral. Por esse motivo, não nos preocuparemos aqui com a região de convergência.\n",
    "\n",
    "A integral acima é:\n",
    "\n",
    "$X(s)= \\left.\\frac{e^{-(0.5+s)t}}{-(0.5+s)}\\right|_{t=0}^{\\infty} = \\frac{1}{s+0.5}$\n",
    "\n",
    "---"
   ]
  },
  {
   "cell_type": "markdown",
   "metadata": {},
   "source": [
    "### Transformada de Laplace de alguns sinais\n",
    "\n",
    "- $x(t) = \\delta(t-t_0)$\n",
    "\n",
    "$X(s) = \\int_0^\\infty \\delta(t-t_0)e^{-st}\\,dt = e^{-st_0}$\n",
    "\n",
    "- $x(t) = u(t)$\n",
    "\n",
    "$X(s) = \\int_0^\\infty u(t)e^{-st}\\,dt = \\left.\\frac{e^{-st}}{-s}\\right|_{t=0}^{\\infty} = \\frac{1}{s}$\n",
    "\n",
    "\n",
    "\n",
    "Abaixo segue uma tabela com alguns sinais encontrados frequentemente na prática:\n",
    "\n",
    "|$\\bf{x(t)}$                          | $\\bf{X(s)}$                                                            |\n",
    "|-------------------------------------|------------------------------------------------------------------------|\n",
    "|$\\delta(t)$                          | 1                                                                      |\n",
    "|$\\delta(t-t_0)$                      | $e^{-st_0}$                                                            |\n",
    "|$u(t)$                               | $\\frac{1}{s}$                                                          |\n",
    "|$u(t-t_0)$                           | $\\frac{e^{-st}}{s}$                                                    |    \n",
    "|$tu(t)$                              | $\\frac{1}{s^2}$                                                        |\n",
    "|$t^nu(t)$                            | $\\frac{n!}{s^{n+1}}$                                                   |\n",
    "|$e^{\\lambda t}u(t)$                  | $\\frac{1}{s-\\lambda}$                                                  |\n",
    "|$te^{\\lambda t}u(t)$                 | $\\frac{1}{(s-\\lambda)^2}$                                              |\n",
    "|$e^{-at}\\cos(b t)u(t)$, $a>0$        |$\\frac{s+a}{(s+a)^2+b^2}$                                               |\n",
    "|$e^{-at}\\mathrm{sen}(b t)u(t)$, $a>0$|$\\frac{b}{(s+a)^2+b^2}$|\n",
    "\n",
    "A demonstração de cada um dessas transformadas de Laplace fica como exercício."
   ]
  },
  {
   "cell_type": "markdown",
   "metadata": {},
   "source": [
    "## Propriedades da transformada de Laplace\n",
    "\n",
    "\n",
    "### Deslocamento no tempo\n",
    "\n",
    "$x_1(t) = x(t-t_0)$, com $t_0>0$\n",
    "\n",
    "-- **Prova**\n",
    "\n",
    "$X_1(s) = \\int_0^\\infty x_1(t)e^{-st}\\,dt = \\int_0^\\infty x(t-t_0)e^{-st}\\,dt = \\int_0^\\infty x(w)e^{-s(w+t_0)}\\,dw = e^{-st_0}\\int_0^\\infty x(w)e^{-sw}\\,dw = e^{-st_0}X(s)$\n",
    "\n",
    "Então:\n",
    "\n",
    "$\\mathcal{L}(x(t-t_0)) = e^{-st_0}X(s)$\n",
    "\n"
   ]
  },
  {
   "cell_type": "markdown",
   "metadata": {},
   "source": [
    "### Deslocamento na frequência\n",
    "\n",
    "$x_1(t) = x(t)e^{s_0t}$\n",
    "\n",
    "-- **Prova**\n",
    "\n",
    "$X_1(s) = \\int_0^\\infty x(t)e^{s_0t}e^{-st}\\,dt = \\int_0^\\infty x(t)e^{-(s-s_0)t}\\,dt = X(s-s_0)$\n",
    "\n",
    "\n",
    "Então:\n",
    "\n",
    "$\\mathcal{L}(x(t)e^{s_0t}) = X(s-s_0)$\n"
   ]
  },
  {
   "cell_type": "markdown",
   "metadata": {},
   "source": [
    "### Derivada\n",
    "\n",
    "- $x_1(t) = \\frac{dx}{dt}$\n",
    "\n",
    "- **Prova**\n",
    "\n",
    "$X_1(s) = \\int_0^\\infty \\frac{dx}{dt}e^{-st}\\,dt=\\left.x(t)e^{-st}\\right|_{t=0}^\\infty - \\int_0^\\infty -sx(t)e^{-st}\\,dt = sX(s)-x(0)$\n",
    "\n",
    "A integral acima foi feita utilizando o método de integral por partes.\n",
    "\n",
    "Então: \n",
    "\n",
    "$\\mathcal{L}\\left(\\frac{dx}{dt}\\right) = sX(s)-x(0)$\n",
    "\n",
    "### Integral\n",
    "\n",
    "- $x_1(t) = \\int_0^\\infty x(t)\\,dt$, com $x_1(0) = 0$.\n",
    "\n",
    "- **Prova**\n",
    "\n",
    "$x(t) = \\frac{dx_1}{dt}$\n",
    "\n",
    "Com isso, usando a propriedade da derivada:\n",
    "\n",
    "$X(s) = sX_1(s) -x_1(0) = sX_1(s) \\rightarrow X_1(s) = \\frac{X(s)}{s}$\n",
    "\n",
    "Então\n",
    "\n",
    "$\\mathcal{L}(\\int_0^\\infty x(t)\\,dt) = \\frac{X(s)}{s}$\n"
   ]
  },
  {
   "cell_type": "markdown",
   "metadata": {},
   "source": [
    "### Convolução\n",
    "\n",
    "A transformada de Laplace da convolução entre dois sinais é uma das propriedades mais importantes na análise de sinais e sistemas lineares e invariantes no tempo. \n",
    "\n",
    "$x_3(t) = x_1(t)*x_2(t) = \\int_{-\\infty}^\\infty x_1(\\tau)x_2(t-\\tau)\\,d\\tau$\n",
    "\n",
    "Com $x_1(t) = 0$ para $t<0$ e $x_2(t) = 0$ para $t < 0$.\n",
    "\n",
    "Então \n",
    "\n",
    "$x_3(t) = \\int_{0}^\\infty x_1(\\tau)x_2(t-\\tau)\\,d\\tau$\n",
    "\n",
    "$X_3(s) = \\int_{0}^\\infty x_3(t)e^{-st}\\,dt = \\int_{0}^\\infty e^{-st}\\int_{0}^\\infty x_1(\\tau)x_2(t-\\tau)\\,d\\tau\\,dt = \\int_{0}^\\infty x_1(\\tau)\\int_{0}^\\infty x_2(t-\\tau)e^{-st}\\,dtd\\tau = \\int_{0}^\\infty x_1(\\tau)\\int_{0}^\\infty x_2(w)e^{-s(w+\\tau)}\\,dwd\\tau = \\int_{0}^\\infty x_1(\\tau)e^{-s\\tau}\\int_{0}^\\infty x_2(w)e^{-sw}\\,dwd\\tau = X_1(s)X_2(s)$\n",
    "\n",
    "Então, a transformada de Laplace da convolução entre dois sinais é a multiplicação das transformadas de Laplace de cada um dos sinais:\n",
    "\n",
    "$X_3(s) = X_1(s)X_2(s)$"
   ]
  },
  {
   "cell_type": "markdown",
   "metadata": {},
   "source": [
    "### Linearidade\n",
    "\n",
    "A transformada de Laplace é uma operação linear. Ou seja, valem as seguintes propriedades:\n",
    "\n",
    "$$\\mathcal{L}(x_1(t)) = X_1(s) \\text{ e } \\mathcal{L}(x_2(t)) = X_2(s)$$\n",
    "\n",
    "Então,\n",
    "\n",
    "$$\\mathcal{L}(x_1(t)+x_2(t)) = X_1(s) + X_2(s)$$\n",
    "\n",
    "e\n",
    "\n",
    "$$\\mathcal{L}(\\alpha x_1(t)) = \\alpha X_1(s)$$\n",
    "\n",
    "\n",
    "As provas dessas propriedades saem facilmente considerando que a transformada de Laplace é definida como uma integral, que é linear."
   ]
  },
  {
   "cell_type": "markdown",
   "metadata": {},
   "source": [
    "## Polos e zeros\n",
    "\n",
    "Na maioria dos sinais encontrados na prática, as transformadas de Laplace encontradas tem a forma de uma função racional (quociente de dois polinômios), na forma:\n",
    "\n",
    "\n",
    "$$X(s) =  \\frac{b_Ms^M +...+b_2s^2+b_1s + b_0}{1 + a_{1}s+...+a_Ns^N}$$\n",
    "\n",
    "Pelo Teorema Fundamental da Álgebra, qualquer polinômio de grau $n$ tem $n$ raízes, e consequentemente a transformada Z pode ser reescrita da seguinte forma:\n",
    "\n",
    "$X(S) = \\frac{G(s-z_1)(s-z_2)...(s-z_M)}{(s-p_1)(s-p_2)...(s-p_N)}$\n",
    "\n",
    "Os valores $z_i$ são as raízes do polinômio no numerador de $X(s)$. Esses valores são conhecidos como **zeros** de X(s). Os valores $p_i$ são as raízes do polinômio no denominador de $X(s)$. Esses valores são conhecidos como **polos** de X(s). Por fim, $G$ é uma constante.\n",
    "\n"
   ]
  },
  {
   "cell_type": "markdown",
   "metadata": {},
   "source": [
    "---\n",
    "\n",
    "### Exemplo 2\n",
    "\n",
    "A transformada $X(s)$ dada pela seguinte expressão:\n",
    "\n",
    "$$X(z) = \\frac{s^2-0.3s-0.1}{s^3+0.2s^2-0.11s-0.012}$$\n",
    "\n",
    "$X(s)$ pode ser reescrito da seguinte forma, com seus polos e zeros sendo mostrados explicitamente:\n",
    "\n",
    "$$X(s) = \\frac{(s-0.5)(s+0.2)}{(s+0.1)(s+0.4)(s-0.3)}$$\n",
    "\n",
    "\n",
    "\n",
    "---"
   ]
  },
  {
   "cell_type": "markdown",
   "metadata": {},
   "source": [
    "---\n",
    "\n",
    "### Exemplo 3\n",
    "\n",
    "A transformada de Laplace, mostrada abaixo:\n",
    "\n",
    "$X(s) = \\frac{s+0.2}{s^3-0.5s^2+0.33s-0.029}$\n",
    "\n",
    "$X(s)$ pode ser reescrito na forma de polos e zeros como:\n",
    "\n",
    "$X(s) = \\frac{s+0.2}{(s-0.1)(s-0.2 - j0.5)(s-0.2+j0.5)}$\n",
    "\n",
    "---"
   ]
  },
  {
   "cell_type": "markdown",
   "metadata": {},
   "source": [
    "## Exercícios"
   ]
  },
  {
   "cell_type": "markdown",
   "metadata": {},
   "source": [
    "**1)** Calcule a transformada de Laplace dos sinais com os  gráficos abaixo:\n",
    "\n",
    "a) "
   ]
  },
  {
   "cell_type": "code",
   "execution_count": 10,
   "metadata": {},
   "outputs": [
    {
     "data": {
      "image/png": "[encoded data removed]",
      "text/plain": [
       "<Figure size 400x300 with 1 Axes>"
      ]
     },
     "metadata": {},
     "output_type": "display_data"
    },
    {
     "data": {
      "text/plain": [
       "<sympy.plotting.plot.Plot at 0x7f28e40a2890>"
      ]
     },
     "execution_count": 10,
     "metadata": {},
     "output_type": "execute_result"
    }
   ],
   "source": [
    "t = sym.symbols('t')\n",
    "x = sym.Piecewise((3, (t >= 0) & (t < 3)), \n",
    "                  (1, (t >= 3) & (t < 4)), \n",
    "                  (0, True))\n",
    "\n",
    "sym.plot(x, (t, 0, 5), size=(4,3))"
   ]
  },
  {
   "cell_type": "markdown",
   "metadata": {},
   "source": [
    "b) "
   ]
  },
  {
   "cell_type": "code",
   "execution_count": 12,
   "metadata": {},
   "outputs": [
    {
     "data": {
      "image/png": "[encoded data removed]",
      "text/plain": [
       "<Figure size 400x300 with 1 Axes>"
      ]
     },
     "metadata": {},
     "output_type": "display_data"
    },
    {
     "data": {
      "text/plain": [
       "<sympy.plotting.plot.Plot at 0x7f28e3cdbca0>"
      ]
     },
     "execution_count": 12,
     "metadata": {},
     "output_type": "execute_result"
    }
   ],
   "source": [
    "t = sym.symbols('t')\n",
    "x = sym.Piecewise((3*t, (t >= 0) & (t < 1)), \n",
    "                  (3, (t >= 1) & (t < 4)), \n",
    "                  (7-t, (t >= 4) & (t < 5)), \n",
    "                  (2, (t >= 5)), \n",
    "                  (0, True))\n",
    "\n",
    "sym.plot(x, (t, 0, 7), size=(4,3))"
   ]
  },
  {
   "cell_type": "code",
   "execution_count": null,
   "metadata": {},
   "outputs": [],
   "source": []
  },
  {
   "cell_type": "markdown",
   "metadata": {},
   "source": [
    "## Referências\n",
    "\n",
    "- Ulaby, FT e Yagle, AE, Signals & Systems: Theory and Applications, 2018, [ss2.eecs.umich.edu](ss2.eecs.umich.edu)\n",
    "- Lathi, BP, Sinais e Sistemas Lineares, 2007\n",
    "- Oppenheim, M.  e Willsky, S., Sistemas e Sinais, 2010\n",
    "- Stewart, James. Cálculo - Volume 2, 2017\n",
    "- Brown, James, e Ruel Churchill. Variáveis complexas e aplicações. (9ª edição), 2015."
   ]
  },
  {
   "cell_type": "markdown",
   "metadata": {},
   "source": [
    "## Solução dos exercícios"
   ]
  },
  {
   "cell_type": "code",
   "execution_count": null,
   "metadata": {},
   "outputs": [],
   "source": []
  }
 ],
 "metadata": {
  "kernelspec": {
   "display_name": "Python 3 (ipykernel)",
   "language": "python",
   "name": "python3"
  },
  "language_info": {
   "codemirror_mode": {
    "name": "ipython",
    "version": 3
   },
   "file_extension": ".py",
   "mimetype": "text/x-python",
   "name": "python",
   "nbconvert_exporter": "python",
   "pygments_lexer": "ipython3",
   "version": "3.10.11"
  }
 },
 "nbformat": 4,
 "nbformat_minor": 4
}
