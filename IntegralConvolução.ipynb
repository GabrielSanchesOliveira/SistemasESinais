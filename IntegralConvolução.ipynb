{
 "cells": [
  {
   "cell_type": "markdown",
   "id": "e9182fc6-1a1b-4ca0-8c02-9213c912bf9e",
   "metadata": {},
   "source": [
    "# Integral de Convolução\n",
    "\n",
    "Renato Naville Watanabe"
   ]
  },
  {
   "cell_type": "markdown",
   "id": "940316f6-38bb-4532-a692-3ca60736001d",
   "metadata": {},
   "source": [
    "Aqui, vamos desenvolver um método para encontrar a saída $y(t)$ de um sistema contínuo linear e invariante no tempo para uma entrada $x(t)$ qualquer.\n",
    "\n",
    "<img src=Imagens/contsis.png width=\"400\">"
   ]
  },
  {
   "cell_type": "markdown",
   "id": "e5885de7-b3aa-498c-976a-4cee43541b12",
   "metadata": {},
   "source": [
    "Vamos considerar que conhecemos a  resposta ao impulso do sistema.\n",
    "\n",
    "<img src=Imagens/diagimpulsocont.png width=\"300\">"
   ]
  },
  {
   "cell_type": "markdown",
   "id": "51f78208-f2dd-41e3-b227-5ee2545737a8",
   "metadata": {},
   "source": [
    "Como o sistema é linear e invariante no tempo se usarmos como entrada o impulso de Dirac multiplicado por um valor real e atrasado em alguma quantidade de tempo ($\\alpha\\delta(t-T)$), a saída será $\\alpha h(t-T)$ (multiplicada pelo mesmo valor e atrsada da mesma quantidade de tempo).\n",
    "\n",
    "<img src=Imagens/diagimpulsodelaycont.png width=\"400\">"
   ]
  },
  {
   "cell_type": "markdown",
   "id": "32bda570-32ab-4aed-898c-77445c381440",
   "metadata": {},
   "source": [
    "Em sinais de tempo contínuo, pelo terorema da amostragem, podemos escrever o valor de $x(t)$ em algum instante específico como:\n",
    "\n",
    "$$x(\\tau) = x(\\tau)\\delta(t-\\tau)$$\n",
    "\n",
    "Então ao usar $x(\\tau)$ como entrada, a saída é $x(\\tau)h(t-\\tau)$\n",
    "\n",
    "<img src=Imagens/diagimpulsoamostracont.png width=\"400\">"
   ]
  },
  {
   "cell_type": "markdown",
   "id": "b35b5a64-66e2-4bd9-b395-71064bfb37cd",
   "metadata": {
    "tags": []
   },
   "source": [
    "O sinal $x(t)$ todo pode ser escrito como a soma (integral, já que é um sinal contínuo) dos valores em cada instante. Então podemos reescrever o sinal $x(t)$ como:\n",
    "\n",
    "$$x(t) = \\int_{-\\infty}^\\infty x(\\tau)\\delta(t-\\tau)\\,d\\tau$$\n",
    "\n",
    "Ou seja, o sinal $x(t)$ é a integral de impulsos deslocados no tempo. "
   ]
  },
  {
   "cell_type": "markdown",
   "id": "64cb7906-3f2d-4201-98d1-6792cc0b3f9f",
   "metadata": {
    "tags": []
   },
   "source": [
    "Então, considerando o exposto acima e o princípio da superposição que sistemas lineares e invariantes no tempo obedecem, temos que a saída do sistema será:\n",
    "\n",
    "\n",
    "$$y(t) = \\int_{-\\infty}^\\infty x(\\tau)h(t-\\tau)\\,d\\tau $$\n",
    "\n",
    "Esta relação está representada na imagem abaixo:\n",
    "\n",
    "<img src=Imagens/diagconvcont.png width=\"500\">\n",
    "\n",
    "\n",
    "Esta expressão é central no desenvolvimento da teoria de sistemas e sinais de tempo contínuo e recebe o nome de **integral de convolução**."
   ]
  },
  {
   "cell_type": "markdown",
   "id": "33799afc-7d0c-41a6-a13c-3f9bb37ecd78",
   "metadata": {},
   "source": [
    "A integral de convolução é uma operação entre dois sinais (no caso acima $x(t)$ e $h(t)$) e é representada pelo operador *.\n",
    "\n",
    "$$y(t) = \\int_{-\\infty}^\\infty x(t)h(t-\\tau)\\,d\\tau = x(t)*h(t)$$ \n",
    "\n",
    "Perceba que o símbolo * é apenas uma forma reduzida de representar a integral de convolução (nunca se deve confundir com a simples multiplicação dos valores de $x$ e $h$ no instante $t$)."
   ]
  },
  {
   "cell_type": "markdown",
   "id": "b9c9b2fd-4282-40f0-b881-cac006151900",
   "metadata": {},
   "source": [
    "## Forma de calcular a integral de convolução\n",
    "\n"
   ]
  },
  {
   "cell_type": "markdown",
   "id": "4d16f828-8840-4fde-b9a5-5accb0f133da",
   "metadata": {},
   "source": [
    "### Método gráfico\n",
    "\n",
    "Esse método, por ser mais simples de se computar, é mais utilizado para calcular a convolução. Vamos voltar para a expressão da convolução:\n",
    "\n",
    "$$y(t) = x(t)*h(t) = \\int_{-\\infty}^\\infty x(t)h(t-\\tau)\\,d\\tau$$ \n",
    "\n",
    "Podemos enxergar os sinais como sendo função de $\\tau$ ao invés de $t$. Então, para $t = 0$, temos os dois sinais a ser considerado: $x(t)$ e $h(-t)$ (a resposta ao impulso espelhada).\n",
    "\n",
    "---\n",
    "Vamos fazer a convolução entre \n",
    "\n",
    "$$x(t) = 2u(t) - 2u(t-1)$$\n",
    "\n",
    "e\n",
    "\n",
    "$$h(t) = tu(t) - tu(t-2)$$\n",
    "\n"
   ]
  },
  {
   "cell_type": "code",
   "execution_count": 1,
   "id": "30e3e49f-075d-45fe-917d-e646b9008d01",
   "metadata": {},
   "outputs": [
    {
     "ename": "ImportError",
     "evalue": "\n\nManimPango could not import and load the necessary shared libraries.\nThis error may occur when ManimPango and its dependencies are improperly set up.\nPlease make sure the following versions are what you expect:\n\n    * ManimPango v0.4.3, Python v3.10.10\n\nIf you believe there is a greater problem,\nfeel free to contact us or create an issue on GitHub:\n\n    * Discord: https://www.manim.community/discord/\n    * GitHub: https://github.com/ManimCommunity/ManimPango/issues\n\nOriginal error: /lib/x86_64-linux-gnu/libharfbuzz.so.0: undefined symbol: FT_Get_Transform\n",
     "output_type": "error",
     "traceback": [
      "\u001b[0;31m---------------------------------------------------------------------------\u001b[0m",
      "\u001b[0;31mImportError\u001b[0m                               Traceback (most recent call last)",
      "File \u001b[0;32m~/miniconda3/lib/python3.10/site-packages/manimpango/__init__.py:14\u001b[0m\n\u001b[1;32m     13\u001b[0m \u001b[38;5;28;01mtry\u001b[39;00m:\n\u001b[0;32m---> 14\u001b[0m     \u001b[38;5;28;01mfrom\u001b[39;00m \u001b[38;5;21;01m.\u001b[39;00m\u001b[38;5;21;01mcmanimpango\u001b[39;00m \u001b[38;5;28;01mimport\u001b[39;00m \u001b[38;5;241m*\u001b[39m  \u001b[38;5;66;03m# noqa: F403,F401\u001b[39;00m\n\u001b[1;32m     15\u001b[0m     \u001b[38;5;28;01mfrom\u001b[39;00m \u001b[38;5;21;01m.\u001b[39;00m\u001b[38;5;21;01menums\u001b[39;00m \u001b[38;5;28;01mimport\u001b[39;00m \u001b[38;5;241m*\u001b[39m  \u001b[38;5;66;03m# noqa: F403,F401\u001b[39;00m\n",
      "\u001b[0;31mImportError\u001b[0m: /lib/x86_64-linux-gnu/libharfbuzz.so.0: undefined symbol: FT_Get_Transform",
      "\nDuring handling of the above exception, another exception occurred:\n",
      "\u001b[0;31mImportError\u001b[0m                               Traceback (most recent call last)",
      "Cell \u001b[0;32mIn[1], line 1\u001b[0m\n\u001b[0;32m----> 1\u001b[0m \u001b[38;5;28;01mfrom\u001b[39;00m \u001b[38;5;21;01mmanim\u001b[39;00m \u001b[38;5;28;01mimport\u001b[39;00m \u001b[38;5;241m*\u001b[39m\n\u001b[1;32m      2\u001b[0m config\u001b[38;5;241m.\u001b[39mmedia_width \u001b[38;5;241m=\u001b[39m \u001b[38;5;124m\"\u001b[39m\u001b[38;5;124m100\u001b[39m\u001b[38;5;124m%\u001b[39m\u001b[38;5;124m\"\u001b[39m\n\u001b[1;32m      3\u001b[0m config\u001b[38;5;241m.\u001b[39mverbosity \u001b[38;5;241m=\u001b[39m \u001b[38;5;124m\"\u001b[39m\u001b[38;5;124mWARNING\u001b[39m\u001b[38;5;124m\"\u001b[39m\n",
      "File \u001b[0;32m~/miniconda3/lib/python3.10/site-packages/manim/__init__.py:32\u001b[0m\n\u001b[1;32m     30\u001b[0m \u001b[38;5;28;01mfrom\u001b[39;00m \u001b[38;5;21;01m.\u001b[39;00m\u001b[38;5;21;01manimation\u001b[39;00m\u001b[38;5;21;01m.\u001b[39;00m\u001b[38;5;21;01mindication\u001b[39;00m \u001b[38;5;28;01mimport\u001b[39;00m \u001b[38;5;241m*\u001b[39m\n\u001b[1;32m     31\u001b[0m \u001b[38;5;28;01mfrom\u001b[39;00m \u001b[38;5;21;01m.\u001b[39;00m\u001b[38;5;21;01manimation\u001b[39;00m\u001b[38;5;21;01m.\u001b[39;00m\u001b[38;5;21;01mmovement\u001b[39;00m \u001b[38;5;28;01mimport\u001b[39;00m \u001b[38;5;241m*\u001b[39m\n\u001b[0;32m---> 32\u001b[0m \u001b[38;5;28;01mfrom\u001b[39;00m \u001b[38;5;21;01m.\u001b[39;00m\u001b[38;5;21;01manimation\u001b[39;00m\u001b[38;5;21;01m.\u001b[39;00m\u001b[38;5;21;01mnumbers\u001b[39;00m \u001b[38;5;28;01mimport\u001b[39;00m \u001b[38;5;241m*\u001b[39m\n\u001b[1;32m     33\u001b[0m \u001b[38;5;28;01mfrom\u001b[39;00m \u001b[38;5;21;01m.\u001b[39;00m\u001b[38;5;21;01manimation\u001b[39;00m\u001b[38;5;21;01m.\u001b[39;00m\u001b[38;5;21;01mrotation\u001b[39;00m \u001b[38;5;28;01mimport\u001b[39;00m \u001b[38;5;241m*\u001b[39m\n\u001b[1;32m     34\u001b[0m \u001b[38;5;28;01mfrom\u001b[39;00m \u001b[38;5;21;01m.\u001b[39;00m\u001b[38;5;21;01manimation\u001b[39;00m\u001b[38;5;21;01m.\u001b[39;00m\u001b[38;5;21;01mspecialized\u001b[39;00m \u001b[38;5;28;01mimport\u001b[39;00m \u001b[38;5;241m*\u001b[39m\n",
      "File \u001b[0;32m~/miniconda3/lib/python3.10/site-packages/manim/animation/numbers.py:10\u001b[0m\n\u001b[1;32m      5\u001b[0m __all__ \u001b[38;5;241m=\u001b[39m [\u001b[38;5;124m\"\u001b[39m\u001b[38;5;124mChangingDecimal\u001b[39m\u001b[38;5;124m\"\u001b[39m, \u001b[38;5;124m\"\u001b[39m\u001b[38;5;124mChangeDecimalToValue\u001b[39m\u001b[38;5;124m\"\u001b[39m]\n\u001b[1;32m      8\u001b[0m \u001b[38;5;28;01mimport\u001b[39;00m \u001b[38;5;21;01mtyping\u001b[39;00m\n\u001b[0;32m---> 10\u001b[0m \u001b[38;5;28;01mfrom\u001b[39;00m \u001b[38;5;21;01mmanim\u001b[39;00m\u001b[38;5;21;01m.\u001b[39;00m\u001b[38;5;21;01mmobject\u001b[39;00m\u001b[38;5;21;01m.\u001b[39;00m\u001b[38;5;21;01mtext\u001b[39;00m\u001b[38;5;21;01m.\u001b[39;00m\u001b[38;5;21;01mnumbers\u001b[39;00m \u001b[38;5;28;01mimport\u001b[39;00m DecimalNumber\n\u001b[1;32m     12\u001b[0m \u001b[38;5;28;01mfrom\u001b[39;00m \u001b[38;5;21;01m.\u001b[39;00m\u001b[38;5;21;01m.\u001b[39;00m\u001b[38;5;21;01manimation\u001b[39;00m\u001b[38;5;21;01m.\u001b[39;00m\u001b[38;5;21;01manimation\u001b[39;00m \u001b[38;5;28;01mimport\u001b[39;00m Animation\n\u001b[1;32m     13\u001b[0m \u001b[38;5;28;01mfrom\u001b[39;00m \u001b[38;5;21;01m.\u001b[39;00m\u001b[38;5;21;01m.\u001b[39;00m\u001b[38;5;21;01mutils\u001b[39;00m\u001b[38;5;21;01m.\u001b[39;00m\u001b[38;5;21;01mbezier\u001b[39;00m \u001b[38;5;28;01mimport\u001b[39;00m interpolate\n",
      "File \u001b[0;32m~/miniconda3/lib/python3.10/site-packages/manim/mobject/text/numbers.py:15\u001b[0m\n\u001b[1;32m     13\u001b[0m \u001b[38;5;28;01mfrom\u001b[39;00m \u001b[38;5;21;01mmanim\u001b[39;00m\u001b[38;5;21;01m.\u001b[39;00m\u001b[38;5;21;01mmobject\u001b[39;00m\u001b[38;5;21;01m.\u001b[39;00m\u001b[38;5;21;01mopengl\u001b[39;00m\u001b[38;5;21;01m.\u001b[39;00m\u001b[38;5;21;01mopengl_compatibility\u001b[39;00m \u001b[38;5;28;01mimport\u001b[39;00m ConvertToOpenGL\n\u001b[1;32m     14\u001b[0m \u001b[38;5;28;01mfrom\u001b[39;00m \u001b[38;5;21;01mmanim\u001b[39;00m\u001b[38;5;21;01m.\u001b[39;00m\u001b[38;5;21;01mmobject\u001b[39;00m\u001b[38;5;21;01m.\u001b[39;00m\u001b[38;5;21;01mtext\u001b[39;00m\u001b[38;5;21;01m.\u001b[39;00m\u001b[38;5;21;01mtex_mobject\u001b[39;00m \u001b[38;5;28;01mimport\u001b[39;00m MathTex, SingleStringMathTex, Tex\n\u001b[0;32m---> 15\u001b[0m \u001b[38;5;28;01mfrom\u001b[39;00m \u001b[38;5;21;01mmanim\u001b[39;00m\u001b[38;5;21;01m.\u001b[39;00m\u001b[38;5;21;01mmobject\u001b[39;00m\u001b[38;5;21;01m.\u001b[39;00m\u001b[38;5;21;01mtext\u001b[39;00m\u001b[38;5;21;01m.\u001b[39;00m\u001b[38;5;21;01mtext_mobject\u001b[39;00m \u001b[38;5;28;01mimport\u001b[39;00m Text\n\u001b[1;32m     16\u001b[0m \u001b[38;5;28;01mfrom\u001b[39;00m \u001b[38;5;21;01mmanim\u001b[39;00m\u001b[38;5;21;01m.\u001b[39;00m\u001b[38;5;21;01mmobject\u001b[39;00m\u001b[38;5;21;01m.\u001b[39;00m\u001b[38;5;21;01mtypes\u001b[39;00m\u001b[38;5;21;01m.\u001b[39;00m\u001b[38;5;21;01mvectorized_mobject\u001b[39;00m \u001b[38;5;28;01mimport\u001b[39;00m VMobject\n\u001b[1;32m     17\u001b[0m \u001b[38;5;28;01mfrom\u001b[39;00m \u001b[38;5;21;01mmanim\u001b[39;00m\u001b[38;5;21;01m.\u001b[39;00m\u001b[38;5;21;01mmobject\u001b[39;00m\u001b[38;5;21;01m.\u001b[39;00m\u001b[38;5;21;01mvalue_tracker\u001b[39;00m \u001b[38;5;28;01mimport\u001b[39;00m ValueTracker\n",
      "File \u001b[0;32m~/miniconda3/lib/python3.10/site-packages/manim/mobject/text/text_mobject.py:64\u001b[0m\n\u001b[1;32m     61\u001b[0m \u001b[38;5;28;01mfrom\u001b[39;00m \u001b[38;5;21;01mpathlib\u001b[39;00m \u001b[38;5;28;01mimport\u001b[39;00m Path\n\u001b[1;32m     62\u001b[0m \u001b[38;5;28;01mfrom\u001b[39;00m \u001b[38;5;21;01mtyping\u001b[39;00m \u001b[38;5;28;01mimport\u001b[39;00m Iterable, Sequence\n\u001b[0;32m---> 64\u001b[0m \u001b[38;5;28;01mimport\u001b[39;00m \u001b[38;5;21;01mmanimpango\u001b[39;00m\n\u001b[1;32m     65\u001b[0m \u001b[38;5;28;01mimport\u001b[39;00m \u001b[38;5;21;01mnumpy\u001b[39;00m \u001b[38;5;28;01mas\u001b[39;00m \u001b[38;5;21;01mnp\u001b[39;00m\n\u001b[1;32m     66\u001b[0m \u001b[38;5;28;01mfrom\u001b[39;00m \u001b[38;5;21;01mcolour\u001b[39;00m \u001b[38;5;28;01mimport\u001b[39;00m Color\n",
      "File \u001b[0;32m~/miniconda3/lib/python3.10/site-packages/manimpango/__init__.py:35\u001b[0m\n\u001b[1;32m     18\u001b[0m     py_ver \u001b[38;5;241m=\u001b[39m \u001b[38;5;124m\"\u001b[39m\u001b[38;5;124m.\u001b[39m\u001b[38;5;124m\"\u001b[39m\u001b[38;5;241m.\u001b[39mjoin(\u001b[38;5;28mmap\u001b[39m(\u001b[38;5;28mstr\u001b[39m, sys\u001b[38;5;241m.\u001b[39mversion_info[:\u001b[38;5;241m3\u001b[39m]))\n\u001b[1;32m     19\u001b[0m     msg \u001b[38;5;241m=\u001b[39m \u001b[38;5;124mf\u001b[39m\u001b[38;5;124m\"\"\"\u001b[39m\n\u001b[1;32m     20\u001b[0m \n\u001b[1;32m     21\u001b[0m \u001b[38;5;124mManimPango could not import and load the necessary shared libraries.\u001b[39m\n\u001b[0;32m   (...)\u001b[0m\n\u001b[1;32m     33\u001b[0m \u001b[38;5;124mOriginal error: \u001b[39m\u001b[38;5;132;01m{\u001b[39;00mie\u001b[38;5;132;01m}\u001b[39;00m\n\u001b[1;32m     34\u001b[0m \u001b[38;5;124m\"\"\"\u001b[39m\n\u001b[0;32m---> 35\u001b[0m     \u001b[38;5;28;01mraise\u001b[39;00m \u001b[38;5;167;01mImportError\u001b[39;00m(msg)\n",
      "\u001b[0;31mImportError\u001b[0m: \n\nManimPango could not import and load the necessary shared libraries.\nThis error may occur when ManimPango and its dependencies are improperly set up.\nPlease make sure the following versions are what you expect:\n\n    * ManimPango v0.4.3, Python v3.10.10\n\nIf you believe there is a greater problem,\nfeel free to contact us or create an issue on GitHub:\n\n    * Discord: https://www.manim.community/discord/\n    * GitHub: https://github.com/ManimCommunity/ManimPango/issues\n\nOriginal error: /lib/x86_64-linux-gnu/libharfbuzz.so.0: undefined symbol: FT_Get_Transform\n"
     ]
    }
   ],
   "source": [
    "from manim import *\n",
    "config.media_width = \"100%\"\n",
    "config.verbosity = \"WARNING\""
   ]
  },
  {
   "cell_type": "code",
   "execution_count": null,
   "id": "a3218815-6978-4cfd-84f2-93374af6a322",
   "metadata": {},
   "outputs": [],
   "source": [
    "%%manim -qm IntegralConvolution\n",
    "\n",
    "def signal_1(t):\n",
    "    if 1 >= t >= 0:\n",
    "        return 2\n",
    "    else:\n",
    "        return 0\n",
    "\n",
    "def signal_2(t):\n",
    "    if 2 >= t>= 0:\n",
    "        return t\n",
    "    else:\n",
    "        return 0\n",
    "\n",
    "class IntegralConvolution(Scene):\n",
    "    def construct(self):\n",
    "        \n",
    "        axes1 = Axes(\n",
    "            x_range=[-5, 5, 1],\n",
    "            y_range=[0, 2, 1],\n",
    "            x_length=10,\n",
    "            y_length=1,\n",
    "            axis_config={\n",
    "                \"color\": WHITE,\n",
    "                \"stroke_width\": 2,\n",
    "                \"include_tip\": False,\n",
    "            },\n",
    "            x_axis_config={\n",
    "                \"numbers_to_include\": np.arange(-5, 6)\n",
    "            },\n",
    "            y_axis_config={\n",
    "                \"numbers_to_include\": np.arange(0, 2, 1),\n",
    "            },\n",
    "        ).move_to(3.1*UP)\n",
    "        self.play(Create(axes1))\n",
    "        \n",
    "        \n",
    "        line_1 = axes1.plot(lambda x: signal_1(x), color=BLUE, \n",
    "                            x_range=[-5,5, 0.01], use_smoothing=False)\n",
    "        tex1 = MathTex('x(\\\\tau)').move_to((-3.7,3.7,0))\n",
    "        self.play(Create(line_1), Create(tex1))\n",
    "        \n",
    "        axes2 = Axes(\n",
    "            x_range=[-5, 5, 1],\n",
    "            y_range=[0, 2, 1],\n",
    "            x_length=10,\n",
    "            y_length=1,\n",
    "            axis_config={\n",
    "                \"color\": WHITE,\n",
    "                \"stroke_width\": 2,\n",
    "                \"include_tip\": False,\n",
    "            },\n",
    "            x_axis_config={\n",
    "                \"numbers_to_include\": np.arange(-5, 6)\n",
    "            },\n",
    "            y_axis_config={\n",
    "                \"numbers_to_include\": np.arange(0, 2, 1),\n",
    "            },\n",
    "        ).move_to(1.4*UP)\n",
    "        self.play(Create(axes2))\n",
    "        line_2 = axes2.plot(lambda x: signal_2(x), color=RED, \n",
    "                            x_range=[-5, 5, 0.01], use_smoothing=False)\n",
    "        tex2 = MathTex('h(\\\\tau)').move_to((-3.7,1.7,0))\n",
    "        self.play(Create(line_2), Create(tex2))\n",
    "        line_3 = axes2.plot(lambda x: signal_2(-x), color=RED, \n",
    "                            x_range=[-5, 5, 0.01], use_smoothing=False)\n",
    "        tex3 = MathTex('h(\\\\tau)').move_to((-3.7,1.7,0))\n",
    "        self.play(ReplacementTransform(line_2,line_3), \n",
    "                  ReplacementTransform(tex2, tex3))        \n",
    "        axes3 = Axes(     \n",
    "            x_range=[-5, 5, 1],\n",
    "            y_range=[0, 2, 2],\n",
    "            x_length=10,\n",
    "            y_length=1,\n",
    "            axis_config={\n",
    "                \"color\": WHITE,\n",
    "                \"stroke_width\": 2,\n",
    "                \"include_tip\": False,\n",
    "            },\n",
    "            x_axis_config={\n",
    "                \"numbers_to_include\": np.arange(-5, 6)\n",
    "            },\n",
    "            y_axis_config={\n",
    "                \"numbers_to_include\": np.arange(0, 2, 1),\n",
    "            },\n",
    "        ).move_to(0.5*DOWN)\n",
    "        self.play(Create(axes3))\n",
    "        \n",
    "        axes4 = Axes(\n",
    "            x_range=[-5, 5, 1],\n",
    "            y_range=[0, 2, 1],\n",
    "            x_length=10,\n",
    "            y_length=1,\n",
    "            axis_config={\n",
    "                \"color\": WHITE,\n",
    "                \"stroke_width\": 2,\n",
    "                \"include_tip\": False,\n",
    "            },\n",
    "            x_axis_config={\n",
    "                \"numbers_to_include\": np.arange(-5, 6)\n",
    "            },\n",
    "            y_axis_config={\n",
    "                \"numbers_to_include\": np.arange(0, 2, 1),\n",
    "            },\n",
    "        ).move_to(2.4*DOWN)\n",
    "        self.play(Create(axes4))\n",
    "        \n",
    "        dx = 0.01\n",
    "        x = np.arange(-5,5, dx)\n",
    "        sig1 = np.zeros_like(x)\n",
    "        sig2 = np.zeros_like(x)\n",
    "        line_4 = axes3.plot_line_graph(x, sig1*sig2, \n",
    "                                       add_vertex_dots=False, \n",
    "                                       line_color=GREEN)\n",
    "        \n",
    "        tex4 = MathTex('x(\\\\tau)h(t-\\\\tau)').move_to((-3.7,-0.3,0))\n",
    "        tex5 = MathTex('\\int_{-\\infty}^\\infty x(\\\\tau)h(t-\\\\tau)\\,d\\\\tau').move_to((-3.7,-2.3,0))\n",
    "        tex6 = MathTex('h(t-\\\\tau)').move_to((-3.7,1.7,0))\n",
    "        \n",
    "      \n",
    "        area = Polygon([-5,0,0], color=GREEN)\n",
    "        self.play(Create(line_4), Create(tex4), \n",
    "                  Create(tex5), ReplacementTransform(tex3, tex6),\n",
    "                  Create(area))\n",
    "        sigconv = []\n",
    "        \n",
    "        \n",
    "        \n",
    "        for t in np.arange(-5, 5, 0.1):\n",
    "            \n",
    "            \n",
    "           \n",
    "            for i in range(len(x)):\n",
    "                sig1[i] = signal_1(x[i])\n",
    "                sig2[i] = signal_2(t-x[i])\n",
    "            conv = np.sum(dx*(sig1*sig2))\n",
    "            sigconv.append(conv)\n",
    "            line_5 = axes3.plot_line_graph(x, sig1*sig2, \n",
    "                                           add_vertex_dots=False, \n",
    "                                           line_color=GREEN)\n",
    "            listpoints_area = [[-5,0,0]]\n",
    "            for j in range(len(sig1)):\n",
    "                listpoints_area.append([j*dx-5, sig1[j]*sig2[j], 0])\n",
    "            listpoints_area.append([5, 0,0])\n",
    "            \n",
    "            area1 = Polygon(*listpoints_area, color=GREEN)\n",
    "            \n",
    "            line_6 = axes4.plot_line_graph(x[:10*len(sigconv):10], \n",
    "                                           np.array(sigconv), \n",
    "                                           add_vertex_dots=False, \n",
    "                                           line_color=GOLD)\n",
    "            self.play(line_3.animate.move_to(axes2.c2p(*(t, 1,0))),\n",
    "                      Transform(line_4, line_5),\n",
    "                      Create(line_6), Transform(area, area1),\n",
    "                      run_time=0.3)\n",
    "            \n",
    "          \n",
    "            \n",
    "        self.wait(5)"
   ]
  },
  {
   "cell_type": "markdown",
   "id": "831aa472-4690-4008-b3f2-3f94a1cf67bb",
   "metadata": {},
   "source": [
    "---\n",
    "\n",
    "#### Resumo dos passos\n",
    "\n",
    "1 - substituir $n$ por $k$ e fazer o gráfico de $x[k]$ e $h[-k]$.\n",
    "\n",
    "2 - multiplicar os dois sinais $x[k]$ e $h[-k]$ e somar os valores de cada instante para encontrar o valor de $y[0]$.\n",
    "\n",
    "3 - Deslocar $h[-k]$ para a direita em uma unidade tempo para gerar $h[1-k]$. Multiplique os dois sinais e some os valores em cada amostra para encontrar o valor de $y[1]$. \n",
    "\n",
    "4 - Continue deslocando $h[-k]$ para a direita, multiplicando os $x[k]$ com a resposta ao impulo deslocada e somando os valores de cada instante para encontrar os valores de $y[n]$. Continue fazendo isso até não ter mais sobreposição entre os sinais."
   ]
  },
  {
   "cell_type": "markdown",
   "id": "df444225-a9c7-4e2c-83a6-7cd97ced1641",
   "metadata": {},
   "source": [
    "## Caracterização de um SLIT pela resposta ao impulso\n",
    "\n",
    "A principal consequência da somatória de convolução é que conseguimos caracterizar completamente um sistema linear e invariante no tempo pela sua resposta ao impulso. Perceba que não é necessário conhecer a equação de diferenças nem o diagrama de blocos do sistema se tivermos a resposta ao impulso. Portanto, **a resposta ao impulso caracteriza completamente o comportamento de um sistema linear e invariante no tempo**.\n",
    "\n",
    "Por isso, é bastante comum no diagrama de blocos representar o sistema pela sua respsota ao impulso.\n",
    "\n",
    "\n",
    "<img src=Imagens/impulsoconv.png width=\"500\">"
   ]
  },
  {
   "cell_type": "markdown",
   "id": "db531caf-f544-4716-80b2-91f5f8b4bb63",
   "metadata": {
    "jp-MarkdownHeadingCollapsed": true,
    "tags": []
   },
   "source": [
    "## Propriedades da convolução\n",
    "\n",
    "### Comutativa\n",
    "\n",
    "Uma das propriedades mais importantes, principalmente do ponto de vista prático, já que pode facilitar a computação da conolução.\n",
    "\n",
    "> $x[n]*h[n] = h[n]*x[n]$\n",
    "\n",
    "**Prova**: \n",
    "\n",
    "Aqui é feita uma mudança de variável ($m = n-k$), e a prova sai facilmente. \n",
    "\n",
    "$$ x[n]*h[n] =  \\displaystyle\\sum_{k=-\\infty}^\\infty x[k]h[n-k] =  \\displaystyle\\sum_{m=-\\infty}^\\infty x[n-m]h[m] = h[n]*x[n]$$\n",
    "\n",
    "\n",
    "### Distributiva\n",
    "\n",
    "> $x[n]*h_1[n]+x[n]*h_2[n] = x[n]*(h_1[n]+ h_2[n])$\n",
    "\n",
    "A prova dessa propriedade fica para o Exercício 1.  \n",
    "\n",
    "Com esta propriedade, podemos interpretar dois sistemas ligados em paralelo, recebendo a mesma entrada, como sendo apenas um sistema que tem a resposta ao impulso igual a soma das respostas ao impulso dos dois sistemas ligados em paraleo.\n",
    "\n",
    "<img src=Imagens/distributivaconv.png width=\"600\">\n",
    "\n",
    "\n",
    "Uma outra consequência dessa propriedade é que podemos dividir a resposta ao impulso de um sistema em várias partes se isso facilitar o cálculo da somatória de convolução.\n",
    "\n",
    "### Associativa\n",
    "\n",
    "> $x[n]*(h_1[n]*h_2[n]) = (x[n]*h_1[n])*h_2[n]$\n",
    "\n",
    "A prova dessa propriedade fica para o Exercício 2. \n",
    "\n",
    "A principal consequência dessa propriedade é que se tivermos dois sistemas em série, podemos considerá-los como um sistema com a resposta ao impulso sendo a convolução das respostas ao impulso dos dois sistemas.\n",
    "\n",
    "<img src=Imagens/associativaconv.png width=\"500\">\n"
   ]
  },
  {
   "cell_type": "markdown",
   "id": "cfbb8de3-484c-4fe5-a0c6-e25fda84a999",
   "metadata": {},
   "source": [
    "## Exercícios"
   ]
  },
  {
   "cell_type": "markdown",
   "id": "375a538f-2897-4e22-951c-d98b8531f726",
   "metadata": {},
   "source": [
    "**1)** Prove a propriedade distributiva da somatória de convolução."
   ]
  },
  {
   "cell_type": "markdown",
   "id": "4ce8f6a4-a4b2-4c9d-b034-479c1bf82a66",
   "metadata": {},
   "source": [
    "**2)** Prove a propriedade associativa da somatória de convolução"
   ]
  },
  {
   "cell_type": "markdown",
   "id": "e46c7139-1343-4a03-b792-3c961b01c5a9",
   "metadata": {},
   "source": [
    "**3)** Considere os dois sinais a seguir:\n",
    "\n",
    "$x[n] = 2\\delta[n] - \\delta[n-1] + 3\\delta[n-2]$\n",
    "\n",
    "e \n",
    "\n",
    "$h[n] = 3\\delta[n+1]+3\\delta[n-1]$\n",
    "\n",
    "Calcule e faça o gráfico do resultado de:\n",
    "\n",
    "a) $y_1[n] = x[n]*h[n]$\n",
    "\n",
    "b) $y_2[n] = x[n+1]*h[n]$\n",
    "\n",
    "c) $y_3[n] = x[n]*h[n+1]$"
   ]
  },
  {
   "cell_type": "markdown",
   "id": "9f1f1ebc-2a4c-4e47-814b-6c21b089a398",
   "metadata": {},
   "source": [
    "**4)** Considere um sistema que tem a seguinte resposta ao impulso:\n",
    "\n",
    "$h[n] = u[n+1]$\n",
    "\n",
    "Encontre a saída deste sistema s a entrada for:\n",
    "\n",
    "$x[n] = 0.5^{n-2}u[n-2]$"
   ]
  },
  {
   "cell_type": "markdown",
   "id": "52df0ca4-df52-4295-b556-a9548dbf09b1",
   "metadata": {},
   "source": [
    "**5)** Considere um sistema linear e invariante no tempo de tempo discreto que tem a seguinte resposta ao impulso:\n",
    "\n",
    "$h[n] = \\left(\\frac{1}{3}\\right)^nu[n]$\n",
    "\n",
    "a) Encontre uma constante real $C$, tal que $h[n]-Ah[n]=\\delta[n]$\n",
    "\n",
    "b) Usando o resultado anterior, determine a resposta ao impulso $g[n]$ do sistema que é o inverso de S1."
   ]
  },
  {
   "cell_type": "markdown",
   "id": "dcaf6126-36fd-4f2d-8ff2-3d9e56a4287f",
   "metadata": {},
   "source": [
    "**6)** Indique se os sistemas que geraram as seguintes respostas ao impulso são ou não são estáveis:\n",
    "\n",
    "a) $h_1[n] = 3^nu[n]$\n",
    "\n",
    "b) $h_2[n] = u[n]- u[n-10]$\n",
    "\n",
    "c) $h_3[n] = 5^nu[-n-2]$\n",
    "\n",
    "d) $h_4[n] = \\mathrm{sen}\\left(\\frac{\\pi n}{3}\\right)u[n]$\n",
    "\n",
    "e) $h_5[n] = 0.5^{|n|}\\cos\\left(\\frac{\\pi n}{4}+\\frac{\\pi}{4} \\right)$\n",
    "\n",
    "f) $h_6[n] = 3u[n+2] - u[n] - u[n-2]$\n",
    "\n",
    "g) $h_7[n] = ncos\\left(\\frac{\\pi n}{4} \\right)u[n]$\n",
    "\n",
    "h) $h_8[n] = 3^nu[-n+10]$"
   ]
  },
  {
   "cell_type": "markdown",
   "id": "604f175e-c0be-4ce3-b286-6c8e0cbf366a",
   "metadata": {},
   "source": [
    "**7)** Calcule a convolução entre os seguintes sinais:\n",
    "\n",
    "a) $x[n]=\\alpha^nu[n]$ e $y[n]=\\beta^nu[n]$, com $\\alpha\\neq\\beta$ \n",
    "\n",
    "b) $x[n] = h[n] = \\alpha^nu[n]$\n",
    "\n",
    "c) $x[n] = (-0.2)^nu[n-3]$ e $h[n] = 2^nu[1-n]$\n",
    "\n",
    "d) "
   ]
  },
  {
   "cell_type": "code",
   "execution_count": null,
   "id": "9fa6c757-5209-423b-bd33-0723d1b738a8",
   "metadata": {
    "tags": []
   },
   "outputs": [],
   "source": [
    "fig, axs = plt.subplots(1,2, figsize=(8, 2), sharey=True)\n",
    "k = np.arange(-2,20)\n",
    "h = np.zeros(len(k))\n",
    "x = np.zeros(len(k))\n",
    "\n",
    "x[k==0] = 1\n",
    "x[k==1] = 1\n",
    "x[k==2] = 1\n",
    "x[k==3] = 1\n",
    "\n",
    "h[k==2] = 1\n",
    "h[k==3] = 1\n",
    "h[k==4] = 1\n",
    "h[k==5] = 1\n",
    "h[k==9] = 1\n",
    "h[k==10] = 1\n",
    "h[k==11] = 1\n",
    "h[k==12] = 1\n",
    "\n",
    "axs[0].stem(k , x)\n",
    "axs[0].set_ylabel('$x[n]$')\n",
    "axs[0].set_xlabel('$n$')\n",
    "axs[1].stem(k , h)\n",
    "axs[1].set_ylabel('$h[n]$')\n",
    "axs[1].set_xlabel('$n$');"
   ]
  },
  {
   "cell_type": "markdown",
   "id": "71f7d111-b25c-492e-ace3-da5959f5fed0",
   "metadata": {
    "tags": []
   },
   "source": [
    "**8)** Um sistema é composto de três subsistemas ligados em série. \n",
    "\n",
    "<img src=Imagens/ex2respimp.png width=\"600\">\n",
    "\n",
    "Os útimos dois subsistemas têm a mesma equação de diferenças e, consequentemente, a mesma resposta ao impulso, que é:\n",
    "\n",
    "$$h_2[n] = u[n] - u[n-2] $$\n",
    "\n",
    "A resposta ao impulso do sistema todo tem o seguinte gráfico:"
   ]
  },
  {
   "cell_type": "code",
   "execution_count": null,
   "id": "483a1341-7ad3-49b9-914d-f34ec04eacc4",
   "metadata": {
    "tags": []
   },
   "outputs": [],
   "source": [
    "n = np.arange(-4, 12)\n",
    "h = np.zeros_like(n)\n",
    "h[n==0] = 1\n",
    "h[n==1] = 8\n",
    "h[n==2] = 10\n",
    "h[n==3] = 9\n",
    "h[n==4] = 5\n",
    "h[n==5] = 2\n",
    "h[n==6] = 1\n",
    "plt.stem(n,h)\n",
    "plt.title('$h[n]$')\n",
    "plt.xlabel('n')\n",
    "plt.grid()"
   ]
  },
  {
   "cell_type": "markdown",
   "id": "0f2dd00e-7bdf-4dbe-b3fd-896f64a8e3a1",
   "metadata": {},
   "source": [
    "Qual a resposta ao impulso $h_1[n]$ do primeiro subsistema?"
   ]
  },
  {
   "cell_type": "markdown",
   "id": "815da382-155c-4544-8ca4-e225c522a8bb",
   "metadata": {},
   "source": [
    "**9)** Se tivermos dois sistemas lineares e invariantes no tempo ligados em série a saída do sistema para uma mesma entrada será a mesma, não importa a ordem em que esses subsistemas são ligados (propriedade comutativa). \n",
    "\n",
    "\n",
    "<img src=Imagens/ex3respimp.png width=\"400\">\n",
    "\n",
    "Considere que o sistema S1 seja linear e invariante no tempo e tenha uma resposta ao impulso igual a:\n",
    "\n",
    "$$h_1[n] = \\left(\\frac{1}{3}\\right)^nu[n] $$.\n",
    "\n",
    "O sistema S2, por outro lado, é linear mas variante no tempo. A equação de diferenças do sistema S2 é:\n",
    "\n",
    "$$y_2[n] = nx_2[n]$$\n",
    "\n",
    "a) Mostre que nesse caso de um dos subsistemas ser variante no tempo, mudar a ordem dos subsistemas muda a saída do sistema. Mostre isso calculando a resposta ao impulso do sistema considerando as duas ordens possíveis. \n",
    "\n",
    "b) Considere agora que o sistemna S2 tem a seguinte equação de diferenças:\n",
    "\n",
    "$$y_2[n] = x_2[n] + 3$$\n",
    "\n",
    "Refaça o item a), considerando essa nova equação para S2."
   ]
  },
  {
   "cell_type": "markdown",
   "id": "974e97a2-d4c5-45b8-9afd-0093def37fb2",
   "metadata": {},
   "source": [
    "## Referências\n",
    "\n",
    "- Ulaby, FT e Yagle, AE, Signals & Systems: Theory and Applications, 2018, [ss2.eecs.umich.edu](ss2.eecs.umich.edu)\n",
    "- Oppenheim, M.  e Willsky, S., Sistemas e Sinais, 2010\n",
    "\n",
    "- Lathi, BP, Sinais e Sistemas Lineares, 2007"
   ]
  },
  {
   "cell_type": "code",
   "execution_count": null,
   "id": "667a7233-bbf4-494e-ae49-cae68d26a1eb",
   "metadata": {},
   "outputs": [],
   "source": []
  }
 ],
 "metadata": {
  "kernelspec": {
   "display_name": "Python 3 (ipykernel)",
   "language": "python",
   "name": "python3"
  },
  "language_info": {
   "codemirror_mode": {
    "name": "ipython",
    "version": 3
   },
   "file_extension": ".py",
   "mimetype": "text/x-python",
   "name": "python",
   "nbconvert_exporter": "python",
   "pygments_lexer": "ipython3",
   "version": "3.10.10"
  }
 },
 "nbformat": 4,
 "nbformat_minor": 5
}
