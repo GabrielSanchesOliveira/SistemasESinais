{
 "cells": [
  {
   "attachments": {},
   "cell_type": "markdown",
   "id": "7e426493-0bab-49c1-8e91-51eb792a7a3b",
   "metadata": {},
   "source": [
    "# Resposta em frequência\n",
    "\n",
    "Renato Naville Watanabe"
   ]
  },
  {
   "attachments": {},
   "cell_type": "markdown",
   "id": "1836e8b2",
   "metadata": {},
   "source": [
    "Aqui, vamos analisar qual a resposta de um sistema linear e invariante no tempo quando a entrada é uma exponencial complexa."
   ]
  },
  {
   "attachments": {},
   "cell_type": "markdown",
   "id": "179db527",
   "metadata": {},
   "source": [
    "## Caso contínuo\n",
    "\n",
    "No caso de um sistema contínuo, vamos considerar uma entrada do tipo:\n",
    "\n",
    "$$x(t) = e^{j\\omega t}$$\n",
    "\n",
    "Considerando que um sistema tem a resposta ao impulso $h(t)$, a saída desse sistema para a entrada $x(t)$ é:\n",
    "\n",
    "$$y(t) = \\int_{-\\infty}^\\infty h(\\tau)e^{j\\omega(t-\\tau)\\,d\\tau} = e^{j\\omega t}\\underbrace{\\int_{-\\infty}^\\infty h(\\tau)e^{-j\\omega\\tau\\,d\\tau}}_{H(j\\omega)} = H(j\\omega)e^{j\\omega t}$$\n",
    "\n",
    "A função $H(j\\omega)$ é conhecida como **Função Resposta em Frequência**.  A expressão anterior mostra que se colocarmos uma exponencial complexa de qualquer frequência $\\omega$, a saída será uma exponencial complexa com a mesma frequência $\\omega$, multiplicada por $H(j\\omega)$.\n",
    "\n",
    "\n"
   ]
  },
  {
   "cell_type": "markdown",
   "id": "928fcf8e",
   "metadata": {},
   "source": []
  },
  {
   "attachments": {},
   "cell_type": "markdown",
   "id": "a3bfd196",
   "metadata": {},
   "source": [
    "## Referências\n",
    "\n",
    "- Ulaby, FT e Yagle, AE, Signals & Systems: Theory and Applications, 2018, [ss2.eecs.umich.edu](ss2.eecs.umich.edu)\n",
    "- Oppenheim, M.  e Willsky, S., Sistemas e Sinais, 2010\n",
    "\n",
    "- Lathi, BP, Sinais e Sistemas Lineares, 2007"
   ]
  }
 ],
 "metadata": {
  "kernelspec": {
   "display_name": "Python 3 (ipykernel)",
   "language": "python",
   "name": "python3"
  },
  "language_info": {
   "codemirror_mode": {
    "name": "ipython",
    "version": 3
   },
   "file_extension": ".py",
   "mimetype": "text/x-python",
   "name": "python",
   "nbconvert_exporter": "python",
   "pygments_lexer": "ipython3",
   "version": "3.10.10"
  }
 },
 "nbformat": 4,
 "nbformat_minor": 5
}
