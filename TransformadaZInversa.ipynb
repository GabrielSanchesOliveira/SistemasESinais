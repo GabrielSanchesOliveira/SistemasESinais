{
 "cells": [
  {
   "attachments": {},
   "cell_type": "markdown",
   "metadata": {},
   "source": [
    "# Transformada Z inversa\n",
    "\n",
    "Renato Naville Watanabe\n"
   ]
  },
  {
   "attachments": {},
   "cell_type": "markdown",
   "metadata": {},
   "source": [
    "Aqui vamos desenvolver um método para obter o sinal $x[n]$ a partir da sua transformada Z. Esse procedimento é conhecido como **Transformada Z Inversa**, denotada pelo operador $\\mathcal{Z}^{-1}$.\n",
    "\n",
    "$\\mathcal{Z}^{-1}(X(z)) = x[n]$\n",
    "\n",
    "A antitransformada Z é definida como:\n",
    "\n",
    "$$x[n] = \\frac{1}{2\\pi j}\\oint X(z)z^{n}\\,dz$$\n",
    "\n",
    "Essa é uma integral no plano complexo. Felizmente, não precisaremos calcular essa integral. Nós usaremos os pares de sinais e transformadas já tabelados. Essa tabela é mostrado abaixo. Para sinais menos comuns, pode ser ser necessário calcular essa integral. Se você estiver interessado nisso, pode procurar o livro de Brown e Churchill, listado nas referências, ou a disciplina *FUNÇÕES DE VARIÁVEIS COMPLEXAS* da UFABC.\n",
    "\n"
   ]
  },
  {
   "attachments": {},
   "cell_type": "markdown",
   "metadata": {},
   "source": [
    "\n",
    "\n",
    "Abaixo segue uma tabela com alguns sinais encontrados frequentemente na prática:\n",
    "\n",
    "|$\\bf{x[n]}$                          | $\\bf{X(z)}$                                                            |\n",
    "|-------------------------------------|------------------------------------------------------------------------|\n",
    "|$\\delta[n]$                          | 1                                                                      |\n",
    "|$\\delta[n-k]$                        | $z^{-n}$                                                               |\n",
    "|$u[n]$                               | $\\frac{z}{z-1}$                                                        |\n",
    "|$u[n-k]$                             | $\\frac{z^{-k}z}{z-1}$                                              |    \n",
    "|$nu[n]$                              | $\\frac{z}{(z-1)^2}$                                                    |\n",
    "|$n^2u[n]$                            | $\\frac{z(z-1)}{(z-1)^3}$                                               |\n",
    "|$n^3u[n]$                            | $\\frac{z(z^2+4z+1)}{(z-1)^4}$                                          |\n",
    "|$\\alpha^nu[n]$                       | $\\frac{z}{z-\\alpha}$                                                   |\n",
    "|$n\\alpha^nu[n]$                      | $\\frac{\\alpha z}{(z-\\alpha)^2}$                                        |\n",
    "|$\\alpha^n\\cos(\\beta n)u[n]$, $\\alpha>0$ |$\\frac{z(z-\\alpha\\cos(\\beta))}{z^2-2\\alpha\\cos(\\beta)z +\\alpha^2}$|\n",
    "|$r\\alpha^n\\cos(\\beta n+\\theta)u[n]$, $\\alpha>0$|$\\frac{rz(z\\cos(\\theta-\\theta)-\\alpha\\cos(\\beta))}{z^2-2\\alpha\\cos(\\beta)z +\\alpha^2}$|"
   ]
  },
  {
   "attachments": {},
   "cell_type": "markdown",
   "metadata": {},
   "source": [
    "Anteriormente, já vimos que para $x[n] = \\alpha^{n-1}u[n-1]$, a transformada Z é::\n",
    "\n",
    "$X(z) = \\frac{1}{z-a}$\n",
    "\n",
    "Como estamos usando a transformada Z unilateral, a relação entre o sinal $x[n]$ e a sua transformada Z é única. Isso significa que se tivermos a transformada Z $X(z) = \\frac{1}{z-a}$, conseguimos obter o sinal $x[n]$ que gerou auela transformada Z:\n",
    "\n",
    "$x[n] = \\alpha^{n-1}u[n-1]$\n",
    "\n"
   ]
  },
  {
   "attachments": {},
   "cell_type": "markdown",
   "metadata": {},
   "source": [
    "---\n",
    "\n",
    "## Exemplo 1\n",
    "\n",
    "Considerando $X(z) = \\frac{1}{z+0,3}$\n",
    "\n",
    "A sua antitransformada Z é:\n",
    "\n",
    "$x[n] = 0,3^{n-1}u[n-1]$\n",
    "\n",
    "---"
   ]
  },
  {
   "attachments": {},
   "cell_type": "markdown",
   "metadata": {},
   "source": [
    "---\n",
    "\n",
    "## Exemplo 2\n",
    "\n",
    "Considerando $X(z) = \\frac{z}{z-0,5}$\n",
    "\n",
    "A sua antitransformada Z é:\n",
    "\n",
    "$x[n] = (-0,5)^nu[n]$\n",
    "\n",
    "\n",
    "---"
   ]
  },
  {
   "attachments": {},
   "cell_type": "markdown",
   "metadata": {},
   "source": [
    "Porém ao tentar fazer a antitransformada de transformadas Z como:\n",
    "\n",
    "$X_1(z) = \\frac{z-3}{z^2 + 3z-3}$\n",
    "\n",
    "$X_2(z) = \\frac{z^2+0.2}{z^3 + 0.5z-1}$\n",
    "\n",
    "$X_3(z) = \\frac{z^2+0.2z+1}{z^4 +0.4z^3 - 0.3z^2-z}$\n",
    "\n",
    "Nestas transformadas, "
   ]
  },
  {
   "attachments": {},
   "cell_type": "markdown",
   "metadata": {},
   "source": [
    "## Referências\n",
    "\n",
    "- Ulaby, FT e Yagle, AE, Signals & Systems: Theory and Applications, 2018, [ss2.eecs.umich.edu](ss2.eecs.umich.edu)\n",
    "- Lathi, BP, Sinais e Sistemas Lineares, 2007\n",
    "- Oppenheim, M.  e Willsky, S., Sistemas e Sinais, 2010\n",
    "- Stewart, James. Cálculo - Volume 2, 2017\n",
    "- Brown, James, e Ruel Churchill. Variáveis complexas e aplicações. (9ª edição), 2015."
   ]
  },
  {
   "attachments": {},
   "cell_type": "markdown",
   "metadata": {},
   "source": []
  }
 ],
 "metadata": {
  "language_info": {
   "name": "python"
  },
  "orig_nbformat": 4
 },
 "nbformat": 4,
 "nbformat_minor": 2
}
