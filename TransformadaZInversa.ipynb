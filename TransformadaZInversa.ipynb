{
 "cells": [
  {
   "attachments": {},
   "cell_type": "markdown",
   "metadata": {},
   "source": [
    "# Transformada Z inversa\n",
    "\n",
    "Renato Naville Watanabe\n"
   ]
  },
  {
   "attachments": {},
   "cell_type": "markdown",
   "metadata": {},
   "source": [
    "Aqui vamos desenvolver um método para obter o sinal $x[n]$ a partir da sua transformada Z. Esse procedimento é conhecido como **Transformada Z Inversa**, denotada pelo operador $\\mathcal{Z}^{-1}$.\n",
    "\n",
    "$\\mathcal{Z}^{-1}(X(z)) = x[n]$\n",
    "\n",
    "A antitransformada Z é definida como:\n",
    "\n",
    "$$x[n] = \\frac{1}{2\\pi j}\\oint X(z)z^{n}\\,dz$$"
   ]
  },
  {
   "attachments": {},
   "cell_type": "markdown",
   "metadata": {},
   "source": [
    "Anteriormente, já vimos que para $x[n] = \\alpha^{n-1}u[n-1]$, a transformada Z é::\n",
    "\n",
    "$X(z) = \\frac{1}{z-a}$\n",
    "\n",
    "Como estamos usando a transformada Z unilateral, a relação entre o sinal $x[n]$ e a sua transformada Z é única. Isso significa que se tivermos a transformada Z $X(z) = \\frac{1}{z-a}$, conseguimos obter o sinal $x[n]$ que gerou auela transformada Z:\n",
    "\n",
    "$x[n] = \\alpha^{n-1}u[n-1]$\n",
    "\n"
   ]
  },
  {
   "attachments": {},
   "cell_type": "markdown",
   "metadata": {},
   "source": [
    "---\n",
    "\n",
    "## Exemplo 1\n",
    "\n",
    "Considerando $X(z) = \\frac{1}{z+0,3}$\n",
    "\n",
    "A sua antitransformada Z é:\n",
    "\n",
    "$x[n] = 0,3^{n-1}u[n-1]$\n",
    "\n",
    "---"
   ]
  },
  {
   "attachments": {},
   "cell_type": "markdown",
   "metadata": {},
   "source": [
    "---\n",
    "\n",
    "## Exemplo 2\n",
    "\n",
    "Considerando $X(z) = \\frac{z}{z-0,5}$\n",
    "\n",
    "A sua antitransformada Z é:\n",
    "\n",
    "$x[n] = (-0,5)^nu[n]$\n",
    "\n",
    "\n",
    "---"
   ]
  },
  {
   "attachments": {},
   "cell_type": "markdown",
   "metadata": {},
   "source": [
    "Porém ao tentar fazer a antitransformada de transformadas Z como:\n",
    "\n",
    "$X_1(z) = \\frac{z-3}{z^2 + 3z-3}$\n",
    "\n",
    "$X_2(z) = \\frac{z^2+0.2}{z^3 + 0.5z-1}$\n",
    "\n",
    "$X_3(z) = \\frac{z^2+0.2z+1}{z^4 +0.4z^3 - 0.3z^2-z}$\n",
    "\n",
    "Nestas transformadas, "
   ]
  },
  {
   "attachments": {},
   "cell_type": "markdown",
   "metadata": {},
   "source": []
  }
 ],
 "metadata": {
  "language_info": {
   "name": "python"
  },
  "orig_nbformat": 4
 },
 "nbformat": 4,
 "nbformat_minor": 2
}
