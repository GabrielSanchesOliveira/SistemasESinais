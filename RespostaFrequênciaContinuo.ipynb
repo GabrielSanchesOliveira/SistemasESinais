{
 "cells": [
  {
   "attachments": {},
   "cell_type": "markdown",
   "id": "7e426493-0bab-49c1-8e91-51eb792a7a3b",
   "metadata": {},
   "source": [
    "# Resposta em frequência\n",
    "\n",
    "Renato Naville Watanabe"
   ]
  },
  {
   "attachments": {},
   "cell_type": "markdown",
   "id": "1836e8b2",
   "metadata": {},
   "source": [
    "Aqui, vamos analisar qual a resposta de um sistema linear e invariante no tempo quando a entrada é uma exponencial complexa."
   ]
  },
  {
   "attachments": {},
   "cell_type": "markdown",
   "id": "179db527",
   "metadata": {},
   "source": [
    "No caso de um sistema contínuo, vamos considerar uma entrada do tipo:\n",
    "\n",
    "$$x(t) = e^{j\\omega t}$$\n",
    "\n",
    "Considerando que um sistema tem a resposta ao impulso $h(t)$, a saída desse sistema (estado nulo) para a entrada $x(t)$ é:\n",
    "\n",
    "$$y(t) = \\int_{-\\infty}^\\infty h(\\tau)e^{j\\omega(t-\\tau)\\,d\\tau} = e^{j\\omega t}\\underbrace{\\int_{-\\infty}^\\infty h(\\tau)e^{-j\\omega\\tau\\,d\\tau}}_{H(j\\omega)} = H(j\\omega)e^{j\\omega t}$$\n",
    "\n",
    "A função $H(j\\omega)$ é conhecida como **Função Resposta em Frequência**.  A expressão anterior mostra que se colocarmos uma exponencial complexa de qualquer frequência $\\omega$, a saída será uma exponencial complexa com a mesma frequência $\\omega$, multiplicada por $H(j\\omega)$.\n",
    "\n",
    "\n",
    "Note que, como a resposta em frequência é calculada a partir da resposta ao impulso, a resposta em frequência também caracteriza completamente o comportamento de um sistema linear e invariante no tempo. Isso significa que se conhecermos a função resposta em frequência de um sistema linear e invariante no tempo, conhecemos completamente o seu comportamento.  Por isso, uma outra maneira de representar um sistema em um diagrama de blocos é com a sua resposta em frequência.\n",
    "\n",
    "<img src=Imagens/respfreqcont.png width=\"500\">\n",
    "\n",
    "Até agora, já conhecemos várias formas para caracterisar um sistema linear e invariante no tempo:\n",
    "\n",
    "- Equação diferencial\n",
    "- Diagrama de blocos\n",
    "- Resposta ao impulso\n",
    "- Função de resposta em frequência"
   ]
  },
  {
   "attachments": {},
   "cell_type": "markdown",
   "id": "e7e687ef",
   "metadata": {},
   "source": [
    "---\n",
    "## Exemplo 1\n",
    "\n",
    "Vamos encontrar a resposta em frequência de um sistema que tenha a resposta ao impulso:\n",
    "\n",
    "$$h(t) = e^{-2t}u(t)$$\n",
    "\n",
    "A função resposta em frequência desse sistema é:\n",
    "\n",
    "$$H(j\\omega) = \\int_{-\\infty}^\\infty h(\\tau)e^{-j\\omega\\tau}\\,d\\tau = \\int_{-\\infty}^\\infty e^{-2\\tau}u(\\tau)e^{-j\\omega\\tau}\\,d\\tau = \\int_{0}^\\infty e^{-(2+j\\omega)\\tau}\\,d\\tau = \\left.\\frac{e^{-(2+j\\omega)\\tau}}{-(2+j\\omega)}\\right|_{\\tau=0}^\\infty=\\frac{1}{2+j\\omega}$$\n",
    "\n",
    "\n",
    "---"
   ]
  },
  {
   "attachments": {},
   "cell_type": "markdown",
   "id": "d29f9171",
   "metadata": {},
   "source": [
    "## Ganho e fase\n",
    "\n",
    "O valor de $H(j\\omega)$ é um número complexo que pode ser escrito na forma polar:\n",
    "\n",
    "$$H(j\\omega) = |H(j\\omega)|e^{j\\phi(\\omega)}$$\n",
    "\n",
    "O $|H(j\\omega)|$ é o módulo de $H(j\\omega)$, e muitas vezes é chamado de **ganho** do sistema. O termo $\\phi(\\omega)$ é a fase de $H(j\\omega)$ e muitas é conhecido como **deslocamento de fase** do sistema.\n",
    "\n",
    "Então, quando um sinal $x(t) = e^{j\\omega t}$ é usado como entrada, a sua saída (estado nulo) será:\n",
    "\n",
    "$$y(t) = H(j\\omega)e^{j\\omega t} = |H(j\\omega)|e^{j\\phi(\\omega)}e^{j\\omega t} = |H(j\\omega)|e^{j(\\omega t+\\phi(\\omega))}$$\n",
    "\n",
    "\n"
   ]
  },
  {
   "attachments": {},
   "cell_type": "markdown",
   "id": "347ed0dd",
   "metadata": {},
   "source": [
    "## "
   ]
  },
  {
   "attachments": {},
   "cell_type": "markdown",
   "id": "096157fa",
   "metadata": {},
   "source": [
    "## Resposta em frequência a partir de uma equação diferencial"
   ]
  },
  {
   "attachments": {},
   "cell_type": "markdown",
   "id": "2d58fc0a",
   "metadata": {},
   "source": [
    "## Resposta de entradas senoidais"
   ]
  },
  {
   "attachments": {},
   "cell_type": "markdown",
   "id": "928fcf8e",
   "metadata": {},
   "source": [
    "## Exercícios\n",
    "\n",
    "**1)** Um sistema linear e invariante no tempo tem a sua função resposta em frequência:\n",
    "\n",
    "$$H(j\\omega) = \\frac{1}{j\\omega + 2}$$\n",
    "\n",
    "Calcule e esboce a saída do sistema para as seguintes entradas:\n",
    "\n",
    "a) $x(t) = 2$\n",
    "\n",
    "b) $x(t) = 3\\sqrt{2}\\cos(2t)$\n",
    "\n",
    "c) $x(t) = 5\\cos(6t)$\n",
    "\n",
    "d) $x(t) = \\delta(t)$\n",
    "\n",
    "e) $x(t) = u(t)$"
   ]
  },
  {
   "attachments": {},
   "cell_type": "markdown",
   "id": "7e37b1d9",
   "metadata": {},
   "source": [
    "**2)** Calcule a convolução entre os dois sinais abaixo:\n",
    "\n",
    "$x_1(t) = 20\\sqrt{3}(e^{j2t} + e^{j4t})$\n",
    "\n",
    "$x_2(t) = e^{-2t}u(t) - e^{-4t}u(t)$"
   ]
  },
  {
   "attachments": {},
   "cell_type": "markdown",
   "id": "a3bfd196",
   "metadata": {},
   "source": [
    "## Referências\n",
    "\n",
    "- Ulaby, FT e Yagle, AE, Signals & Systems: Theory and Applications, 2018, [ss2.eecs.umich.edu](ss2.eecs.umich.edu)\n",
    "- Oppenheim, M.  e Willsky, S., Sistemas e Sinais, 2010\n",
    "\n",
    "- Lathi, BP, Sinais e Sistemas Lineares, 2007"
   ]
  }
 ],
 "metadata": {
  "kernelspec": {
   "display_name": "Python 3 (ipykernel)",
   "language": "python",
   "name": "python3"
  },
  "language_info": {
   "codemirror_mode": {
    "name": "ipython",
    "version": 3
   },
   "file_extension": ".py",
   "mimetype": "text/x-python",
   "name": "python",
   "nbconvert_exporter": "python",
   "pygments_lexer": "ipython3",
   "version": "3.9.13"
  }
 },
 "nbformat": 4,
 "nbformat_minor": 5
}
