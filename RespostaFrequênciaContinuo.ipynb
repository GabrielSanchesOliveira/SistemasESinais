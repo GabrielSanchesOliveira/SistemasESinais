{
 "cells": [
  {
   "cell_type": "markdown",
   "id": "7e426493-0bab-49c1-8e91-51eb792a7a3b",
   "metadata": {},
   "source": [
    "# Resposta em frequência de tempo contínuo\n",
    "\n",
    "Renato Naville Watanabe"
   ]
  },
  {
   "cell_type": "markdown",
   "id": "1836e8b2",
   "metadata": {},
   "source": [
    "Aqui, vamos analisar qual a resposta de um sistema contínuo linear e invariante no tempo quando a entrada é uma exponencial complexa."
   ]
  },
  {
   "cell_type": "markdown",
   "id": "179db527",
   "metadata": {},
   "source": [
    "Vamos considerar uma entrada do tipo:\n",
    "\n",
    "$$x(t) = e^{j\\omega t}$$\n",
    "\n",
    "Considerando que um sistema tem a resposta ao impulso $h(t)$, a saída desse sistema (estado nulo) para a entrada $x(t)$ é:\n",
    "\n",
    "$$y(t) = \\int_{-\\infty}^\\infty h(\\tau)e^{j\\omega(t-\\tau)\\,d\\tau} = e^{j\\omega t}\\underbrace{\\int_{-\\infty}^\\infty h(\\tau)e^{-j\\omega\\tau\\,d\\tau}}_{H(j\\omega)} = H(j\\omega)e^{j\\omega t}$$\n",
    "\n",
    "A função $H(j\\omega)$ é conhecida como **Função Resposta em Frequência**.  A expressão anterior mostra que se colocarmos uma exponencial complexa de qualquer frequência $\\omega$, a saída será uma exponencial complexa com a mesma frequência $\\omega$, multiplicada por $H(j\\omega)$.  Isso acontece porque a função $e^{j\\omega t}$ é uma **autofunção** de qualquer sistema linear e invariantre no tempo.\n",
    "\n",
    "\n",
    "Note que, como a resposta em frequência é calculada a partir da resposta ao impulso, a resposta em frequência também caracteriza completamente o comportamento de um sistema linear e invariante no tempo. Isso significa que se conhecermos a função resposta em frequência de um sistema linear e invariante no tempo, conhecemos completamente o seu comportamento.  Por isso, uma outra maneira de representar um sistema em um diagrama de blocos é com a sua resposta em frequência.\n",
    "\n",
    "<img src=Imagens/respfreqcont.png width=\"500\">\n",
    "\n",
    "Até agora, já conhecemos várias formas para caracterizar um sistema linear e invariante no tempo:\n",
    "\n",
    "- Equação diferencial\n",
    "- Diagrama de blocos\n",
    "- Resposta ao impulso\n",
    "- Função de resposta em frequência"
   ]
  },
  {
   "cell_type": "markdown",
   "id": "e7e687ef",
   "metadata": {},
   "source": [
    "---\n",
    "### Exemplo 1\n",
    "\n",
    "Vamos encontrar a resposta em frequência de um sistema que tenha a resposta ao impulso:\n",
    "\n",
    "$$h(t) = e^{-2t}u(t)$$\n",
    "\n",
    "A função resposta em frequência desse sistema é:\n",
    "\n",
    "$$H(j\\omega) = \\int_{-\\infty}^\\infty h(\\tau)e^{-j\\omega\\tau}\\,d\\tau = \\int_{-\\infty}^\\infty e^{-2\\tau}u(\\tau)e^{-j\\omega\\tau}\\,d\\tau = \\int_{0}^\\infty e^{-(2+j\\omega)\\tau}\\,d\\tau = \\left.\\frac{e^{-(2+j\\omega)\\tau}}{-(2+j\\omega)}\\right|_{\\tau=0}^\\infty=\\frac{1}{2+j\\omega}$$\n",
    "\n",
    "\n",
    "---"
   ]
  },
  {
   "cell_type": "markdown",
   "id": "6f4cf0b6-614d-486d-90c9-9e16f041bbc9",
   "metadata": {},
   "source": [
    "## Existência da Resposta em frequência\n",
    "\n",
    "A resposta em frequência só vai existir se a integral que define a resposta em frequência convergir para um número finito:\n",
    "\n",
    "$|\\int_{-\\infty}^\\infty h(\\tau)e^{j\\omega(t-\\tau)\\,d\\tau}| < \\infty$\n",
    "\n",
    "Para isso acontecer, temos que:\n",
    "\n",
    "$|\\int_{-\\infty}^\\infty h(\\tau)e^{j\\omega(t-\\tau)}\\,d\\tau| \\leq \\int_{-\\infty}^\\infty |h(\\tau)e^{j\\omega(t-\\tau)}|\\,d\\tau =  \\int_{-\\infty}^\\infty |h(\\tau)||e^{j\\omega(t-\\tau)}|\\,d\\tau = \\int_{-\\infty}^\\infty |h(\\tau)|\\,d\\tau < \\infty$\n",
    "\n",
    "Ou seja, para a resposta em frequência de um sistema existir, temos que $\\int_{-\\infty}^\\infty |h(\\tau)|\\,d\\tau < \\infty$, que é exatamente o critério de estabilidade de um sistema linear e invariante no tempo. Portanto, **um sistema tem uma resposta em frequência apenas se o sistema for estável**."
   ]
  },
  {
   "cell_type": "markdown",
   "id": "d29f9171",
   "metadata": {},
   "source": [
    "## Ganho e fase\n",
    "\n",
    "O valor de $H(j\\omega)$ é um número complexo que pode ser escrito na forma polar:\n",
    "\n",
    "$$H(j\\omega) = |H(j\\omega)|e^{j\\phi(\\omega)}$$\n",
    "\n",
    "O $|H(j\\omega)|$ é o módulo de $H(j\\omega)$, e muitas vezes é chamado de **ganho** do sistema. O termo $\\phi(\\omega)$ é a fase de $H(j\\omega)$ e muitas é conhecido como **deslocamento de fase** do sistema.\n",
    "\n",
    "Então, quando um sinal $x(t) = e^{j\\omega t}$ é usado como entrada, a sua saída (estado nulo) será:\n",
    "\n",
    "$$y(t) = H(j\\omega)e^{j\\omega t} = |H(j\\omega)|e^{j\\phi(\\omega)}e^{j\\omega t} = |H(j\\omega)|e^{j(\\omega t+\\phi(\\omega))}$$\n",
    "\n",
    "Quando o deslocamento de fase é zero, dizemos que a entrada em saída estão **em fase**.\n",
    "\n",
    "Analisando a expressão da função de resposta em frequência, chegamos em duas propriedades (fica como exercício a prova):\n",
    "\n",
    "- $|H(j\\omega)| = |H(-j\\omega)|$\n",
    "\n",
    "- $\\phi(\\omega) = - \\phi(-\\omega)$\n"
   ]
  },
  {
   "cell_type": "markdown",
   "id": "a0c648ee",
   "metadata": {},
   "source": [
    "___\n",
    "### Exemplo 2\n",
    "\n",
    "Considerando o exemplo anterior, vamos calcular o ganho e o deslocamento de fase da resposta em frequência. A resposta em frequência é:\n",
    "\n",
    "$$H(j\\omega)=\\frac{1}{2+j\\omega}$$\n",
    "\n",
    "O ganho é:\n",
    "\n",
    "$$|H(j\\omega)| = \\left|\\frac{1}{2+j\\omega} \\right| = \\frac{1}{|2+j\\omega|} = \\frac{1}{4+\\omega^2}$$\n",
    "\n",
    "e o deslocamento de fase é:\n",
    "\n",
    "$$\\phi(\\omega) = -\\arctan\\left(\\frac{\\omega}{2}\\right)$$\n",
    "___"
   ]
  },
  {
   "cell_type": "markdown",
   "id": "131041d5",
   "metadata": {},
   "source": [
    "---\n",
    "### Exemplo 3\n",
    "\n",
    "Considerando o ganho e deslocamento de fase do exemplo anterior, vamos encontrar o sinal de saída (considerando estado inicial nulo) do sistema se for usado como sinal de entrada $x(t) = e^{j2t}$.\n",
    "\n",
    "Nesse caso, $\\omega=2$ rad/s. O ganho e deslocamento de fase para essa frequência angular é:\n",
    "\n",
    "$$|H(j2)|  = \\frac{1}{4+2^2}=\\frac{1}{16}$$\n",
    "\n",
    "$$\\phi(2) = -\\arctan\\left(\\frac{2}{2}\\right) = -\\arctan\\left(1\\right) = -\\frac{\\pi}{4}$$\n",
    "\n",
    "\n",
    "Então, a saída do sistema é:\n",
    "\n",
    "$$y(t) = |H(j2)|e^{j(2t+\\phi(2))} = \\frac{1}{16}e^{j\\left(2t-\\frac{\\pi}{4}\\right)} $$\n",
    "---"
   ]
  },
  {
   "cell_type": "markdown",
   "id": "347ed0dd",
   "metadata": {},
   "source": [
    "## "
   ]
  },
  {
   "cell_type": "markdown",
   "id": "096157fa",
   "metadata": {},
   "source": [
    "## Resposta em frequência a partir de uma equação diferencial\n",
    "\n",
    "Considerando o formato geral de uma equação diferencial de um sistema linear e invariante no tempo:\n",
    "\n",
    "$$\\frac{d^Ny}{dt^N} + a_{N-1}\\frac{d^{N-1}y}{dt^{N-1}}+...+a_0y(t) = b_N\\frac{d^Nx}{dt^N} +...+b_2\\frac{d^2x}{dt^2}+b_1\\frac{dx}{dt} + b_0x(t) $$\n",
    "\n",
    "Se $x(t) = e^{j\\omega t}$, a sua saída será $y(t) = H(j\\omega)e^{j\\omega t}$. Então:\n",
    "\n",
    "$$(j\\omega)^NH(j\\omega)e^{j\\omega t} + a_{N-1}(j\\omega)^{N-1}H(j\\omega)e^{j\\omega t}+...+a_0H(j\\omega)e^{j\\omega t} = b_N(j\\omega)^Ne^{j\\omega t} +...+b_2(j\\omega)^2e^{j\\omega t}+b_1(j\\omega)e^{j\\omega t} + b_0e^{j\\omega t} $$\n",
    "\n",
    "Como $e^{j\\omega t}$ nunca é igual a zero, podemos fazer:\n",
    "\n",
    "$$(j\\omega)^NH(j\\omega) + a_{N-1}(j\\omega)^{N-1}H(j\\omega)+...+a_0H(j\\omega) = b_N(j\\omega)^N +...+b_2(j\\omega)^2+b_1(j\\omega) + b_0 $$\n",
    "\n",
    "Então, a função resposta em frequência é:\n",
    "\n",
    "\n",
    "$$H(j\\omega) = \\frac{b_N(j\\omega)^N +...+b_2(j\\omega)^2+b_1(j\\omega) + b_0}{(j\\omega)^N + a_{N-1}(j\\omega)^{N-1}+...+a_0}$$"
   ]
  },
  {
   "cell_type": "markdown",
   "id": "1c576571",
   "metadata": {},
   "source": [
    "___\n",
    "### Exemplo 4\n",
    "\n",
    "Considerando um sistema com a seguinte equação diferencial:\n",
    "\n",
    "$$\\frac{d^2y}{dt^2} + 4\\frac{dy}{dt} + 5y(t) = \\frac{dx}{dt} + 2x(t)$$\n",
    "\n",
    "Então a resposta em frequência desse sistema é:\n",
    "\n",
    "$$H(j\\omega) = \\frac{j\\omega + 2}{(j\\omega)^2+4j\\omega+5} = \\frac{j\\omega + 2}{5-\\omega^2+4j\\omega}$$\n",
    "\n",
    "___"
   ]
  },
  {
   "cell_type": "markdown",
   "id": "158ef902-d448-4cf6-8261-9b8512b4f4cd",
   "metadata": {},
   "source": [
    "## Resposta em frequência a partir da função de transferência\n",
    "\n",
    "Para sistemas causais e estáveis, a resposta em frequência pode ser obtida da função de transferência:\n",
    "\n",
    "$H(j\\omega) = \\left.H(s)\\right|_{s=j\\omega}$\n",
    "\n",
    "Para sistemas não causais, a função de transferência não é definida (estamos usando a transformada de Laplace unilateral), mas a resposta em frequência é.\n",
    "\n",
    "---\n",
    "### Exemplo 5\n",
    "\n",
    "Um sistema linear e invariante no tempo tem a seguinte resposta ao impulso:\n",
    "\n",
    "$h(t) = e^{-0.5}tu(t)$\n",
    "\n",
    "A Função de transferência desse sistema é:\n",
    "\n",
    "$H(s) = \\frac{1}{s+0.5}$\n",
    "\n",
    "Então, a resposta em frequência desse sistema é:\n",
    "\n",
    "$H(j\\omega) = \\frac{1}{j\\omega+0.5}$\n",
    "\n",
    "---"
   ]
  },
  {
   "cell_type": "markdown",
   "id": "8584e272",
   "metadata": {},
   "source": [
    "## Sistemas em cascata\n",
    "\n",
    "Se dois sistemas forem colocados em cascata, a resposta em frequência do sistema conjunto será a multiplicação das respostas em frequência dos dois sistemas.\n",
    "\n",
    "<img src=Imagens/respfreqcontcascata.png width=\"700\">\n",
    "\n",
    "\n",
    "$$H(j\\omega) = H_1(j\\omega)H_2(j\\omega)$$"
   ]
  },
  {
   "cell_type": "markdown",
   "id": "2d58fc0a",
   "metadata": {},
   "source": [
    "## Resposta de entradas senoidais\n",
    "\n",
    "Vamos considerar um sistema linear e invariante no tempo com uma resposta em frequência $H(j\\omega)$ e uma entrada $x(t) = \\cos(\\omega t+\\theta)$.  Primeiro, vamos reescrever o sinal de entrada como uma soma de duas exponenciais complexas.\n",
    "\n",
    "$x(t) = \\cos(\\omega t+\\theta) = \\frac{e^{j(\\omega t + \\theta)} + e^{-j(\\omega t + \\theta)}}{2} = \\frac{e^{j\\omega t}e^{j\\theta} + e^{-j\\omega t}e^{-j\\theta}}{2} $\n",
    "\n",
    "\n",
    "Então, a saída do sistema para essa entrada é:\n",
    "\n",
    "$y(t) = \\frac{|H(j\\omega)|e^{j(\\omega t+\\phi(\\omega))}e^{j\\theta} + |H(-j\\omega)|e^{-j\\omega t+j\\phi(-\\omega)}e^{-j\\theta}}{2} = \\frac{|H(j\\omega)|e^{j(\\omega t+\\theta+\\phi(\\omega))} + |H(j\\omega)|e^{-j(\\omega t+\\theta+\\phi(\\omega))}}{2} = |H(j\\omega)| \\frac{e^{j(\\omega t+\\theta+\\phi(\\omega))} + e^{-j(\\omega t+\\theta+\\phi(\\omega))}}{2} =  |H(j\\omega)|\\cos(\\omega t+\\theta+\\phi(\\omega))$\n",
    "\n",
    "<img src=Imagens/respfreqcontcos.png width=\"400\">"
   ]
  },
  {
   "cell_type": "markdown",
   "id": "8d9b2a69",
   "metadata": {},
   "source": [
    "---\n",
    "### Exemplo 6\n",
    "\n",
    "Considerando o mesmo sistema do Exemplo 1. Vamos agora considerar a entrada $x(t) = \\cos(4t)$.  Nesse caso, a frequência angular é $\\omega=4$ rad/s. O ganho e o deslocamento de fase do sistema para essa frequência é:\n",
    "\n",
    "$$|H(j4)|  = \\frac{1}{4+4^2}=\\frac{1}{20}$$\n",
    "\n",
    "$$\\phi(4) = -\\arctan\\left(\\frac{4}{2}\\right) = -\\arctan\\left(2\\right) = -1,11 \\text{ rad}$$ \n",
    "\n",
    "Então, a saída será:\n",
    "\n",
    "$$y(t) = |H(j4)|\\cos(4t+\\phi(4)) = \\frac{1}{20}\\cos(4t-1,11) = \\frac{1}{20}\\cos(4t-63,6º)$$\n",
    "\n",
    "---"
   ]
  },
  {
   "cell_type": "markdown",
   "id": "77f3b305",
   "metadata": {},
   "source": [
    "## Observações\n",
    "\n",
    "Os sinais que consideramos aqui foram sinais do tipo:\n",
    "\n",
    "$x(t) = \\cos(\\omega t+\\theta)$ e $x(t) = e^{j\\omega t}$.\n",
    "\n",
    "Eles têm esse comportamento desde $t=-\\infty$. Sinais do tipo:\n",
    "\n",
    "$x(t) = \\cos(\\omega t+\\theta)u(t)$ e $x(t) = e^{j\\omega t}u(t)$\n",
    "\n",
    "não foram considerados aqui. Quando sinais desse tipo ( que têm seu início em $t=0$) são usados como entrada, a sua saída pode ser dividida em duas partes:\n",
    "\n",
    "$$y(t) = y_T(t) + y_{RP}(t)$$\n",
    "\n",
    "$y_T(t)$ corresponde ao que é conhecido como **transitório**. Essa parte fica desprezível depois de algum tempo. O sinal $y_{RP}(t)$ é conhecido como **regime permanente** e é o sinal que calculamos aqui usando a função resposta em frequência. Como os sinais de entrada que consideramos aqui começaram em $t=-\\infty$ a parte transitória já sumiu e temos apenas a parte do regime permanente."
   ]
  },
  {
   "cell_type": "markdown",
   "id": "928fcf8e",
   "metadata": {},
   "source": [
    "## Exercícios\n",
    "\n",
    "**1)** Um sistema linear e invariante no tempo tem a sua função resposta em frequência:\n",
    "\n",
    "$$H(j\\omega) = \\frac{1}{j\\omega + 2}$$\n",
    "\n",
    "Calcule e esboce a saída do sistema para as seguintes entradas:\n",
    "\n",
    "a) $x(t) = 2$\n",
    "\n",
    "b) $x(t) = 3\\sqrt{2}\\cos(2t)$\n",
    "\n",
    "c) $x(t) = 5\\cos(6t)$\n",
    "\n",
    "d) $x(t) = \\delta(t)$\n",
    "\n",
    "e) $x(t) = u(t)$"
   ]
  },
  {
   "cell_type": "markdown",
   "id": "7e37b1d9",
   "metadata": {},
   "source": [
    "**2)** Calcule a convolução entre os dois sinais abaixo:\n",
    "\n",
    "$x_1(t) = 20\\sqrt{3}(e^{j2t} + e^{j4t})$\n",
    "\n",
    "$x_2(t) = e^{-2t}u(t) - e^{-4t}u(t)$"
   ]
  },
  {
   "cell_type": "markdown",
   "id": "b798788d",
   "metadata": {},
   "source": [
    "**3)** Um sistema linear e invariante no tempo tem a seguinte resposta ao impulso:\n",
    "\n",
    "$$h(t) = e^{-5t}u(t)$$\n",
    "\n",
    "A entrada desse sistema é:\n",
    "\n",
    "$$x(t) = 4+13\\cos(3t) - 18\\sin(9t) + 7\\cos(15t)$$\n",
    "\n",
    "Calcule a saída do sistema."
   ]
  },
  {
   "cell_type": "markdown",
   "id": "1e59e41f",
   "metadata": {},
   "source": [
    "**4)** Um sistema linear e invariante no tempo tem o seguinte par entrada-saída:\n",
    "\n",
    "$$x(t) = u(t) + 3\\cos(4t)$$\n",
    "\n",
    "$$y(t) = u(t) - e^{-4t}u(t) + \\sqrt{3}\\cos(4t-45°)$$\n",
    "\n",
    "Qual a saída para a seguinte entrada?\n",
    "\n",
    "$$x_1(t) = 5u(t-2) + 4\\sqrt{2}\\cos(4t-60°)$$"
   ]
  },
  {
   "cell_type": "markdown",
   "id": "16fbf1f9",
   "metadata": {},
   "source": [
    "**5)** Um sistema linear e invariante no tempo é descrito pela seguinte equação diferencial:\n",
    "\n",
    "$$\\frac{d^2y}{dt^2} = -3\\frac{dy}{dt} + 3y(t) + 4\\frac{dx}{dt}$$\n",
    "\n",
    "A sua entrada é $x(t) = \\cos(\\omega t)$\n",
    "\n",
    "\n",
    "a) Qual a saída do sistema, considerando que $\\omega = 3$ rad/s\n",
    "\n",
    "b) Encontre a frequência $\\omega$ que faz com que a saída esteja em fase com a entrada (deslocamento de fase zero)."
   ]
  },
  {
   "cell_type": "markdown",
   "id": "a4c54ae6",
   "metadata": {},
   "source": [
    "**6)** O circuito abaixo pode ser escrito como dois sistemas em série.\n",
    "\n",
    "<img src=Imagens/circuitopassall.png width=\"500\">\n",
    "\n",
    "O primeiro sistema, com $V_{in}(t)$ como entrada e $i(t)$ ($i(t)$ é a corrente que sai do gerador) como saída, tem a seguinte equação diferencial:\n",
    "\n",
    "$$\\frac{di}{dt} = \\frac{-1}{RC}i(t) + \\frac{2}{R}\\frac{dV_{in}}{dt}$$\n",
    "\n",
    "O segundo sistema, com $i(t)$ como entrada e $V_{out}(t)$ como saída, tem a seguinte equação diferencial:\n",
    "\n",
    "$$\\frac{dV_{out}}{dt} = -\\frac{R}{2}\\frac{di}{dt} + \\frac{1}{2C}i(t)$$\n",
    "\n",
    "a) Qual a resposta em frequência do sistema que tem $V_{in}(t)$ como entrada e $V_{out}(t)$ como saída?\n",
    "\n",
    "b) Qual o ganho desse sistema.\n",
    "\n",
    "c) Qual o deslocamento de fase desse sistema? \n",
    "\n",
    "d) Existe alguma frequência que se a entrada for $V_{in}(t) = \\cos(\\omega_0 t)$ a saída será $V_{out}(t) = \\mathrm{sen}(\\omega_0 t)$? Se sim, qual?\n"
   ]
  },
  {
   "cell_type": "markdown",
   "id": "0c143468",
   "metadata": {},
   "source": [
    "**7)** Prove que, para $h(t)$ real, $|H(j\\omega)| = |H(-j\\omega)|$ e $\\phi(\\omega) = -\\phi(-\\omega)$."
   ]
  },
  {
   "cell_type": "markdown",
   "id": "a3bfd196",
   "metadata": {},
   "source": [
    "## Referências\n",
    "\n",
    "- Ulaby, FT e Yagle, AE, Signals & Systems: Theory and Applications, 2018, [ss2.eecs.umich.edu](ss2.eecs.umich.edu)\n",
    "- Oppenheim, M.  e Willsky, S., Sistemas e Sinais, 2010\n",
    "- Lathi, BP, Sinais e Sistemas Lineares, 2007"
   ]
  },
  {
   "cell_type": "markdown",
   "id": "a1a61b63",
   "metadata": {},
   "source": [
    "## Solução dos exercícios"
   ]
  },
  {
   "cell_type": "code",
   "execution_count": null,
   "id": "8a8b0eab-a052-4be9-b4c0-0d5a3fe9726e",
   "metadata": {},
   "outputs": [],
   "source": []
  }
 ],
 "metadata": {
  "kernelspec": {
   "display_name": "Python 3 (ipykernel)",
   "language": "python",
   "name": "python3"
  },
  "language_info": {
   "codemirror_mode": {
    "name": "ipython",
    "version": 3
   },
   "file_extension": ".py",
   "mimetype": "text/x-python",
   "name": "python",
   "nbconvert_exporter": "python",
   "pygments_lexer": "ipython3",
   "version": "3.10.11"
  }
 },
 "nbformat": 4,
 "nbformat_minor": 5
}
