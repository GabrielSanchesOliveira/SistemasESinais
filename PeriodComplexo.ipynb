{
 "cells": [
  {
   "cell_type": "markdown",
   "id": "273205ef-2e79-42ab-b15e-8e0289a69d3b",
   "metadata": {},
   "source": [
    "# Representação complexa de sinais periódicos"
   ]
  },
  {
   "cell_type": "code",
   "execution_count": null,
   "id": "a599e0f9-1f0c-4104-9448-f67a4531c369",
   "metadata": {},
   "outputs": [],
   "source": []
  },
  {
   "cell_type": "code",
   "execution_count": null,
   "id": "3ac341e9-6a6c-44da-846b-35ec8fdcd6d7",
   "metadata": {},
   "outputs": [],
   "source": []
  },
  {
   "cell_type": "code",
   "execution_count": null,
   "id": "794d6bf0-3bea-44d8-9ade-18c3394298fc",
   "metadata": {},
   "outputs": [],
   "source": []
  },
  {
   "cell_type": "code",
   "execution_count": null,
   "id": "5c9bc8bd-5b97-4273-b300-bc715c69efc3",
   "metadata": {},
   "outputs": [],
   "source": []
  },
  {
   "cell_type": "markdown",
   "id": "126ec4b3-f423-42c5-8bf9-d48a8d780654",
   "metadata": {},
   "source": [
    "## Exercícios"
   ]
  },
  {
   "cell_type": "markdown",
   "id": "89d918f5-439f-414b-aeae-3de978ff5ac4",
   "metadata": {},
   "source": [
    "## Referências"
   ]
  },
  {
   "cell_type": "code",
   "execution_count": null,
   "id": "e15ff573-892e-437c-b572-428b88efdaa0",
   "metadata": {},
   "outputs": [],
   "source": []
  }
 ],
 "metadata": {
  "kernelspec": {
   "display_name": "Python 3 (ipykernel)",
   "language": "python",
   "name": "python3"
  },
  "language_info": {
   "codemirror_mode": {
    "name": "ipython",
    "version": 3
   },
   "file_extension": ".py",
   "mimetype": "text/x-python",
   "name": "python",
   "nbconvert_exporter": "python",
   "pygments_lexer": "ipython3",
   "version": "3.9.16"
  }
 },
 "nbformat": 4,
 "nbformat_minor": 5
}
