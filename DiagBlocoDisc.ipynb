{
 "cells": [
  {
   "cell_type": "markdown",
   "id": "ff5fd5f9-1b18-4ddb-8b4e-2a1b58e22093",
   "metadata": {},
   "source": [
    "# Representação de sistemas discretos com diagrama de blocos\n",
    "\n",
    "Renato Naville Watanabe"
   ]
  },
  {
   "cell_type": "markdown",
   "id": "d4ef199b-4ee4-4fc4-bf1b-92dffc3f7579",
   "metadata": {},
   "source": [
    "## Diagrama de Blocos\n",
    "\n",
    "<img src=elemdiscbloco.png width=\"400\">"
   ]
  },
  {
   "cell_type": "markdown",
   "id": "ed101d37-c160-4aae-af19-521d15e3c0ca",
   "metadata": {},
   "source": [
    "## Exercícios"
   ]
  },
  {
   "cell_type": "markdown",
   "id": "90c6392d-66a7-4f27-8866-b1843eeb3036",
   "metadata": {},
   "source": [
    "## Referências\n",
    "\n",
    "- Oppenheim, M. Sistemas e Sinais, 2010\n",
    "- Ulaby, FT e Yagle, AE, Signals & Systems: Theory and Applications, 2018, [ss2.eecs.umich.edu](ss2.eecs.umich.edu)\n",
    "- Lathi, BP, Sinais e Sistemas Lineares, 2007"
   ]
  }
 ],
 "metadata": {
  "kernelspec": {
   "display_name": "Python 3 (ipykernel)",
   "language": "python",
   "name": "python3"
  },
  "language_info": {
   "codemirror_mode": {
    "name": "ipython",
    "version": 3
   },
   "file_extension": ".py",
   "mimetype": "text/x-python",
   "name": "python",
   "nbconvert_exporter": "python",
   "pygments_lexer": "ipython3",
   "version": "3.9.16"
  }
 },
 "nbformat": 4,
 "nbformat_minor": 5
}
