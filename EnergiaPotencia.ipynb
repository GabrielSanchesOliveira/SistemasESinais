{
 "cells": [
  {
   "cell_type": "markdown",
   "id": "d4272d95-606d-4235-8e54-7d4a47afc896",
   "metadata": {},
   "source": [
    "# Energia e Potência\n",
    "\n",
    "Renato Naville Watanabe"
   ]
  },
  {
   "cell_type": "markdown",
   "id": "64fd6875-72a8-44e7-8b9b-86cad7df8d25",
   "metadata": {},
   "source": [
    "Os conceitos de energia e potência para sinais contínuos e discretos têm inspiração nos conceitos de energia e potência elétricas e mecânicas. De qualquer forma, é importante ter em mente que são apenas inspiradas, e muitas vezes as unidades dessa grandezas não são de energia e potência físicas (Joules e Watts)."
   ]
  },
  {
   "cell_type": "markdown",
   "id": "627f54c6-f1d5-4a96-820a-5b1a78b8de16",
   "metadata": {},
   "source": [
    "## Energia\n",
    "\n",
    "A **energia** de um sinal contínuo entre os instante $t_1$ e $t_2$ é definida da seguinte forma:\n",
    "\n",
    "$E = \\int_{t_1}^{t_2}|x(t)|^2\\,dt$\n",
    "\n",
    "Da mesma maneira, para sinais dicretos, a energia entre os instantes $n_1$ e $n_2$ é:\n",
    "\n",
    "$E = \\displaystyle\\sum_{n=n_1}^{n_2}|x[n]|^2$\n",
    "\n",
    "Muitas vezes, queremos calcular a energia ao longo de um tempo de duração infinita. Nesse caso a energia é conhecida como **energia total**. Para tempo contínuo, é definida como:\n",
    "\n",
    "$E_{\\infty} = \\int_{-\\infty}^{\\infty}|x(t)|^2\\,dt$\n",
    "\n",
    "E para tempo discreto:\n",
    "\n",
    "$E_{\\infty} = \\displaystyle\\sum_{n=-\\infty}^{\\infty}|x[n]|^2$\n"
   ]
  },
  {
   "cell_type": "markdown",
   "id": "d3fbe612-32de-44ae-8ce5-92c456799167",
   "metadata": {},
   "source": [
    "---\n",
    "\n",
    "### Exemplo 1\n",
    "\n",
    "Considere o seguinte sinal:\n",
    "\n",
    "$x(t) = 3t(u(t)-u(t-2)) + 6e^{-(t-2)}u(t-2)$\n",
    "\n",
    "A energia total desse sinal é:\n",
    "\n",
    "$E_{\\infty} = \\int_{-\\infty}^{\\infty}|3t(u(t)-u(t-2)) + 6e^{-(t-2)}u(t-2)|^2\\,dt = \\int_{-\\infty}^{\\infty}|3t(u(t)-u(t-2)) + 6e^{-(t-2)}u(t-2)|^2\\,dt $\n",
    "\n",
    "$E_{\\infty} = \\int_{-\\infty}^{\\infty}9t^2(u(t)-u(t-2))+36e^{-2(t-2)}u(t-2)\\,dt = \\int_{-\\infty}^{\\infty}9t^2(u(t)-u(t-2))\\,dt+\\int_{-\\infty}^{\\infty}36e^{-2(t-2)}u(t-2)\\,dt$\n",
    "\n",
    "$E_{\\infty} =\\int_{0}^{2}9t^2\\,dt+\\int_{2}^{\\infty}36e^{-2(t-2)}\\,dt = \\left.\\frac{9t^3}{3}\\right|_{t=0}^2 + \\left.36\\frac{e^{-2(t-2)}}{-2}\\right|_{t=2}^{\\infty} = 24 + 18 = 42$\n",
    "\n",
    "---"
   ]
  },
  {
   "cell_type": "markdown",
   "id": "76202a31-88ef-400c-9249-ed0cd7288446",
   "metadata": {},
   "source": [
    "## Potência\n",
    "\n",
    "A potência é obtida divindo-se a energia pela duração do intervalo. Assim, para sinais contínuos, temos:\n",
    "\n",
    "$P = \\frac{1}{t_2-t_1}\\int_{t_1}^{t_2}|x(t)|^2\\,dt$\n",
    "\n",
    "e para sinais discretos:\n",
    "\n",
    "$P = \\frac{1}{n_2-n_1+1}\\displaystyle\\sum_{n=n_1}^{n_2}|x[n]|^2$\n",
    "\n",
    "É muito comum querermos calcular a potência ao longo de um tempo de duração infinita. Nesse caso a potência é conhecida como **potência média**. Para tempo contínuo, é definida como:\n",
    "\n",
    "$P_{\\infty} = \\displaystyle\\lim_{T\\rightarrow\\infty}\\frac{1}{T}\\int_{-T/2}^{T/2}|x(t)|^2\\,dt$\n",
    "\n",
    "E para tempo discreto:\n",
    "\n",
    "$P_{\\infty} = \\displaystyle\\lim_{N\\rightarrow\\infty}\\frac{1}{N+1}\\displaystyle\\sum_{n=-N/2}^{N/2}|x[n]|^2$\n",
    "\n"
   ]
  },
  {
   "cell_type": "markdown",
   "id": "1c0a7d75-665f-4e73-a19d-944969971f0b",
   "metadata": {},
   "source": [
    "---\n",
    "\n",
    "### Exemplo 2\n",
    "\n",
    "Considere o mesmo sinal do Exemplo 1:\n",
    "\n",
    "$x(t) = 3t(u(t)-u(t-2)) + 6e^{-(t-2)}u(t-2)$\n",
    "\n",
    "A potência média desse sinal é:\n",
    "\n",
    "$P_{\\infty} = \\displaystyle\\lim_{T\\rightarrow\\infty}\\frac{1}{T}\\int_{-T/2}^{T/2}|x(t)|^2\\,dt = \\displaystyle\\lim_{T\\rightarrow\\infty}\\frac{E_\\infty}{T} = 0$\n",
    "\n",
    "Como a energia é um número finito e $T$ tende ao infinito, $P_\\infty$ é zero.\n",
    "\n",
    "---"
   ]
  },
  {
   "cell_type": "markdown",
   "id": "5dcb5210-4689-41b7-a8f9-8c1cdd23411e",
   "metadata": {},
   "source": [
    "### Sinais periódicos\n",
    "\n",
    "Para sinais periódicos, a potência pode ser calculada durante um período $T$ do sinal:\n",
    "\n",
    "$P_{\\infty} = \\frac{1}{T}\\int_{-T/2}^{T/2}|x(t)|^2\\,dt$"
   ]
  },
  {
   "cell_type": "markdown",
   "id": "52490a91-55a6-434c-b0a9-efdf0c03dc49",
   "metadata": {},
   "source": [
    "---\n",
    "\n",
    "#### Exemplo 3\n",
    "\n",
    "Considere agora o sinal\n",
    "\n",
    "$x(t) = \\cos(2\\pi 3t)$\n",
    "\n",
    "O período desse sinal é $T=\\frac{1}{3}$ s.\n",
    "Então:\n",
    "\n",
    "$P_{\\infty} = \\frac{1}{1/3}\\int_{-1/6}^{1/6}\\cos^2(2\\pi 3t)\\,dt =  3\\int_{-1/6}^{1/6}\\left(\\frac{e^{j2\\pi 3t}+e^{-j2\\pi 3t}}{2}\\right)^2\\,dt =  3\\int_{-1/6}^{1/6}\\left(\\frac{e^{j2\\pi 6t}+e^{-j2\\pi 6t} + 2}{4}\\right)\\,dt = 3\\int_{-1/6}^{1/6}\\frac{1}{2}\\cos(2\\pi 6t) + \\frac{1}{2}\\,dt$\n",
    "\n",
    "A integral do cosseno é zero, já que está integrando por dois períodos. Então\n",
    "\n",
    "$P_{\\infty} = \\frac{3}{2}\\int_{-1/6}^{1/6}\\,dt = 0.5$\n",
    "\n",
    "---"
   ]
  },
  {
   "cell_type": "markdown",
   "id": "68f4a169-178f-49d1-89d0-93366ffb22b7",
   "metadata": {},
   "source": [
    "Na verdade para qualquer sinal da forma:\n",
    "\n",
    "$x(t)=A\\cos(\\omega_0 t)$\n",
    "\n",
    "A potência será:\n",
    "\n",
    "$P_\\infty = \\frac{A^2}{2}$"
   ]
  },
  {
   "cell_type": "markdown",
   "id": "7dbbceb6-bc8f-4cd7-ab5a-5deabcf4d407",
   "metadata": {},
   "source": [
    "## Exercícios"
   ]
  },
  {
   "cell_type": "markdown",
   "id": "f3f54691-b44a-44ba-8945-659372c4182d",
   "metadata": {},
   "source": [
    "**1)** Determine os valores de $P_\\infty$ e $E_{\\infty}$ dos sinais abaixo:\n",
    "\n",
    "a) $x_1(t) = e^{-3t}, t\\geq0$\n",
    "\n",
    "b) $x_2(t) = \\cos(2t)$\n",
    "\n",
    "c) $x_1[k] = \\frac{1}{3^k}, k\\geq 0$\n",
    "\n",
    "d) $x_2[k] = \\cos\\left(\\frac{\\pi}{2}k\\right)$"
   ]
  },
  {
   "cell_type": "markdown",
   "id": "2c69501d-e5d0-4e78-ae0a-c74d93ac5a2c",
   "metadata": {},
   "source": [
    "**2)** Mostre que para qualquer sinal da forma:\n",
    "\n",
    "$x(t)=A\\cos(\\omega_0 t)$\n",
    "\n",
    "A potência será:\n",
    "\n",
    "$P_\\infty = \\frac{A^2}{2}$ "
   ]
  },
  {
   "cell_type": "markdown",
   "id": "25d2e342-6938-44a7-b59c-3dd3c04dc69b",
   "metadata": {},
   "source": [
    "**3)** Considere $x_1(t) = \\cos(2t)$, $x_2(t) = \\mathrm{sen}(\\pi t)$ e $x_3(t)=x_1(t)+x_2(t)$. Encontre $P_{\\infty_{x_1}}$,  $P_{\\infty_{x_2}}$ e  $P_{\\infty_{x_3}}$.\n",
    "\n"
   ]
  },
  {
   "cell_type": "markdown",
   "id": "7431cd78-f081-481e-8f6f-ad8e127adab2",
   "metadata": {},
   "source": [
    "**4)** Um sinal $x(t)$, que tem valores diferentes de zero para $0<t<3$, tem energia $E=1,04$. \n",
    "\n",
    "a) Qual a energia de $x_2(t) = \\frac{1}{3}x(4t)$?\n",
    "\n",
    "b) Agora considere $x_3(t)$ um sinal periódico definido da seguinte maneira:\n",
    "\n",
    "$x_3(t) = \\left\\{\\begin{array}{cc}x(t)& ,0\\leq t < 5\\\\ x_3(t+5) & ,\\forall t \\end{array}\\right.$\n",
    "\n",
    "Qual a potência de $x_3(t)$?\n",
    "\n",
    "c) Qual a potência de $x_4(t) =  \\frac{1}{3}x_3(4t)$?"
   ]
  },
  {
   "cell_type": "markdown",
   "id": "30b9b1ef-26e9-446c-9d1d-1d1b917adbd2",
   "metadata": {},
   "source": [
    "## Referências"
   ]
  },
  {
   "cell_type": "markdown",
   "id": "3176b502-aa22-4ffd-bd42-ec5feb126f78",
   "metadata": {},
   "source": [
    "- Oppenheim, M. Sistemas e Sinais, 2010\n",
    "- Orsini, LQ, Consonni, D. Curso de circuitos elétricos – vol. 1, 2002.\n",
    "- Ulaby, FT e Yagle, AE, Signals & Systems: Theory and Applications, 2018, [ss2.eecs.umich.edu](ss2.eecs.umich.edu)\n",
    "- Lathi, BP, Sinais e Sistemas Lineares, 2007"
   ]
  },
  {
   "cell_type": "code",
   "execution_count": null,
   "id": "828efb1d-c139-4611-9fe7-c14a56788852",
   "metadata": {},
   "outputs": [],
   "source": []
  }
 ],
 "metadata": {
  "kernelspec": {
   "display_name": "Python 3 (ipykernel)",
   "language": "python",
   "name": "python3"
  },
  "language_info": {
   "codemirror_mode": {
    "name": "ipython",
    "version": 3
   },
   "file_extension": ".py",
   "mimetype": "text/x-python",
   "name": "python",
   "nbconvert_exporter": "python",
   "pygments_lexer": "ipython3",
   "version": "3.10.11"
  }
 },
 "nbformat": 4,
 "nbformat_minor": 5
}
