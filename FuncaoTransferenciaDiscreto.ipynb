{
 "cells": [
  {
   "attachments": {},
   "cell_type": "markdown",
   "metadata": {},
   "source": [
    "# Função de transferência de sistemas discretos\n",
    "\n",
    "Renato Naville Watanabe"
   ]
  },
  {
   "attachments": {},
   "cell_type": "markdown",
   "metadata": {},
   "source": [
    "Considerando o formato geral de uma equação de diferenças de um sistema linear e invariante no tempo:\n",
    "\n",
    "$$y[n] + a_{1}y[n-1]+...+a_Ny[n-N] = b_Mx[n-M] +...+b_2x[n-2]+b_1x[n-1] + b_0x[n] $$\n",
    "\n",
    "Como já vimos anteriormente, a transformada Z de $x[n-m]$ é:\n",
    "\n",
    "$\\mathcal{Z}(x[n-m]) = z^{-m}X(z)$\n",
    "\n",
    "e a transformada Z de $y[n-m]$ é:\n",
    "\n",
    "$\\mathcal{Z}(y[n-m]) = z^{-m}Y(z)$\n",
    "\n"
   ]
  },
  {
   "attachments": {},
   "cell_type": "markdown",
   "metadata": {},
   "source": [
    "Substituindo essas transformadas dos sinais atrasado na equação de diferenças, temos:\n",
    "\n",
    "$$Y(z) + a_{1}z^{-1}Y(z)+...+a_Nz^{-N}Y(z) = b_Mz^{-M}X(z) +...+b_2z^{-2}X(z)+b_1z^{-1}X(z) + b_0X(z) $$\n",
    "\n",
    "Com isso, podemos definir a função $H(z)$:\n",
    "\n",
    "$H(z) = \\frac{Y(z)}{X(z)} = \\frac{b_Mz^{-M} +...+b_2z^{-2}+b_1z^{-1} + b_0}{1 + a_{1}z^{-1}+...+a_Nz^{-N}}$\n",
    "\n",
    "Essa função é conhecida como **função de transferência** do sistema."
   ]
  },
  {
   "attachments": {},
   "cell_type": "markdown",
   "metadata": {},
   "source": []
  },
  {
   "attachments": {},
   "cell_type": "markdown",
   "metadata": {},
   "source": [
    "## Exercícios\n",
    "\n"
   ]
  },
  {
   "attachments": {},
   "cell_type": "markdown",
   "metadata": {},
   "source": []
  },
  {
   "attachments": {},
   "cell_type": "markdown",
   "metadata": {},
   "source": [
    "## Referências\n",
    "\n",
    "- Ulaby, FT e Yagle, AE, Signals & Systems: Theory and Applications, 2018, [ss2.eecs.umich.edu](ss2.eecs.umich.edu)\n",
    "- Lathi, BP, Sinais e Sistemas Lineares, 2007\n",
    "- Oppenheim, M.  e Willsky, S., Sistemas e Sinais, 2010"
   ]
  },
  {
   "attachments": {},
   "cell_type": "markdown",
   "metadata": {},
   "source": []
  }
 ],
 "metadata": {
  "language_info": {
   "name": "python"
  },
  "orig_nbformat": 4
 },
 "nbformat": 4,
 "nbformat_minor": 2
}
