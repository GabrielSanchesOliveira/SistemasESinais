{
 "cells": [
  {
   "cell_type": "markdown",
   "metadata": {},
   "source": [
    "# Função de transferência de sistemas discretos\n",
    "\n",
    "Renato Naville Watanabe"
   ]
  },
  {
   "cell_type": "markdown",
   "metadata": {},
   "source": [
    "## Preparação do ambiente"
   ]
  },
  {
   "cell_type": "code",
   "execution_count": 2,
   "metadata": {
    "tags": []
   },
   "outputs": [],
   "source": [
    "import matplotlib.pyplot as plt\n",
    "import numpy as np"
   ]
  },
  {
   "cell_type": "markdown",
   "metadata": {},
   "source": [
    "## Definição do problema\n",
    "\n",
    "Aqui, vamos considerar o formato geral de uma equação de diferenças de um sistema linear e invariante no tempo:\n",
    "\n",
    "$$y[n] + a_{1}y[n-1]+...+a_Ny[n-N] = b_Mx[n-M] +...+b_2x[n-2]+b_1x[n-1] + b_0x[n] $$\n",
    "\n",
    "Como já vimos anteriormente, a solução desta equação é formada por duas partes:\n",
    "\n",
    "$$y[n] = y_{zi}[n] + y_{zs}[n]$$\n",
    "\n",
    "em que $y_{zi}[n]$ é a parte de $y$ devida às condições iniciais do sinal de saída (os valores de $y[n-1], y[n-2], ..., y[n-N]$ quando $n$ = 0). Para o cálculo dessa componente, considera-se que a entrada $x[n]$ é nula ($zi$ é de *zero input*, **entrada nula** em inglês). \n",
    "\n",
    "A outra componente, $y_{zs}[n]$, é devido à entrada $x[n]$. Para o cálculo dessa componente consideramos que os valores de $y[n-1], y[n-2], ..., y[n-N]$ quando $n$ = 0 são todos iguais a 0 ($zs$ é de *zero state*, **estado nulo** em inglês, às vezes também chamado de **repouso**).\n",
    "\n",
    "Vamos agora encontrar essas duas partes da solução utilizando transformada Z. É consideravelmente mais simples do que o método clássico."
   ]
  },
  {
   "cell_type": "markdown",
   "metadata": {},
   "source": [
    "## Resposta de estado nulo\n",
    "\n",
    "\n",
    "\n",
    "Como já vimos anteriormente, a transformada Z de $x[n-m]$ é:\n",
    "\n",
    "$\\mathcal{Z}(x[n-m]) = z^{-m}X(z)$\n",
    "\n",
    "e a transformada Z de $y[n-m]$ é:\n",
    "\n",
    "$\\mathcal{Z}(y[n-m]) = z^{-m}Y(z)$"
   ]
  },
  {
   "cell_type": "markdown",
   "metadata": {},
   "source": [
    "Substituindo essas transformadas dos sinais atrasado na equação de diferenças, temos:\n",
    "\n",
    "$$Y(z) + a_{1}z^{-1}Y(z)+...+a_Nz^{-N}Y(z) = b_Mz^{-M}X(z) +...+b_2z^{-2}X(z)+b_1z^{-1}X(z) + b_0X(z) $$\n",
    "\n",
    "Com isso, podemos definir a função $H(z)$:\n",
    "\n",
    "$H(z) = \\frac{Y(z)}{X(z)} = \\frac{b_Mz^{-M} +...+b_2z^{-2}+b_1z^{-1} + b_0}{1 + a_{1}z^{-1}+...+a_Nz^{-N}}$\n",
    "\n",
    "Essa função é conhecida como **função de transferência** do sistema. Ela é obtida diretamente dos coeficientes da equação de diferenças."
   ]
  },
  {
   "cell_type": "markdown",
   "metadata": {},
   "source": [
    "---\n",
    "\n",
    "### Exemplo 1\n",
    "\n",
    "Vamos considerar o sistema com a seguinte equação de diferenças:\n",
    "\n",
    "$y[n] + 3y[n-1] - 4y[n-2] = 3x[n] + x[n-1]$\n",
    "\n",
    "A função de transferência deste sistema é:\n",
    "\n",
    "$H(z) = \\frac{3+z^{-1}}{1 + 3z^{-1}-4z^{-2}}$\n",
    "\n",
    "---"
   ]
  },
  {
   "cell_type": "markdown",
   "metadata": {},
   "source": [
    "---\n",
    "\n",
    "### Exemplo 2\n",
    "\n",
    "Vamos considerar o sistema com a seguinte equação de diferenças:\n",
    "\n",
    "$y[n]  = -0.5y[n-1] + x[n]$\n",
    "\n",
    "A função de transferência deste sistema é:\n",
    "\n",
    "$H(z) = \\frac{1}{1 + 0.5z^{-1}}$\n",
    "\n",
    "---"
   ]
  },
  {
   "cell_type": "markdown",
   "metadata": {},
   "source": [
    "Observando a expressão da função de transferência, vemos que se $X(z) = 1$, $Y(z) = H(z)$. O sinal $x[n]$ que tem uma transformada Z igual a 1 é o impulso unitário ($x[n]=\\delta[n]$). Portanto a função de transferência é a transformada Z da resposta ao impulso.\n",
    "\n",
    "$H(z) = \\displaystyle\\sum_{n=0}^\\infty h(n)z^{-n}$"
   ]
  },
  {
   "cell_type": "markdown",
   "metadata": {},
   "source": [
    "---\n",
    "\n",
    "### Exemplo 3\n",
    "\n",
    "A resposta ao impulso do sistema do exemplo 2 é:\n",
    "\n",
    "$h[n] = (-0.5)^nu[n]$\n",
    "\n",
    "A transformada Z dessa resposta ao impulso é:\n",
    "\n",
    "$H(z) = \\displaystyle\\sum_{n=0}^\\infty  (-0.5)^nu[n] z^{-n}= \\displaystyle\\sum_{n=0}^\\infty  (-0.5)^nz^{-n} = \\displaystyle\\sum_{n=0}^\\infty  (-0.5z^{-1})^n = \\frac{1}{1 + 0.5z^{-1}}$\n",
    "\n",
    "Como esperado, a função encontrada foi a mesma do exemplo 2.\n",
    "\n",
    "---"
   ]
  },
  {
   "cell_type": "markdown",
   "metadata": {},
   "source": [
    "A partir da expressão da função de transferência, chegamos à expressão para $Y(z)$:\n",
    "\n",
    "$H(z) = \\frac{Y(z)}{X(z)} \\rightarrow Y(z) = H(z)X(z)$\n",
    "\n",
    "Também podemos chegar a essa expressão pela propriedade da convolução da transformada Z:\n",
    "\n",
    "$y[n] = h[n]*x[n] \\rightarrow Y(z) = H(z)X(z)$\n",
    "\n",
    "Tendo $Y(z)$, basta calcular a sua transformada inversa para encontrar $y[n]$."
   ]
  },
  {
   "cell_type": "markdown",
   "metadata": {},
   "source": [
    "---\n",
    "\n",
    "### Exemplo 4\n",
    "\n",
    "Vamos considerar o mesmo sistema do exemplo 2 e encontrar o sinal de saída quando a entrada é um degrau.\n",
    "\n",
    "$x[n] = u[n]$\n",
    "\n",
    "A sua transformada Z é:\n",
    "\n",
    "$X(z) = \\frac{z}{z-1}$\n",
    "\n",
    "Então, a transformada Z do sinal de saída é:\n",
    "\n",
    "$Y(z) = H(z)X(z) = \\frac{1}{1 + 0.5z^{-1}}\\frac{z}{z-1} = \\frac{z}{z-0.5-0.5z^{-1}} = \\frac{z^2}{z^2-0.5z-0.5}=\\frac{z^2}{(z+0.5)(z-1)}$\n",
    "\n",
    "Expandindo $Y'(z)=\\frac{Y(z)}{z}$ em frações parciais:\n",
    "\n",
    "$Y'(z) = H(z)X(z) = \\frac{1}{1 + 0.5z^{-1}}\\frac{z}{z-1} = \\frac{z}{z-0.5-0.5z^{-1}} = \\frac{z^2}{z^2-0.5z-0.5}=\\frac{z}{(z+0.5)(z-1)} = \\frac{A_1}{z+0.5} + \\frac{A_2}{z-1}$\n",
    "\n",
    "Com\n",
    "\n",
    "$A_1 = \\left.\\frac{z}{z-1}\\right|_{z=-0.5}=0.333$ e $A_2=\\left.\\frac{z}{z+0.5}\\right|_{z=1}=0.67$\n",
    "\n",
    "Então $Y(z) = Y'(z)z$ é:\n",
    "\n",
    "$Y(z) = \\frac{0.33z}{z+0.5} + \\frac{0.67z}{z-1}$\n",
    "\n",
    "Com a transformada Z inversa de $Y(z)$, chegamos ao sinal de saída do sistema:\n",
    "\n",
    "$y[n] = 0.33(-0.5)^nu[n] + 0.67u[n]$\n",
    "\n",
    "Abaixo é mostrado o gráfico do sinal."
   ]
  },
  {
   "cell_type": "code",
   "execution_count": 22,
   "metadata": {
    "scrolled": true
   },
   "outputs": [
    {
     "data": {
      "image/png": "[encoded data removed]",
      "text/plain": [
       "<Figure size 640x480 with 1 Axes>"
      ]
     },
     "metadata": {},
     "output_type": "display_data"
    }
   ],
   "source": [
    "n = np.arange(20)\n",
    "y = 0.33*(-0.5)**n+0.67\n",
    "plt.stem(n, 0.33*(-0.5)**n+0.67);"
   ]
  },
  {
   "cell_type": "markdown",
   "metadata": {},
   "source": [
    "---"
   ]
  },
  {
   "cell_type": "markdown",
   "metadata": {},
   "source": [
    "## Resposta de entrada nula\n",
    "\n",
    "Na resposta de entrada nula, considera-se que não existe entrada. Dessa maneira, a equação de diferenças fica:\n",
    "\n",
    "$y[n] + a_{1}y[n-1] + ... + a_Ny[n-N] = 0$\n",
    "\n",
    "Aqui, vamos considerar as condições iniciais. A transformada Z de $y[n-M]$ quando existem condições iniciais no sinal $y[n]$ é:\n",
    "\n",
    "$\\mathcal{Z}(y[n-M]) = z^{-M}Y(z) + z^{-M}\\displaystyle\\sum_{k=1}^M y[-k]z^k$\n",
    "\n",
    "Fazendo essa substituição na equação de diferenças, é possível obter a resposta de entrada nula.\n"
   ]
  },
  {
   "cell_type": "markdown",
   "metadata": {},
   "source": [
    "---\n",
    "\n",
    "### Exemplo 5\n",
    "\n",
    "Vamos considerar o sistema do exemplo 1, com a seguinte equação de diferenças:\n",
    "\n",
    "$y[n] + 3y[n-1] - 4y[n-2] = 3x[n] + x[n-1]$\n",
    "\n",
    "$y[-1] = 1$ e $y[-2] = -1$ e um sinal de entrada $x[n] = \\mathrm{sen}\\left(\\frac{\\pi}{3}n\\right)u[n]$ \n",
    "\n",
    "Primeiro, vamos encontrar a resposta de entrada nula. Então, a transfromada Z da resposta de entrada nula:\n",
    "\n",
    "$Y_{zi}(z) + 3z^{-1}Y_{zi}(z) + 3y[-1]  - 4z^{-2}Y_{zi}(z) - 4(y[-2] + z^{-1}y[-1]) = 0$\n",
    "\n",
    "$Y_{zi}(z) = \\frac{-3y[-1]+4y[-2]+4z^{-1}y[-1]}{1 + 3z^{-1}- 4z^{-2}} = \\frac{-7+4z^{-1}}{1 + 3z^{-1}- 4z^{-2}}=\\frac{-7z^2+4z}{z^2 + 3z- 4z} = \\frac{-7z^2+4z}{(z+4)(z-1)}$\n",
    "\n",
    "Agora, fazemos a expansão em frações parciais de $Y'(z) = Y(z)/z$:\n",
    "\n",
    "\n",
    "$Y_{zi}(z) = \\frac{-7z^2+4z}{z(z+4)(z-1)} = \\frac{-7z+4}{(z+4)(z-1)} = \\frac{A_1}{z+4}+\\frac{A_2}{z-1}$\n",
    "\n",
    "$A_1 = \\left.\\frac{-7z+4}{z-1}\\right|_{z=-4} = 4.8$ e $A_2 = \\left.\\frac{-7z+4}{z+4}\\right|_{z=1} = -0.6$ \n",
    "\n",
    "Agora, conseguimos encontrar $y_{zi}[n]$:\n",
    "\n",
    "$Y_{zi}(z) = \\frac{4.8z}{z+4}-\\frac{0.6z}{z-1} \\rightarrow y_{zi}[n] = 4.8(-4)^n u[n] -0.6$\n",
    "\n",
    "\n",
    "\n",
    "---"
   ]
  },
  {
   "cell_type": "markdown",
   "metadata": {},
   "source": [
    "## Diagrama de blocos\n",
    "\n",
    "Com o conceito de transformada Z, podemos agora introduzir uma nova forma, muito mais utilizada, de representar um atraso no diagrama de blocos.\n",
    "\n",
    "<img src=Imagens/delayzdisc.png width=\"300\">\n",
    "\n",
    "Com a transformada Z é muito mais fácil obter a equação de diferenças a partir do diagrama de blocos. Basta substituir os sinais por suas transformadas e lembrar que a convolução no domínio do tempo é uma multiplicação no domínio da frequência.\n",
    "\n",
    "---\n",
    "\n",
    "### Exemplo 6\n",
    "\n",
    "Considere o seguinte diagrama de blocos:\n",
    "\n",
    "<img src=Imagens/diagexemploZ.png width=\"550\">\n",
    "\n",
    "Podemos chamar o resultado do somador à esquerda de $w[n]$. A sua transformada Z é $W(z)$, que é igual a:\n",
    "\n",
    "$W(z) = X(z) + 0.3z^{-1}W(z)-0.5z^{-2}W(z) \\rightarrow W(z) = \\frac{X(z)}{1-0.3z^{-1}W(z)+0.5z^{-2}}$\n",
    "\n",
    "E agora,  $Y(z)$ é:\n",
    "\n",
    "$Y(z) = 0.1W(z) - 0.3z^{-1}W(z) = \\frac{(0.1 - 0.3z^{-1})X(z)}{1-0.3z^{-1}W(z)+0.5z^{-2}}$\n",
    "\n",
    "Então:\n",
    "\n",
    "$(1-0.3z^{-1}W(z)+0.5z^{-2})Y(z) = ( 0.1 - 0.3z^{-1})X(z) \\rightarrow y[n]-0.3y[n-1]+0.5y[n-2] = 0.1x[n]-0.3x[n-1]$\n",
    "\n",
    "Seria muito difícil obter a equação de diferenças sem a transformada Z.\n",
    "\n",
    "---"
   ]
  },
  {
   "cell_type": "markdown",
   "metadata": {},
   "source": [
    "## Exercícios\n",
    "\n"
   ]
  },
  {
   "cell_type": "markdown",
   "metadata": {},
   "source": [
    "**1)** Qual é a função de transferência dos sistemas com as seguintes equações de diferenças:\n",
    "\n",
    "a) $y[n] = 3y[n-1] + 6y[n-2] + 4x[n]$\n",
    "\n",
    "b) $y[n] = 0.1y[n-1] + 2y[n-2] + x[n] - 0.1x[n-2]$ \n",
    "\n",
    "c) $y[n] + 5y[n-2] = x[n] + 2x[n-1]$\n"
   ]
  },
  {
   "cell_type": "markdown",
   "metadata": {},
   "source": [
    "**2)** Qual é a saída dos sistemas seguintes para as respectivas entradas. Considere que inicialmente o sistema está em repouso:\n",
    "\n",
    "a) $h[n] = (0.7)^nu[n]$ com $x[n] = (0.1)^nu[n]$\n",
    "\n",
    "b) \n",
    "\n",
    "<img src=Imagens/diagexecTF.png width=\"300\">\n",
    "\n",
    "$x[n] = \\left(\\frac{2}{3}\\right)^nu[n]$\n",
    "\n",
    "c) $H(z) = \\frac{z^{-1}+1}{1-0.2z^{-1}+ 0.4z^{-2}}$, com $x[n] = u[n]$\n",
    "\n",
    "\n",
    "d) $y[n] + 5y[n-2] = x[n] + 2x[n-1]$, e $x[n] = nu[n]$\n",
    "\n"
   ]
  },
  {
   "cell_type": "markdown",
   "metadata": {},
   "source": [
    "**3)** Encontre a saída dos sistemas com as seguintes respostas ao impulso para as respectivas entradas. Considere que inicialmente os sistemas se encontram em repouso.\n",
    "\n",
    "a) $h[n] = 0.5^nu[n]$ e $x[n] = u[n] - u[10]$\n",
    "\n",
    "b) $h[n] = (-0.1)^{n-1}u[n-1]$ e $x[n] = nu[n]$\n"
   ]
  },
  {
   "cell_type": "markdown",
   "metadata": {},
   "source": [
    "**4)** Um sistema com resposta ao impulso $h[n] = 2(0.2)^{n}u[n-1]$ gera uma saída $y[n] = (-3)^nu[n-1]$. Qual a entrada que gerou essa saída?"
   ]
  },
  {
   "cell_type": "markdown",
   "metadata": {
    "tags": []
   },
   "source": [
    "**5)** Qual a resposta ao impulso dos seguintes sistemas:\n",
    "\n",
    "a) $y[n] = -y[n-1] - 4y[n-2] + x[n] + 3x[n-1] + 2x[n-2]$\n",
    "\n",
    "b) $y[n+2] + 3y[n+1] + y[n] = 2x[n+2]-3x[n+1]$\n",
    "\n",
    "c) $y[n] = y[n-1] - 0.5y[n-2]+x[n]+2x[n-1]$\n"
   ]
  },
  {
   "cell_type": "markdown",
   "metadata": {},
   "source": [
    "**6)** Encontre o sinal de saída dos sistemas com as seguintes equações de diferenças tendo como entrada as respectivas entradas e as condições iniciais inidciadas.\n",
    "\n",
    "a) $y[n] = 0.5y[n-1] - 0.25y[n-2] = x[n]$,    $x[n] = 0.5^nu[n]$ e  $y[-1] = 0$ e $y[-2]=0$\n",
    "\n",
    "b) $y[n] = -2y[n-1]+x[n]$,    $x[n] = 0.5^nu[n]$ e  $y[-1] = 1$\n",
    "\n",
    "c) $y[n] = 0.2y[n-1]+ x[n] - 0.2x[n-1]$,    $x[n] = u[n]$ e  $y[-1] = 0$ \n",
    "\n",
    "d) $y[n] = 0.2y[n-1]+ x[n] - 0.2x[n-1]$,    $x[n] = u[n]$ e  $y[-1] = 1$"
   ]
  },
  {
   "cell_type": "markdown",
   "metadata": {},
   "source": [
    "## Referências\n",
    "\n",
    "- Ulaby, FT e Yagle, AE, Signals & Systems: Theory and Applications, 2018, [ss2.eecs.umich.edu](ss2.eecs.umich.edu)\n",
    "- Lathi, BP, Sinais e Sistemas Lineares, 2007\n",
    "- Oppenheim, M.  e Willsky, S., Sistemas e Sinais, 2010"
   ]
  },
  {
   "cell_type": "markdown",
   "metadata": {},
   "source": [
    "## Solução dos exercícios"
   ]
  },
  {
   "cell_type": "code",
   "execution_count": null,
   "metadata": {},
   "outputs": [],
   "source": []
  }
 ],
 "metadata": {
  "kernelspec": {
   "display_name": "Python 3 (ipykernel)",
   "language": "python",
   "name": "python3"
  },
  "language_info": {
   "codemirror_mode": {
    "name": "ipython",
    "version": 3
   },
   "file_extension": ".py",
   "mimetype": "text/x-python",
   "name": "python",
   "nbconvert_exporter": "python",
   "pygments_lexer": "ipython3",
   "version": "3.10.11"
  }
 },
 "nbformat": 4,
 "nbformat_minor": 4
}
