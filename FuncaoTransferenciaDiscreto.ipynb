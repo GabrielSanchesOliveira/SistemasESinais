{
 "cells": [
  {
   "cell_type": "markdown",
   "metadata": {},
   "source": [
    "# Função de transferência de sistemas discretos\n",
    "\n",
    "Renato Naville Watanabe"
   ]
  },
  {
   "cell_type": "markdown",
   "metadata": {},
   "source": [
    "## Preparação do ambiente"
   ]
  },
  {
   "cell_type": "code",
   "execution_count": 2,
   "metadata": {
    "tags": []
   },
   "outputs": [],
   "source": [
    "import matplotlib.pyplot as plt\n",
    "import numpy as np"
   ]
  },
  {
   "cell_type": "markdown",
   "metadata": {},
   "source": [
    "## Definição do problema\n",
    "\n",
    "Aqui, vamos considerar o formato geral de uma equação de diferenças de um sistema linear e invariante no tempo:\n",
    "\n",
    "$$y[n] + a_{1}y[n-1]+...+a_Ny[n-N] = b_Mx[n-M] +...+b_2x[n-2]+b_1x[n-1] + b_0x[n] $$\n",
    "\n",
    "Como já vimos anteriormente, a solução desta equação é formada por duas partes:\n",
    "\n",
    "$$y[n] = y_{zi}[n] + y_{zs}[n]$$\n",
    "\n",
    "em que $y_{zi}[n]$ é a parte de $y$ devida às condições iniciais do sinal de saída (os valores de $y[n-1], y[n-2], ..., y[n-N]$ quando $n$ = 0). Para o cálculo dessa componente, considera-se que a entrada $x[n]$ é nula ($zi$ é de *zero input*, **entrada nula** em inglês). \n",
    "\n",
    "A outra componente, $y_{zs}[n]$, é devido à entrada $x[n]$. Para o cálculo dessa componente consideramos que os valores de $y[n-1], y[n-2], ..., y[n-N]$ quando $n$ = 0 são todos iguais a 0 ($zs$ é de *zero state*, **estado nulo** em inglês, às vezes também chamado de **repouso**).\n",
    "\n",
    "Vamos agora encontrar essas duas partes da solução utilizando transformada Z. É consideravelmente mais simples do que o método clássico."
   ]
  },
  {
   "cell_type": "markdown",
   "metadata": {},
   "source": [
    "## Resposta de estado nulo\n",
    "\n",
    "\n",
    "\n",
    "Como já vimos anteriormente, a transformada Z de $x[n-m]$ é:\n",
    "\n",
    "$\\mathcal{Z}(x[n-m]) = z^{-m}X(z)$\n",
    "\n",
    "e a transformada Z de $y[n-m]$ é:\n",
    "\n",
    "$\\mathcal{Z}(y[n-m]) = z^{-m}Y(z)$"
   ]
  },
  {
   "cell_type": "markdown",
   "metadata": {},
   "source": [
    "Substituindo essas transformadas dos sinais atrasado na equação de diferenças, temos:\n",
    "\n",
    "$$Y(z) + a_{1}z^{-1}Y(z)+...+a_Nz^{-N}Y(z) = b_Mz^{-M}X(z) +...+b_2z^{-2}X(z)+b_1z^{-1}X(z) + b_0X(z) $$\n",
    "\n",
    "Com isso, podemos definir a função $H(z)$:\n",
    "\n",
    "$H(z) = \\frac{Y(z)}{X(z)} = \\frac{b_Mz^{-M} +...+b_2z^{-2}+b_1z^{-1} + b_0}{1 + a_{1}z^{-1}+...+a_Nz^{-N}}$\n",
    "\n",
    "Essa função é conhecida como **função de transferência** do sistema. Ela é obtida diretamente dos coeficientes da equação de diferenças."
   ]
  },
  {
   "cell_type": "markdown",
   "metadata": {},
   "source": [
    "---\n",
    "\n",
    "### Exemplo 1\n",
    "\n",
    "Vamos considerar o sistema com a seguinte equação de diferenças:\n",
    "\n",
    "$y[n] + 3y[n-1] - 4y[n-2] = 3x[n] + x[n-1]$\n",
    "\n",
    "A função de transferência deste sistema é:\n",
    "\n",
    "$H(z) = \\frac{3+z^{-1}}{1 + 3z^{-1}-4z^{-2}}$\n",
    "\n",
    "---"
   ]
  },
  {
   "cell_type": "markdown",
   "metadata": {},
   "source": [
    "---\n",
    "\n",
    "### Exemplo 2\n",
    "\n",
    "Vamos considerar o sistema com a seguinte equação de diferenças:\n",
    "\n",
    "$y[n]  = -0.5y[n-1] + x[n]$\n",
    "\n",
    "A função de transferência deste sistema é:\n",
    "\n",
    "$H(z) = \\frac{1}{1 + 0.5z^{-1}}$\n",
    "\n",
    "---"
   ]
  },
  {
   "cell_type": "markdown",
   "metadata": {},
   "source": [
    "Observando a expressão da função de transferência, vemos que se $X(z) = 1$, $Y(z) = H(z)$. O sinal $x[n]$ que tem uma transformada Z igual a 1 é o impulso unitário ($x[n]=\\delta[n]$). Portanto a função de transferência é a transformada Z da resposta ao impulso.\n",
    "\n",
    "$H(z) = \\displaystyle\\sum_{n=0}^\\infty h(n)z^{-n}$"
   ]
  },
  {
   "cell_type": "markdown",
   "metadata": {},
   "source": [
    "---\n",
    "\n",
    "### Exemplo 3\n",
    "\n",
    "A resposta ao impulso do sistema do exemplo 2 é:\n",
    "\n",
    "$h[n] = (-0.5)^nu[n]$\n",
    "\n",
    "A transformada Z dessa resposta ao impulso é:\n",
    "\n",
    "$H(z) = \\displaystyle\\sum_{n=0}^\\infty  (-0.5)^nu[n] z^{-n}= \\displaystyle\\sum_{n=0}^\\infty  (-0.5)^nz^{-n} = \\displaystyle\\sum_{n=0}^\\infty  (-0.5z^{-1})^n = \\frac{1}{1 + 0.5z^{-1}}=\\frac{z}{z+0.5}$\n",
    "\n",
    "Como esperado, a função encontrada foi a mesma do exemplo 2.\n",
    "\n",
    "---"
   ]
  },
  {
   "cell_type": "markdown",
   "metadata": {},
   "source": [
    "A partir da expressão da função de transferência, chegamos à expressão para $Y(z)$:\n",
    "\n",
    "$H(z) = \\frac{Y(z)}{X(z)} \\rightarrow Y(z) = H(z)X(z)$\n",
    "\n",
    "Também podemos chegar a essa expressão pela propriedade da convolução da transformada Z:\n",
    "\n",
    "$y[n] = h[n]*x[n] \\rightarrow Y(z) = H(z)X(z)$\n",
    "\n",
    "Tendo $Y(z)$, basta calcular a sua transformada inversa para encontrar $y[n]$."
   ]
  },
  {
   "cell_type": "markdown",
   "metadata": {},
   "source": [
    "---\n",
    "\n",
    "### Exemplo 4\n",
    "\n",
    "Vamos considerar o mesmo sistema do exemplo 2 e encontrar o sinal de saída quando a entrada é um degrau.\n",
    "\n",
    "$x[n] = u[n]$\n",
    "\n",
    "A sua transformada Z é:\n",
    "\n",
    "$X(z) = \\frac{z}{z-1}$\n",
    "\n",
    "Então, a transformada Z do sinal de saída é:\n",
    "\n",
    "$Y(z) = H(z)X(z) = \\frac{1}{1 + 0.5z^{-1}}\\frac{z}{z-1} = \\frac{z}{z-0.5-0.5z^{-1}} = \\frac{z^2}{z^2-0.5z-0.5}=\\frac{z^2}{(z+0.5)(z-1)}$\n",
    "\n",
    "Expandindo $Y'(z)=\\frac{Y(z)}{z}$ em frações parciais:\n",
    "\n",
    "$Y'(z) = H(z)X(z) = \\frac{1}{1 + 0.5z^{-1}}\\frac{z}{z-1} = \\frac{z}{z-0.5-0.5z^{-1}} = \\frac{z^2}{z^2-0.5z-0.5}=\\frac{z}{(z+0.5)(z-1)} = \\frac{A_1}{z+0.5} + \\frac{A_2}{z-1}$\n",
    "\n",
    "Com\n",
    "\n",
    "$A_1 = \\left.\\frac{z}{z-1}\\right|_{z=-0.5}=0.333$ e $A_2=\\left.\\frac{z}{z+0.5}\\right|_{z=1}=0.67$\n",
    "\n",
    "Então $Y(z) = Y'(z)z$ é:\n",
    "\n",
    "$Y(z) = \\frac{0.33z}{z+0.5} + \\frac{0.67z}{z-1}$\n",
    "\n",
    "Com a transformada Z inversa de $Y(z)$, chegamos ao sinal de saída do sistema:\n",
    "\n",
    "$y[n] = 0.33(-0.5)^nu[n] + 0.67u[n]$\n",
    "\n",
    "Abaixo é mostrado o gráfico do sinal."
   ]
  },
  {
   "cell_type": "code",
   "execution_count": 22,
   "metadata": {
    "scrolled": true
   },
   "outputs": [
    {
     "data": {
      "image/png": "[encoded data removed]",
      "text/plain": [
       "<Figure size 640x480 with 1 Axes>"
      ]
     },
     "metadata": {},
     "output_type": "display_data"
    }
   ],
   "source": [
    "n = np.arange(20)\n",
    "y = 0.33*(-0.5)**n+0.67\n",
    "plt.stem(n, 0.33*(-0.5)**n+0.67);"
   ]
  },
  {
   "cell_type": "markdown",
   "metadata": {},
   "source": [
    "---"
   ]
  },
  {
   "cell_type": "markdown",
   "metadata": {},
   "source": [
    "## Resposta de entrada nula\n",
    "\n",
    "Na resposta de entrada nula, considera-se que não existe entrada. Dessa maneira, a equação de diferenças fica:\n",
    "\n",
    "$y[n] + a_{1}y[n-1] + ... + a_Ny[n-N] = 0$\n",
    "\n",
    "Aqui, vamos considerar as condições iniciais. A transformada Z de $y[n-M]$ quando existem condições iniciais no sinal $y[n]$ é:\n",
    "\n",
    "$\\mathcal{Z}(y[n-M]) = z^{-M}Y(z) + z^{-M}\\displaystyle\\sum_{k=1}^M y[-k]z^k$\n",
    "\n",
    "Fazendo essa substituição na equação de diferenças, é possível obter a resposta de entrada nula.\n"
   ]
  },
  {
   "cell_type": "markdown",
   "metadata": {},
   "source": [
    "---\n",
    "\n",
    "### Exemplo 5\n",
    "\n",
    "Vamos considerar o sistema do exemplo 1, com a seguinte equação de diferenças:\n",
    "\n",
    "$y[n] + 3y[n-1] - 4y[n-2] = 3x[n] + x[n-1]$\n",
    "\n",
    "$y[-1] = 1$ e $y[-2] = -1$ e um sinal de entrada $x[n] = \\mathrm{sen}\\left(\\frac{\\pi}{3}n\\right)u[n]$ \n",
    "\n",
    "Primeiro, vamos encontrar a resposta de entrada nula. Então, a transfromada Z da resposta de entrada nula:\n",
    "\n",
    "$Y_{zi}(z) + 3z^{-1}Y_{zi}(z) + 3y[-1]  - 4z^{-2}Y_{zi}(z) - 4(y[-2] + z^{-1}y[-1]) = 0$\n",
    "\n",
    "$Y_{zi}(z) = \\frac{-3y[-1]+4y[-2]+4z^{-1}y[-1]}{1 + 3z^{-1}- 4z^{-2}} = \\frac{-7+4z^{-1}}{1 + 3z^{-1}- 4z^{-2}}=\\frac{-7z^2+4z}{z^2 + 3z- 4z} = \\frac{-7z^2+4z}{(z+4)(z-1)}$\n",
    "\n",
    "Agora, fazemos a expansão em frações parciais de $Y'(z) = Y(z)/z$:\n",
    "\n",
    "\n",
    "$Y_{zi}(z) = \\frac{-7z^2+4z}{z(z+4)(z-1)} = \\frac{-7z+4}{(z+4)(z-1)} = \\frac{A_1}{z+4}+\\frac{A_2}{z-1}$\n",
    "\n",
    "$A_1 = \\left.\\frac{-7z+4}{z-1}\\right|_{z=-4} = 4.8$ e $A_2 = \\left.\\frac{-7z+4}{z+4}\\right|_{z=1} = -0.6$ \n",
    "\n",
    "Agora, conseguimos encontrar $y_{zi}[n]$:\n",
    "\n",
    "$Y_{zi}(z) = \\frac{4.8z}{z+4}-\\frac{0.6z}{z-1} \\rightarrow y_{zi}[n] = 4.8(-4)^n u[n] -0.6$\n",
    "\n",
    "\n",
    "\n",
    "---"
   ]
  },
  {
   "cell_type": "markdown",
   "metadata": {},
   "source": [
    "## Associações em série e  paralelo de sistemas\n",
    "\n",
    "Uma outra maneira de representar um sistema no diagrama de blocos é colocando a sua função de transferência dentro do bloco\n",
    "\n",
    "Abaixo, estão duas associações bem comuns de sistemas. Em paralelo e em série.\n",
    "\n",
    "Em paralelo, a função de transferência do sistema resulatante é a soma das funções de transferência de cada subsistema.\n",
    "\n",
    "<img src=Imagens/distributivaTF.png width=\"600\">\n",
    "\n",
    "\n",
    "Em série, a função de transferência do sistema resultante é a multiplicação das funções de transferência de cada subsistema.\n",
    "\n",
    "<img src=Imagens/associativaTF.png width=\"500\">"
   ]
  },
  {
   "cell_type": "markdown",
   "metadata": {},
   "source": [
    "## Diagrama de blocos\n",
    "\n",
    "Com o conceito de transformada Z, podemos agora introduzir uma nova forma, muito mais utilizada, de representar um atraso no diagrama de blocos.\n",
    "\n",
    "<img src=Imagens/delayzdisc.png width=\"300\">\n",
    "\n",
    "Com a transformada Z é muito mais fácil obter a equação de diferenças a partir do diagrama de blocos. Basta substituir os sinais por suas transformadas e lembrar que a convolução no domínio do tempo é uma multiplicação no domínio da frequência.\n",
    "\n",
    "---\n",
    "\n",
    "### Exemplo 6\n",
    "\n",
    "Considere o seguinte diagrama de blocos:\n",
    "\n",
    "<img src=Imagens/diagexemploZ.png width=\"550\">\n",
    "\n",
    "Podemos chamar o resultado do somador à esquerda de $w[n]$. A sua transformada Z é $W(z)$, que é igual a:\n",
    "\n",
    "$W(z) = X(z) + 0.3z^{-1}W(z)-0.5z^{-2}W(z) \\rightarrow W(z) = \\frac{X(z)}{1-0.3z^{-1}W(z)+0.5z^{-2}}$\n",
    "\n",
    "E agora,  $Y(z)$ é:\n",
    "\n",
    "$Y(z) = 0.1W(z) - 0.3z^{-1}W(z) = \\frac{(0.1 - 0.3z^{-1})X(z)}{1-0.3z^{-1}W(z)+0.5z^{-2}}$\n",
    "\n",
    "Então:\n",
    "\n",
    "$(1-0.3z^{-1}W(z)+0.5z^{-2})Y(z) = ( 0.1 - 0.3z^{-1})X(z) \\rightarrow y[n]-0.3y[n-1]+0.5y[n-2] = 0.1x[n]-0.3x[n-1]$\n",
    "\n",
    "Seria muito difícil obter a equação de diferenças sem a transformada Z.\n",
    "\n",
    "---"
   ]
  },
  {
   "cell_type": "markdown",
   "metadata": {},
   "source": [
    "Para obter o diagrama de blocos a partir da função de transferência, basta dividir a função de transferência como:\n",
    "\n",
    "$H(s) = \\frac{num(s)}{den(s)} = \\frac{1}{den(s)}num(s)$\n",
    "\n",
    "\n",
    "\n",
    "Isso é como se tivéssemos dois sistemas em série. O primeiro sistema não contém nenhuma derivada da entrada, então fazer o seu diagrama de blocos é trivial. O segundo sistema vai pegar a saída do primeiro sistema e suas derivadas.\n",
    "\n",
    "<img src=Imagens/numdendiag.png width=\"600\">\n",
    "\n",
    "---\n",
    "\n",
    "### Exemplo 7\n",
    "\n",
    "Considere um sistema com a seguinte equação diferencial:\n",
    "\n",
    "$$\\frac{d^2y}{dt^2} = -3\\frac{dy}{dt} + y + 2\\frac{dx}{dt} + x(t)$$\n",
    "\n",
    "A sua função de transferência é:\n",
    "\n",
    "$H(s) = \\frac{2s+1}{s^2+3s-1} = \\frac{1}{s^2+3s-1}(2s+1)$\n",
    "\n",
    "A equação diferencial do primeiro sistema é:\n",
    "\n",
    "$$\\frac{d^2y}{dt^2} = -3\\frac{dy}{dt} + y + x(t)$$\n",
    "\n",
    "Que tem o seguinte diagrama de blocos:\n",
    "\n",
    "\n",
    "<img src=Imagens/exemploTFdiag.png width=\"400\">\n",
    "\n",
    "\n",
    "O segundo sistema tem a seguinte equação diferencial:\n",
    "\n",
    "$y(t) = 2\\frac{dx}{dt} + x(t)$\n",
    "\n",
    "\n",
    "<img src=Imagens/exemploTFdiag2.png width=\"400\">\n",
    "\n",
    "---"
   ]
  },
  {
   "cell_type": "markdown",
   "metadata": {},
   "source": [
    "É importante enfatizar que esse é apenas um diagrama de blocos possível para o sistema. Existem diversos diagramas de blocos possíveis para um mesmo sistema."
   ]
  },
  {
   "cell_type": "markdown",
   "metadata": {},
   "source": [
    "## Polos e zeros\n",
    "\n",
    "O valor dos polos e zeros, juntamente com o valor da função de transferência em $H(0)$ também caracterizam completamente o sistema, já que é possível construir a função de transferência a partir dessas informações.\n",
    "\n",
    "---\n",
    "\n",
    "### Exemplo 8\n",
    "\n",
    "Um sistema tem os polos em -2 e -4 e zeros em -1. Além disso, $H(0) = 3$.\n",
    "\n",
    "Então, a sua função de transferência é:\n",
    "\n",
    "$H(s) = \\frac{G(s+1)}{(s+2)(s+4)} = \\frac{G(s+1)}{s^2+6s+8}$\n",
    "\n",
    "$H(0) = 3 = \\frac{G}{8} \\rightarrow G = 24$\n",
    "\n",
    "Então: \n",
    "\n",
    "$H(s) = \\frac{24s+24}{s^2+6s+8}$\n",
    "\n",
    "---"
   ]
  },
  {
   "cell_type": "markdown",
   "metadata": {
    "slideshow": {
     "slide_type": "slide"
    },
    "tags": []
   },
   "source": [
    "## Relação entre as diferentes representações de um sistema linear e invariante no tempo\n",
    "\n",
    "\n",
    "Até agora vimos diversas  formas de representar o comportamento dinâmico de sistemas lineares e invariantes no tempo. Sempre conseguimos chegar de uma até outra \n",
    "\n",
    "\n",
    "<img src=Imagens/relacoesH.png width=\"900\">"
   ]
  },
  {
   "cell_type": "markdown",
   "metadata": {},
   "source": [
    "## Regime permanente e transitório\n",
    "\n",
    "É muio comum na prática da engenharia dividir o sinal de saída em duas partes:\n",
    "\n",
    "- **transitório**: é a parte da saída que tende a zero com o passar do tempo, como uma exponencial com parte real negativa.\n",
    "\n",
    "\n",
    "- **regime permanente**: é a parte da saída que permanece até o infinito.\n",
    "\n",
    "---\n",
    "\n",
    "### Exemplo 9\n",
    "\n",
    "Um sistema tem a seguinte função de transferência:\n",
    "\n",
    "$H(s) = \\frac{1}{s+3}$\n",
    "\n",
    "É colocada uma entrada cossenoidal com frequência 3 Hz e amplitude 1 a partir de $t=0$ s:\n",
    "\n",
    "$x(t) = \\cos(3 t)u(t)$\n",
    "\n",
    "A transformada de Laplace desse sinal é:\n",
    "\n",
    "$X(s) = \\frac{s}{s^2+9}$\n",
    "\n",
    "\n",
    "Então, a transformada de Laplace do sinal de saída é:\n",
    "\n",
    "$Y(s) = \\frac{1}{s+3}\\frac{s}{s^2+9} = \\frac{s}{(s+3j)(s-3j)(s+3)} = \\frac{A_1}{s+3} + \\frac{A_2}{s+3j}+\\frac{A_3}{s-3j}$\n",
    "\n",
    "$A_1 = \\frac{-3}{(-3+3j)(-3-3j)} =-0.167 $\n",
    "\n",
    "$A_2 = \\frac{-3j}{(-3j+3)(-6j)} =0.11e^{j\\frac{\\pi}{4}} $\n",
    "\n",
    "$A_3 = \\frac{-3j}{(-3j+3)(-6j)} =0.11e^{-j\\frac{\\pi}{4}} $\n",
    "\n",
    "Então:\n",
    "\n",
    "$y(t) = -0.167e^{-3t}u(t) + 0.22\\cos\\left(3t-\\frac{\\pi}{4}\\right)u(t) $\n",
    "\n"
   ]
  },
  {
   "cell_type": "code",
   "execution_count": 11,
   "metadata": {
    "tags": []
   },
   "outputs": [
    {
     "data": {
      "application/vnd.jupyter.widget-view+json": {
       "model_id": "d215ccda03cf40ca9e77d9758c2aa589",
       "version_major": 2,
       "version_minor": 0
      },
      "image/png": "[encoded data removed]",
      "text/html": [
       "\n",
       "            <div style=\"display: inline-block;\">\n",
       "                <div class=\"jupyter-widgets widget-label\" style=\"text-align: center;\">\n",
       "                    Figure\n",
       "                </div>\n",
       "                <img src='data:image/png;base64,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' width=640.0/>\n",
       "            </div>\n",
       "        "
      ],
      "text/plain": [
       "Canvas(toolbar=Toolbar(toolitems=[('Home', 'Reset original view', 'home', 'home'), ('Back', 'Back to previous …"
      ]
     },
     "metadata": {},
     "output_type": "display_data"
    }
   ],
   "source": [
    "t = sym.symbols('t')\n",
    "y = (-0.167*sym.exp(-3*t)+0.22*sym.cos(3*t-sym.pi/4))*sym.Heaviside(t)\n",
    "p1 = sym.plot(y, (t, 0, 7))\n",
    "fig = p1._backend.fig\n",
    "ax = p1._backend.ax[0]\n",
    "ax.plot([1, 1], [-0.3, 0.3], color='dodgerblue', ls='--')\n",
    "ax.text(3, 0.25, 'Regime permanente')\n",
    "ax.text(0, 0.25, 'Transitório')\n",
    "fig.canvas.draw_idle()"
   ]
  },
  {
   "cell_type": "markdown",
   "metadata": {},
   "source": [
    "No gráfico acima do sinal de saída é possível ver que até aproximadamente 1 segundo o sinal de saída ainda não chegou no comportamento após 1 segundo. Até 1 segundo, aproximadamente, está o transitório. Depois que o transitório acaba, o sinal entra no regime permanente. O transitório é devido à exponencial e o regime permanente devido à senoide.\n",
    "\n",
    "---"
   ]
  },
  {
   "cell_type": "markdown",
   "metadata": {},
   "source": [
    "## Exercícios\n",
    "\n"
   ]
  },
  {
   "cell_type": "markdown",
   "metadata": {},
   "source": [
    "**1)** Qual é a função de transferência dos sistemas com as seguintes equações de diferenças:\n",
    "\n",
    "a) $y[n] = 3y[n-1] + 6y[n-2] + 4x[n]$\n",
    "\n",
    "b) $y[n] = 0.1y[n-1] + 2y[n-2] + x[n] - 0.1x[n-2]$ \n",
    "\n",
    "c) $y[n] + 5y[n-2] = x[n] + 2x[n-1]$\n"
   ]
  },
  {
   "cell_type": "markdown",
   "metadata": {},
   "source": [
    "**2)** Qual é a saída dos sistemas seguintes para as respectivas entradas. Considere que inicialmente o sistema está em repouso:\n",
    "\n",
    "a) $h[n] = (0.7)^nu[n]$ com $x[n] = (0.1)^nu[n]$\n",
    "\n",
    "b) \n",
    "\n",
    "<img src=Imagens/diagexecTF.png width=\"300\">\n",
    "\n",
    "$x[n] = \\left(\\frac{2}{3}\\right)^nu[n]$\n",
    "\n",
    "c) $H(z) = \\frac{z^{-1}+1}{1-0.2z^{-1}+ 0.4z^{-2}}$, com $x[n] = u[n]$\n",
    "\n",
    "\n",
    "d) $y[n] + 5y[n-2] = x[n] + 2x[n-1]$, e $x[n] = nu[n]$\n",
    "\n"
   ]
  },
  {
   "cell_type": "markdown",
   "metadata": {},
   "source": [
    "**3)** Encontre a saída dos sistemas com as seguintes respostas ao impulso para as respectivas entradas. Considere que inicialmente os sistemas se encontram em repouso.\n",
    "\n",
    "a) $h[n] = 0.5^nu[n]$ e $x[n] = u[n] - u[10]$\n",
    "\n",
    "b) $h[n] = (-0.1)^{n-1}u[n-1]$ e $x[n] = nu[n]$\n"
   ]
  },
  {
   "cell_type": "markdown",
   "metadata": {},
   "source": [
    "**4)** Um sistema com resposta ao impulso $h[n] = 2(0.2)^{n}u[n-1]$ gera uma saída $y[n] = (-3)^nu[n-1]$. Qual a entrada que gerou essa saída?"
   ]
  },
  {
   "cell_type": "markdown",
   "metadata": {
    "tags": []
   },
   "source": [
    "**5)** Qual a resposta ao impulso dos seguintes sistemas:\n",
    "\n",
    "a) $y[n] = -y[n-1] - 4y[n-2] + x[n] + 3x[n-1] + 2x[n-2]$\n",
    "\n",
    "b) $y[n+2] + 3y[n+1] + y[n] = 2x[n+2]-3x[n+1]$\n",
    "\n",
    "c) $y[n] = y[n-1] - 0.5y[n-2]+x[n]+2x[n-1]$\n"
   ]
  },
  {
   "cell_type": "markdown",
   "metadata": {},
   "source": [
    "**6)** Encontre o sinal de saída dos sistemas com as seguintes equações de diferenças tendo como entrada as respectivas entradas e as condições iniciais inidciadas.\n",
    "\n",
    "a) $y[n] = 0.5y[n-1] - 0.25y[n-2] = x[n]$,    $x[n] = 0.5^nu[n]$ e  $y[-1] = 0$ e $y[-2]=0$\n",
    "\n",
    "b) $y[n] = -2y[n-1]+x[n]$,    $x[n] = 0.5^nu[n]$ e  $y[-1] = 1$\n",
    "\n",
    "c) $y[n] = 0.2y[n-1]+ x[n] - 0.2x[n-1]$,    $x[n] = u[n]$ e  $y[-1] = 0$ \n",
    "\n",
    "d) $y[n] = 0.2y[n-1]+ x[n] - 0.2x[n-1]$,    $x[n] = u[n]$ e  $y[-1] = 1$"
   ]
  },
  {
   "cell_type": "markdown",
   "metadata": {},
   "source": [
    "## Referências\n",
    "\n",
    "- Ulaby, FT e Yagle, AE, Signals & Systems: Theory and Applications, 2018, [ss2.eecs.umich.edu](ss2.eecs.umich.edu)\n",
    "- Lathi, BP, Sinais e Sistemas Lineares, 2007\n",
    "- Oppenheim, M.  e Willsky, S., Sistemas e Sinais, 2010"
   ]
  },
  {
   "cell_type": "markdown",
   "metadata": {},
   "source": [
    "## Solução dos exercícios"
   ]
  },
  {
   "cell_type": "code",
   "execution_count": null,
   "metadata": {},
   "outputs": [],
   "source": []
  }
 ],
 "metadata": {
  "kernelspec": {
   "display_name": "Python 3 (ipykernel)",
   "language": "python",
   "name": "python3"
  },
  "language_info": {
   "codemirror_mode": {
    "name": "ipython",
    "version": 3
   },
   "file_extension": ".py",
   "mimetype": "text/x-python",
   "name": "python",
   "nbconvert_exporter": "python",
   "pygments_lexer": "ipython3",
   "version": "3.10.11"
  }
 },
 "nbformat": 4,
 "nbformat_minor": 4
}
